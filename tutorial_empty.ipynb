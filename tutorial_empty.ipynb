{
 "cells": [
  {
   "cell_type": "markdown",
   "metadata": {},
   "source": [
    "# Polars Tutorial"
   ]
  },
  {
   "cell_type": "code",
   "execution_count": 1,
   "metadata": {},
   "outputs": [],
   "source": [
    "import pandas as pd\n",
    "import polars as pl\n",
    "from pathlib import Path"
   ]
  },
  {
   "cell_type": "markdown",
   "metadata": {},
   "source": [
    "# Motivation"
   ]
  },
  {
   "cell_type": "markdown",
   "metadata": {},
   "source": [
    "## Multi-Language\n",
    "- Python\n",
    "- Rust\n",
    "- JS\n",
    "- R (nascent)\n",
    "- Ruby (nascent)\n",
    "\n",
    "## Separate Data from Logic\n",
    "- Speed optimization\n",
    "- Method chaining\n",
    "- --> better code & can customize logic more extensively\n",
    "\n",
    "## Speed\n",
    "- Built-in parallelization + many other optimizations\n",
    "- ~10-100X faster than pandas\n",
    "\n",
    "<img src=\"assets/benchmark.png\" alt=\"image\" style=\"width:1000px;\">\n",
    "\n",
    "## Memory Optimization\n",
    "- Larger than memory data\n",
    "- More efficient storage --> can load more data into memory\n",
    "- Wes McKinney's rule of thumb (pandas): \"you should have 5 to 10 times as much RAM as the size of your dataset\". 💀❌💀\n",
    "\n",
    "## Syntax\n",
    "- Method chaining --> one interaction with data --> better code\n",
    "- Better dtypes (formal lists, structs, strict numerics)\n",
    "- No more indexes!!\n",
    "\n",
    "## Downsides\n",
    "- Less popular (for now...)\n",
    "    - ==> less stackoverflow/etc\n",
    "    - ==> less LLM knowledge\n",
    "- Can be verbose, especially at first\n",
    "- Learning curve\n",
    "\n",
    "<img src=\"assets/star-history-202542.png\" alt=\"image\" style=\"width: 800px;\">\n",
    "<!-- <img src=\"assets/benchmark.png\" alt=\"image\" style=\"width:1200px;\"> -->\n"
   ]
  },
  {
   "cell_type": "markdown",
   "metadata": {},
   "source": [
    "# Tutorial"
   ]
  },
  {
   "cell_type": "markdown",
   "metadata": {},
   "source": [
    "## Sample Dataset"
   ]
  },
  {
   "cell_type": "code",
   "execution_count": 2,
   "metadata": {},
   "outputs": [],
   "source": [
    "DATA_PATH = Path(\"data/trade_i_baci_a_17__2022.parquet\")"
   ]
  },
  {
   "cell_type": "markdown",
   "metadata": {},
   "source": [
    "### Dataset Preview\n",
    "\n",
    "**Shape:** (11,375,504, 12)\n",
    "\n",
    "| year | exporter_id | exporter_name | importer_id | ... | value  | quantity | unit_abbrev | unit_name   |\n",
    "|------|-------------|---------------|-------------|-----|--------|----------|-------------|-------------|\n",
    "| i64  | str         | str           | str         |     | f64    | f64      | str         | str         |\n",
    "| 2022 | BEL         | Belgium       | POL         | ... | 328.0  | 0.019    | mt          | Metric Tons |\n",
    "| 2022 | BEL         | Belgium       | POL         | ... | 54.0   | 0.026    | mt          | Metric Tons |\n",
    "| 2022 | BEL         | Belgium       | POL         | ... | 690.0  | 1.022    | mt          | Metric Tons |\n",
    "| 2022 | BEL         | Belgium       | POL         | ... | 159.0  | 0.061    | mt          | Metric Tons |\n",
    "| 2022 | BEL         | Belgium       | POL         | ... | 219.0  | 0.184    | mt          | Metric Tons |\n",
    "| ...  | ...         | ...           | ...         | ... | ...    | ...      | ...         | ...         |\n",
    "| 2022 | GHA         | Ghana         | NOR         | ... | 1579.0 | 0.105    | mt          | Metric Tons |\n",
    "| 2022 | GHA         | Ghana         | NOR         | ... | 2208.0 | 0.099    | mt          | Metric Tons |\n",
    "| 2022 | GHA         | Ghana         | NOR         | ... | 156.0  | 0.018    | mt          | Metric Tons |\n",
    "| 2022 | GHA         | Ghana         | NOR         | ... | 38.0   | 0.001    | mt          | Metric Tons |\n",
    "| 2022 | GHA         | Ghana         | NOR         | ... | 644.0  | 0.007    | mt          | Metric Tons |"
   ]
  },
  {
   "cell_type": "markdown",
   "metadata": {},
   "source": [
    "## Example: read data"
   ]
  },
  {
   "cell_type": "markdown",
   "metadata": {},
   "source": [
    "### Pandas"
   ]
  },
  {
   "cell_type": "code",
   "execution_count": 3,
   "metadata": {},
   "outputs": [],
   "source": [
    "pd_df: pd.DataFrame = pd.read_parquet(DATA_PATH)"
   ]
  },
  {
   "cell_type": "markdown",
   "metadata": {},
   "source": [
    "#### Check Memory Usage"
   ]
  },
  {
   "cell_type": "code",
   "execution_count": 4,
   "metadata": {},
   "outputs": [
    {
     "data": {
      "text/plain": [
       "np.float64(5.44419311452657)"
      ]
     },
     "execution_count": 4,
     "metadata": {},
     "output_type": "execute_result"
    }
   ],
   "source": [
    "pd_df.memory_usage(deep=True).sum() / (1024**3)  # convert bytes to GB"
   ]
  },
  {
   "cell_type": "markdown",
   "metadata": {},
   "source": [
    "### Polars"
   ]
  },
  {
   "cell_type": "code",
   "execution_count": 5,
   "metadata": {},
   "outputs": [],
   "source": [
    "pl_df: pl.dataframe = pl.read_parquet(DATA_PATH)"
   ]
  },
  {
   "cell_type": "markdown",
   "metadata": {},
   "source": [
    "#### Check Memory Usage"
   ]
  },
  {
   "cell_type": "code",
   "execution_count": 6,
   "metadata": {},
   "outputs": [
    {
     "data": {
      "text/plain": [
       "1.290832537226379"
      ]
     },
     "execution_count": 6,
     "metadata": {},
     "output_type": "execute_result"
    }
   ],
   "source": [
    "pl_df.estimated_size() / (1024**3)  # convert bytes to GB"
   ]
  },
  {
   "cell_type": "markdown",
   "metadata": {},
   "source": [
    "## Example: Select Data\n",
    "\n",
    "`[\"exporter_id\"]`  \n",
    "\n",
    "`[\"exporter_id\", \"exporter_name\"]`"
   ]
  },
  {
   "cell_type": "code",
   "execution_count": 8,
   "metadata": {},
   "outputs": [
    {
     "data": {
      "text/html": [
       "<div>\n",
       "<style scoped>\n",
       "    .dataframe tbody tr th:only-of-type {\n",
       "        vertical-align: middle;\n",
       "    }\n",
       "\n",
       "    .dataframe tbody tr th {\n",
       "        vertical-align: top;\n",
       "    }\n",
       "\n",
       "    .dataframe thead th {\n",
       "        text-align: right;\n",
       "    }\n",
       "</style>\n",
       "<table border=\"1\" class=\"dataframe\">\n",
       "  <thead>\n",
       "    <tr style=\"text-align: right;\">\n",
       "      <th></th>\n",
       "      <th>exporter_id</th>\n",
       "      <th>exporter_name</th>\n",
       "    </tr>\n",
       "  </thead>\n",
       "  <tbody>\n",
       "    <tr>\n",
       "      <th>0</th>\n",
       "      <td>BEL</td>\n",
       "      <td>Belgium</td>\n",
       "    </tr>\n",
       "    <tr>\n",
       "      <th>1</th>\n",
       "      <td>BEL</td>\n",
       "      <td>Belgium</td>\n",
       "    </tr>\n",
       "    <tr>\n",
       "      <th>2</th>\n",
       "      <td>BEL</td>\n",
       "      <td>Belgium</td>\n",
       "    </tr>\n",
       "    <tr>\n",
       "      <th>3</th>\n",
       "      <td>BEL</td>\n",
       "      <td>Belgium</td>\n",
       "    </tr>\n",
       "    <tr>\n",
       "      <th>4</th>\n",
       "      <td>BEL</td>\n",
       "      <td>Belgium</td>\n",
       "    </tr>\n",
       "    <tr>\n",
       "      <th>...</th>\n",
       "      <td>...</td>\n",
       "      <td>...</td>\n",
       "    </tr>\n",
       "    <tr>\n",
       "      <th>11375499</th>\n",
       "      <td>BEL</td>\n",
       "      <td>Belgium</td>\n",
       "    </tr>\n",
       "    <tr>\n",
       "      <th>11375500</th>\n",
       "      <td>BEL</td>\n",
       "      <td>Belgium</td>\n",
       "    </tr>\n",
       "    <tr>\n",
       "      <th>11375501</th>\n",
       "      <td>BEL</td>\n",
       "      <td>Belgium</td>\n",
       "    </tr>\n",
       "    <tr>\n",
       "      <th>11375502</th>\n",
       "      <td>BEL</td>\n",
       "      <td>Belgium</td>\n",
       "    </tr>\n",
       "    <tr>\n",
       "      <th>11375503</th>\n",
       "      <td>BEL</td>\n",
       "      <td>Belgium</td>\n",
       "    </tr>\n",
       "  </tbody>\n",
       "</table>\n",
       "<p>11375504 rows × 2 columns</p>\n",
       "</div>"
      ],
      "text/plain": [
       "         exporter_id exporter_name\n",
       "0                BEL       Belgium\n",
       "1                BEL       Belgium\n",
       "2                BEL       Belgium\n",
       "3                BEL       Belgium\n",
       "4                BEL       Belgium\n",
       "...              ...           ...\n",
       "11375499         BEL       Belgium\n",
       "11375500         BEL       Belgium\n",
       "11375501         BEL       Belgium\n",
       "11375502         BEL       Belgium\n",
       "11375503         BEL       Belgium\n",
       "\n",
       "[11375504 rows x 2 columns]"
      ]
     },
     "metadata": {},
     "output_type": "display_data"
    }
   ],
   "source": [
    "# display(pd_df[\"exporter_id\"])\n",
    "display(pd_df[[\"exporter_id\", \"exporter_name\"]])"
   ]
  },
  {
   "cell_type": "code",
   "execution_count": 13,
   "metadata": {},
   "outputs": [
    {
     "data": {
      "text/html": [
       "<div><style>\n",
       ".dataframe > thead > tr,\n",
       ".dataframe > tbody > tr {\n",
       "  text-align: right;\n",
       "  white-space: pre-wrap;\n",
       "}\n",
       "</style>\n",
       "<small>shape: (11_375_504, 2)</small><table border=\"1\" class=\"dataframe\"><thead><tr><th>exporter_id</th><th>exporter_name</th></tr><tr><td>str</td><td>str</td></tr></thead><tbody><tr><td>&quot;BEL&quot;</td><td>&quot;Belgium&quot;</td></tr><tr><td>&quot;BEL&quot;</td><td>&quot;Belgium&quot;</td></tr><tr><td>&quot;BEL&quot;</td><td>&quot;Belgium&quot;</td></tr><tr><td>&quot;BEL&quot;</td><td>&quot;Belgium&quot;</td></tr><tr><td>&quot;BEL&quot;</td><td>&quot;Belgium&quot;</td></tr><tr><td>&hellip;</td><td>&hellip;</td></tr><tr><td>&quot;BEL&quot;</td><td>&quot;Belgium&quot;</td></tr><tr><td>&quot;BEL&quot;</td><td>&quot;Belgium&quot;</td></tr><tr><td>&quot;BEL&quot;</td><td>&quot;Belgium&quot;</td></tr><tr><td>&quot;BEL&quot;</td><td>&quot;Belgium&quot;</td></tr><tr><td>&quot;BEL&quot;</td><td>&quot;Belgium&quot;</td></tr></tbody></table></div>"
      ],
      "text/plain": [
       "shape: (11_375_504, 2)\n",
       "┌─────────────┬───────────────┐\n",
       "│ exporter_id ┆ exporter_name │\n",
       "│ ---         ┆ ---           │\n",
       "│ str         ┆ str           │\n",
       "╞═════════════╪═══════════════╡\n",
       "│ BEL         ┆ Belgium       │\n",
       "│ BEL         ┆ Belgium       │\n",
       "│ BEL         ┆ Belgium       │\n",
       "│ BEL         ┆ Belgium       │\n",
       "│ BEL         ┆ Belgium       │\n",
       "│ …           ┆ …             │\n",
       "│ BEL         ┆ Belgium       │\n",
       "│ BEL         ┆ Belgium       │\n",
       "│ BEL         ┆ Belgium       │\n",
       "│ BEL         ┆ Belgium       │\n",
       "│ BEL         ┆ Belgium       │\n",
       "└─────────────┴───────────────┘"
      ]
     },
     "execution_count": 13,
     "metadata": {},
     "output_type": "execute_result"
    }
   ],
   "source": [
    "# pl_df[\"exporter_id\"]\n",
    "pl_df.select(pl.col([\"exporter_id\", \"exporter_name\"]))"
   ]
  },
  {
   "cell_type": "markdown",
   "metadata": {},
   "source": [
    "### Select data by type\n",
    "\n",
    "string columns"
   ]
  },
  {
   "cell_type": "code",
   "execution_count": 15,
   "metadata": {},
   "outputs": [
    {
     "data": {
      "text/html": [
       "<div><style>\n",
       ".dataframe > thead > tr,\n",
       ".dataframe > tbody > tr {\n",
       "  text-align: right;\n",
       "  white-space: pre-wrap;\n",
       "}\n",
       "</style>\n",
       "<small>shape: (11_375_504, 2)</small><table border=\"1\" class=\"dataframe\"><thead><tr><th>year</th><th>hs_revision</th></tr><tr><td>i64</td><td>i64</td></tr></thead><tbody><tr><td>2022</td><td>5</td></tr><tr><td>2022</td><td>5</td></tr><tr><td>2022</td><td>5</td></tr><tr><td>2022</td><td>5</td></tr><tr><td>2022</td><td>5</td></tr><tr><td>&hellip;</td><td>&hellip;</td></tr><tr><td>2022</td><td>5</td></tr><tr><td>2022</td><td>5</td></tr><tr><td>2022</td><td>5</td></tr><tr><td>2022</td><td>5</td></tr><tr><td>2022</td><td>5</td></tr></tbody></table></div>"
      ],
      "text/plain": [
       "shape: (11_375_504, 2)\n",
       "┌──────┬─────────────┐\n",
       "│ year ┆ hs_revision │\n",
       "│ ---  ┆ ---         │\n",
       "│ i64  ┆ i64         │\n",
       "╞══════╪═════════════╡\n",
       "│ 2022 ┆ 5           │\n",
       "│ 2022 ┆ 5           │\n",
       "│ 2022 ┆ 5           │\n",
       "│ 2022 ┆ 5           │\n",
       "│ 2022 ┆ 5           │\n",
       "│ …    ┆ …           │\n",
       "│ 2022 ┆ 5           │\n",
       "│ 2022 ┆ 5           │\n",
       "│ 2022 ┆ 5           │\n",
       "│ 2022 ┆ 5           │\n",
       "│ 2022 ┆ 5           │\n",
       "└──────┴─────────────┘"
      ]
     },
     "execution_count": 15,
     "metadata": {},
     "output_type": "execute_result"
    }
   ],
   "source": [
    "pl_df.select(pl.col(pl.Int64))"
   ]
  },
  {
   "cell_type": "markdown",
   "metadata": {},
   "source": [
    "### What's this `pl.col()` stuff??\n",
    "\n",
    "- `pl.Expr`\n",
    "- Instruction; not data\n",
    "- Building blocks"
   ]
  },
  {
   "cell_type": "markdown",
   "metadata": {},
   "source": [
    "### Select Modified Data\n",
    "\n",
    "Example 1: select a string column and split it into a list column, on the letter \"L\"\n",
    "\n",
    "Example 2: Example 1 + take the first element of the resulting arrays"
   ]
  },
  {
   "cell_type": "code",
   "execution_count": 19,
   "metadata": {},
   "outputs": [
    {
     "data": {
      "text/plain": [
       "0           [BE, ]\n",
       "1           [BE, ]\n",
       "2           [BE, ]\n",
       "3           [BE, ]\n",
       "4           [BE, ]\n",
       "             ...  \n",
       "11375499    [BE, ]\n",
       "11375500    [BE, ]\n",
       "11375501    [BE, ]\n",
       "11375502    [BE, ]\n",
       "11375503    [BE, ]\n",
       "Name: exporter_id, Length: 11375504, dtype: object"
      ]
     },
     "metadata": {},
     "output_type": "display_data"
    }
   ],
   "source": [
    "display(pd_df[\"exporter_id\"].str.split(\"L\"))"
   ]
  },
  {
   "cell_type": "code",
   "execution_count": 20,
   "metadata": {},
   "outputs": [
    {
     "data": {
      "text/plain": [
       "0           BE\n",
       "1           BE\n",
       "2           BE\n",
       "3           BE\n",
       "4           BE\n",
       "            ..\n",
       "11375499    BE\n",
       "11375500    BE\n",
       "11375501    BE\n",
       "11375502    BE\n",
       "11375503    BE\n",
       "Name: exporter_id, Length: 11375504, dtype: object"
      ]
     },
     "metadata": {},
     "output_type": "display_data"
    }
   ],
   "source": [
    "display(pd_df[\"exporter_id\"].str.split(\"L\").str[0])"
   ]
  },
  {
   "cell_type": "code",
   "execution_count": 21,
   "metadata": {},
   "outputs": [
    {
     "data": {
      "text/html": [
       "<div><style>\n",
       ".dataframe > thead > tr,\n",
       ".dataframe > tbody > tr {\n",
       "  text-align: right;\n",
       "  white-space: pre-wrap;\n",
       "}\n",
       "</style>\n",
       "<small>shape: (11_375_504, 1)</small><table border=\"1\" class=\"dataframe\"><thead><tr><th>exporter_id</th></tr><tr><td>list[str]</td></tr></thead><tbody><tr><td>[&quot;BE&quot;, &quot;&quot;]</td></tr><tr><td>[&quot;BE&quot;, &quot;&quot;]</td></tr><tr><td>[&quot;BE&quot;, &quot;&quot;]</td></tr><tr><td>[&quot;BE&quot;, &quot;&quot;]</td></tr><tr><td>[&quot;BE&quot;, &quot;&quot;]</td></tr><tr><td>&hellip;</td></tr><tr><td>[&quot;BE&quot;, &quot;&quot;]</td></tr><tr><td>[&quot;BE&quot;, &quot;&quot;]</td></tr><tr><td>[&quot;BE&quot;, &quot;&quot;]</td></tr><tr><td>[&quot;BE&quot;, &quot;&quot;]</td></tr><tr><td>[&quot;BE&quot;, &quot;&quot;]</td></tr></tbody></table></div>"
      ],
      "text/plain": [
       "shape: (11_375_504, 1)\n",
       "┌─────────────┐\n",
       "│ exporter_id │\n",
       "│ ---         │\n",
       "│ list[str]   │\n",
       "╞═════════════╡\n",
       "│ [\"BE\", \"\"]  │\n",
       "│ [\"BE\", \"\"]  │\n",
       "│ [\"BE\", \"\"]  │\n",
       "│ [\"BE\", \"\"]  │\n",
       "│ [\"BE\", \"\"]  │\n",
       "│ …           │\n",
       "│ [\"BE\", \"\"]  │\n",
       "│ [\"BE\", \"\"]  │\n",
       "│ [\"BE\", \"\"]  │\n",
       "│ [\"BE\", \"\"]  │\n",
       "│ [\"BE\", \"\"]  │\n",
       "└─────────────┘"
      ]
     },
     "execution_count": 21,
     "metadata": {},
     "output_type": "execute_result"
    }
   ],
   "source": [
    "pl_df.select(pl.col(\"exporter_id\").str.split(\"L\"))"
   ]
  },
  {
   "cell_type": "code",
   "execution_count": 23,
   "metadata": {},
   "outputs": [
    {
     "name": "stdout",
     "output_type": "stream",
     "text": [
      "col(\"exporter_id\").str.split([\"L\"]).list.get([dyn int: 0])\n"
     ]
    }
   ],
   "source": [
    "expr_split_l = pl.col(\"exporter_id\").str.split(\"L\").list[0]\n",
    "print(expr_split_l)"
   ]
  },
  {
   "cell_type": "code",
   "execution_count": 24,
   "metadata": {},
   "outputs": [
    {
     "data": {
      "text/html": [
       "<div><style>\n",
       ".dataframe > thead > tr,\n",
       ".dataframe > tbody > tr {\n",
       "  text-align: right;\n",
       "  white-space: pre-wrap;\n",
       "}\n",
       "</style>\n",
       "<small>shape: (11_375_504, 1)</small><table border=\"1\" class=\"dataframe\"><thead><tr><th>exporter_id</th></tr><tr><td>str</td></tr></thead><tbody><tr><td>&quot;BE&quot;</td></tr><tr><td>&quot;BE&quot;</td></tr><tr><td>&quot;BE&quot;</td></tr><tr><td>&quot;BE&quot;</td></tr><tr><td>&quot;BE&quot;</td></tr><tr><td>&hellip;</td></tr><tr><td>&quot;BE&quot;</td></tr><tr><td>&quot;BE&quot;</td></tr><tr><td>&quot;BE&quot;</td></tr><tr><td>&quot;BE&quot;</td></tr><tr><td>&quot;BE&quot;</td></tr></tbody></table></div>"
      ],
      "text/plain": [
       "shape: (11_375_504, 1)\n",
       "┌─────────────┐\n",
       "│ exporter_id │\n",
       "│ ---         │\n",
       "│ str         │\n",
       "╞═════════════╡\n",
       "│ BE          │\n",
       "│ BE          │\n",
       "│ BE          │\n",
       "│ BE          │\n",
       "│ BE          │\n",
       "│ …           │\n",
       "│ BE          │\n",
       "│ BE          │\n",
       "│ BE          │\n",
       "│ BE          │\n",
       "│ BE          │\n",
       "└─────────────┘"
      ]
     },
     "execution_count": 24,
     "metadata": {},
     "output_type": "execute_result"
    }
   ],
   "source": [
    "pl_df.select(expr_split_l)"
   ]
  },
  {
   "cell_type": "markdown",
   "metadata": {},
   "source": [
    "## Example: Filter (Substring Search)\n",
    "\n",
    "find `cocoa` in the `product_name` column (case-insensitive)"
   ]
  },
  {
   "cell_type": "code",
   "execution_count": 25,
   "metadata": {},
   "outputs": [
    {
     "data": {
      "text/plain": [
       "0           False\n",
       "1           False\n",
       "2           False\n",
       "3           False\n",
       "4           False\n",
       "            ...  \n",
       "11375499    False\n",
       "11375500    False\n",
       "11375501    False\n",
       "11375502    False\n",
       "11375503    False\n",
       "Name: product_name, Length: 11375504, dtype: bool"
      ]
     },
     "execution_count": 25,
     "metadata": {},
     "output_type": "execute_result"
    }
   ],
   "source": [
    "pd_df[\"product_name\"].str.contains(\"(?i)cocoa\", regex=True)"
   ]
  },
  {
   "cell_type": "code",
   "execution_count": 26,
   "metadata": {},
   "outputs": [
    {
     "data": {
      "text/html": [
       "<div>\n",
       "<style scoped>\n",
       "    .dataframe tbody tr th:only-of-type {\n",
       "        vertical-align: middle;\n",
       "    }\n",
       "\n",
       "    .dataframe tbody tr th {\n",
       "        vertical-align: top;\n",
       "    }\n",
       "\n",
       "    .dataframe thead th {\n",
       "        text-align: right;\n",
       "    }\n",
       "</style>\n",
       "<table border=\"1\" class=\"dataframe\">\n",
       "  <thead>\n",
       "    <tr style=\"text-align: right;\">\n",
       "      <th></th>\n",
       "      <th>year</th>\n",
       "      <th>exporter_id</th>\n",
       "      <th>exporter_name</th>\n",
       "      <th>importer_id</th>\n",
       "      <th>importer_name</th>\n",
       "      <th>hs_code</th>\n",
       "      <th>product_name</th>\n",
       "      <th>hs_revision</th>\n",
       "      <th>value</th>\n",
       "      <th>quantity</th>\n",
       "      <th>unit_abbrevation</th>\n",
       "      <th>unit_name</th>\n",
       "    </tr>\n",
       "  </thead>\n",
       "  <tbody>\n",
       "    <tr>\n",
       "      <th>132</th>\n",
       "      <td>2022</td>\n",
       "      <td>BEL</td>\n",
       "      <td>Belgium</td>\n",
       "      <td>POL</td>\n",
       "      <td>Poland</td>\n",
       "      <td>170490</td>\n",
       "      <td>Sugar confectionery not chewing gum, no cocoa ...</td>\n",
       "      <td>5</td>\n",
       "      <td>12240173.0</td>\n",
       "      <td>3979.908</td>\n",
       "      <td>mt</td>\n",
       "      <td>Metric Tons</td>\n",
       "    </tr>\n",
       "    <tr>\n",
       "      <th>133</th>\n",
       "      <td>2022</td>\n",
       "      <td>BEL</td>\n",
       "      <td>Belgium</td>\n",
       "      <td>POL</td>\n",
       "      <td>Poland</td>\n",
       "      <td>180100</td>\n",
       "      <td>Cocoa Beans (Raw/Roasted, Whole/Broken)</td>\n",
       "      <td>5</td>\n",
       "      <td>259016.0</td>\n",
       "      <td>55.680</td>\n",
       "      <td>mt</td>\n",
       "      <td>Metric Tons</td>\n",
       "    </tr>\n",
       "    <tr>\n",
       "      <th>134</th>\n",
       "      <td>2022</td>\n",
       "      <td>BEL</td>\n",
       "      <td>Belgium</td>\n",
       "      <td>POL</td>\n",
       "      <td>Poland</td>\n",
       "      <td>180310</td>\n",
       "      <td>Cocoa Paste (Not Defatted)</td>\n",
       "      <td>5</td>\n",
       "      <td>16229270.0</td>\n",
       "      <td>4966.386</td>\n",
       "      <td>mt</td>\n",
       "      <td>Metric Tons</td>\n",
       "    </tr>\n",
       "    <tr>\n",
       "      <th>135</th>\n",
       "      <td>2022</td>\n",
       "      <td>BEL</td>\n",
       "      <td>Belgium</td>\n",
       "      <td>POL</td>\n",
       "      <td>Poland</td>\n",
       "      <td>180400</td>\n",
       "      <td>Cocoa Butter/Fat/Oil</td>\n",
       "      <td>5</td>\n",
       "      <td>681104.0</td>\n",
       "      <td>97.448</td>\n",
       "      <td>mt</td>\n",
       "      <td>Metric Tons</td>\n",
       "    </tr>\n",
       "    <tr>\n",
       "      <th>136</th>\n",
       "      <td>2022</td>\n",
       "      <td>BEL</td>\n",
       "      <td>Belgium</td>\n",
       "      <td>POL</td>\n",
       "      <td>Poland</td>\n",
       "      <td>180500</td>\n",
       "      <td>Unsweetened Cocoa Powder</td>\n",
       "      <td>5</td>\n",
       "      <td>227664.0</td>\n",
       "      <td>79.976</td>\n",
       "      <td>mt</td>\n",
       "      <td>Metric Tons</td>\n",
       "    </tr>\n",
       "    <tr>\n",
       "      <th>...</th>\n",
       "      <td>...</td>\n",
       "      <td>...</td>\n",
       "      <td>...</td>\n",
       "      <td>...</td>\n",
       "      <td>...</td>\n",
       "      <td>...</td>\n",
       "      <td>...</td>\n",
       "      <td>...</td>\n",
       "      <td>...</td>\n",
       "      <td>...</td>\n",
       "      <td>...</td>\n",
       "      <td>...</td>\n",
       "    </tr>\n",
       "    <tr>\n",
       "      <th>11372639</th>\n",
       "      <td>2022</td>\n",
       "      <td>BEL</td>\n",
       "      <td>Belgium</td>\n",
       "      <td>NOR</td>\n",
       "      <td>Norway</td>\n",
       "      <td>180690</td>\n",
       "      <td>Miscellaneous Chocolate/Cocoa Preparations</td>\n",
       "      <td>5</td>\n",
       "      <td>9337696.0</td>\n",
       "      <td>861.713</td>\n",
       "      <td>mt</td>\n",
       "      <td>Metric Tons</td>\n",
       "    </tr>\n",
       "    <tr>\n",
       "      <th>11372641</th>\n",
       "      <td>2022</td>\n",
       "      <td>BEL</td>\n",
       "      <td>Belgium</td>\n",
       "      <td>NOR</td>\n",
       "      <td>Norway</td>\n",
       "      <td>190190</td>\n",
       "      <td>Malt extract &amp; limited cocoa pastrycooks produ...</td>\n",
       "      <td>5</td>\n",
       "      <td>2733112.0</td>\n",
       "      <td>887.466</td>\n",
       "      <td>mt</td>\n",
       "      <td>Metric Tons</td>\n",
       "    </tr>\n",
       "    <tr>\n",
       "      <th>11372653</th>\n",
       "      <td>2022</td>\n",
       "      <td>BEL</td>\n",
       "      <td>Belgium</td>\n",
       "      <td>NOR</td>\n",
       "      <td>Norway</td>\n",
       "      <td>190531</td>\n",
       "      <td>Food preparations: sweet biscuits, whether or ...</td>\n",
       "      <td>5</td>\n",
       "      <td>245947.0</td>\n",
       "      <td>60.962</td>\n",
       "      <td>mt</td>\n",
       "      <td>Metric Tons</td>\n",
       "    </tr>\n",
       "    <tr>\n",
       "      <th>11372654</th>\n",
       "      <td>2022</td>\n",
       "      <td>BEL</td>\n",
       "      <td>Belgium</td>\n",
       "      <td>NOR</td>\n",
       "      <td>Norway</td>\n",
       "      <td>190532</td>\n",
       "      <td>Food preparations: waffles and wafers, whether...</td>\n",
       "      <td>5</td>\n",
       "      <td>438722.0</td>\n",
       "      <td>121.019</td>\n",
       "      <td>mt</td>\n",
       "      <td>Metric Tons</td>\n",
       "    </tr>\n",
       "    <tr>\n",
       "      <th>11374760</th>\n",
       "      <td>2022</td>\n",
       "      <td>BEL</td>\n",
       "      <td>Belgium</td>\n",
       "      <td>NOR</td>\n",
       "      <td>Norway</td>\n",
       "      <td>843820</td>\n",
       "      <td>Machines, confectionery, cocoa, chocolate manu...</td>\n",
       "      <td>5</td>\n",
       "      <td>19734.0</td>\n",
       "      <td>0.401</td>\n",
       "      <td>mt</td>\n",
       "      <td>Metric Tons</td>\n",
       "    </tr>\n",
       "  </tbody>\n",
       "</table>\n",
       "<p>59130 rows × 12 columns</p>\n",
       "</div>"
      ],
      "text/plain": [
       "          year exporter_id exporter_name importer_id importer_name hs_code  \\\n",
       "132       2022         BEL       Belgium         POL        Poland  170490   \n",
       "133       2022         BEL       Belgium         POL        Poland  180100   \n",
       "134       2022         BEL       Belgium         POL        Poland  180310   \n",
       "135       2022         BEL       Belgium         POL        Poland  180400   \n",
       "136       2022         BEL       Belgium         POL        Poland  180500   \n",
       "...        ...         ...           ...         ...           ...     ...   \n",
       "11372639  2022         BEL       Belgium         NOR        Norway  180690   \n",
       "11372641  2022         BEL       Belgium         NOR        Norway  190190   \n",
       "11372653  2022         BEL       Belgium         NOR        Norway  190531   \n",
       "11372654  2022         BEL       Belgium         NOR        Norway  190532   \n",
       "11374760  2022         BEL       Belgium         NOR        Norway  843820   \n",
       "\n",
       "                                               product_name  hs_revision  \\\n",
       "132       Sugar confectionery not chewing gum, no cocoa ...            5   \n",
       "133                 Cocoa Beans (Raw/Roasted, Whole/Broken)            5   \n",
       "134                              Cocoa Paste (Not Defatted)            5   \n",
       "135                                    Cocoa Butter/Fat/Oil            5   \n",
       "136                                Unsweetened Cocoa Powder            5   \n",
       "...                                                     ...          ...   \n",
       "11372639         Miscellaneous Chocolate/Cocoa Preparations            5   \n",
       "11372641  Malt extract & limited cocoa pastrycooks produ...            5   \n",
       "11372653  Food preparations: sweet biscuits, whether or ...            5   \n",
       "11372654  Food preparations: waffles and wafers, whether...            5   \n",
       "11374760  Machines, confectionery, cocoa, chocolate manu...            5   \n",
       "\n",
       "               value  quantity unit_abbrevation    unit_name  \n",
       "132       12240173.0  3979.908               mt  Metric Tons  \n",
       "133         259016.0    55.680               mt  Metric Tons  \n",
       "134       16229270.0  4966.386               mt  Metric Tons  \n",
       "135         681104.0    97.448               mt  Metric Tons  \n",
       "136         227664.0    79.976               mt  Metric Tons  \n",
       "...              ...       ...              ...          ...  \n",
       "11372639   9337696.0   861.713               mt  Metric Tons  \n",
       "11372641   2733112.0   887.466               mt  Metric Tons  \n",
       "11372653    245947.0    60.962               mt  Metric Tons  \n",
       "11372654    438722.0   121.019               mt  Metric Tons  \n",
       "11374760     19734.0     0.401               mt  Metric Tons  \n",
       "\n",
       "[59130 rows x 12 columns]"
      ]
     },
     "execution_count": 26,
     "metadata": {},
     "output_type": "execute_result"
    }
   ],
   "source": [
    "pd_df[pd_df[\"product_name\"].str.contains(\"(?i)cocoa\", regex=True)]"
   ]
  },
  {
   "cell_type": "code",
   "execution_count": 28,
   "metadata": {},
   "outputs": [],
   "source": [
    "cocoa_filt = pl.col(\"product_name\").str.contains(\"(?i)cocoa\")"
   ]
  },
  {
   "cell_type": "code",
   "execution_count": 29,
   "metadata": {},
   "outputs": [
    {
     "data": {
      "text/html": [
       "col(\"product_name\").str.contains([\"(?i)cocoa\"])"
      ],
      "text/plain": [
       "<Expr ['col(\"product_name\").str.contai…'] at 0x425834C20>"
      ]
     },
     "execution_count": 29,
     "metadata": {},
     "output_type": "execute_result"
    }
   ],
   "source": [
    "cocoa_filt"
   ]
  },
  {
   "cell_type": "code",
   "execution_count": 30,
   "metadata": {},
   "outputs": [
    {
     "data": {
      "text/html": [
       "<div><style>\n",
       ".dataframe > thead > tr,\n",
       ".dataframe > tbody > tr {\n",
       "  text-align: right;\n",
       "  white-space: pre-wrap;\n",
       "}\n",
       "</style>\n",
       "<small>shape: (59_130, 12)</small><table border=\"1\" class=\"dataframe\"><thead><tr><th>year</th><th>exporter_id</th><th>exporter_name</th><th>importer_id</th><th>importer_name</th><th>hs_code</th><th>product_name</th><th>hs_revision</th><th>value</th><th>quantity</th><th>unit_abbrevation</th><th>unit_name</th></tr><tr><td>i64</td><td>str</td><td>str</td><td>str</td><td>str</td><td>str</td><td>str</td><td>i64</td><td>f64</td><td>f64</td><td>str</td><td>str</td></tr></thead><tbody><tr><td>2022</td><td>&quot;BEL&quot;</td><td>&quot;Belgium&quot;</td><td>&quot;POL&quot;</td><td>&quot;Poland&quot;</td><td>&quot;170490&quot;</td><td>&quot;Sugar confectionery not chewin…</td><td>5</td><td>1.2240173e7</td><td>3979.908</td><td>&quot;mt&quot;</td><td>&quot;Metric Tons&quot;</td></tr><tr><td>2022</td><td>&quot;BEL&quot;</td><td>&quot;Belgium&quot;</td><td>&quot;POL&quot;</td><td>&quot;Poland&quot;</td><td>&quot;180100&quot;</td><td>&quot;Cocoa Beans (Raw/Roasted, Whol…</td><td>5</td><td>259016.0</td><td>55.68</td><td>&quot;mt&quot;</td><td>&quot;Metric Tons&quot;</td></tr><tr><td>2022</td><td>&quot;BEL&quot;</td><td>&quot;Belgium&quot;</td><td>&quot;POL&quot;</td><td>&quot;Poland&quot;</td><td>&quot;180310&quot;</td><td>&quot;Cocoa Paste (Not Defatted)&quot;</td><td>5</td><td>1.622927e7</td><td>4966.386</td><td>&quot;mt&quot;</td><td>&quot;Metric Tons&quot;</td></tr><tr><td>2022</td><td>&quot;BEL&quot;</td><td>&quot;Belgium&quot;</td><td>&quot;POL&quot;</td><td>&quot;Poland&quot;</td><td>&quot;180400&quot;</td><td>&quot;Cocoa Butter/Fat/Oil&quot;</td><td>5</td><td>681104.0</td><td>97.448</td><td>&quot;mt&quot;</td><td>&quot;Metric Tons&quot;</td></tr><tr><td>2022</td><td>&quot;BEL&quot;</td><td>&quot;Belgium&quot;</td><td>&quot;POL&quot;</td><td>&quot;Poland&quot;</td><td>&quot;180500&quot;</td><td>&quot;Unsweetened Cocoa Powder&quot;</td><td>5</td><td>227664.0</td><td>79.976</td><td>&quot;mt&quot;</td><td>&quot;Metric Tons&quot;</td></tr><tr><td>&hellip;</td><td>&hellip;</td><td>&hellip;</td><td>&hellip;</td><td>&hellip;</td><td>&hellip;</td><td>&hellip;</td><td>&hellip;</td><td>&hellip;</td><td>&hellip;</td><td>&hellip;</td><td>&hellip;</td></tr><tr><td>2022</td><td>&quot;BEL&quot;</td><td>&quot;Belgium&quot;</td><td>&quot;NOR&quot;</td><td>&quot;Norway&quot;</td><td>&quot;180690&quot;</td><td>&quot;Miscellaneous Chocolate/Cocoa …</td><td>5</td><td>9.337696e6</td><td>861.713</td><td>&quot;mt&quot;</td><td>&quot;Metric Tons&quot;</td></tr><tr><td>2022</td><td>&quot;BEL&quot;</td><td>&quot;Belgium&quot;</td><td>&quot;NOR&quot;</td><td>&quot;Norway&quot;</td><td>&quot;190190&quot;</td><td>&quot;Malt extract &amp; limited cocoa p…</td><td>5</td><td>2.733112e6</td><td>887.466</td><td>&quot;mt&quot;</td><td>&quot;Metric Tons&quot;</td></tr><tr><td>2022</td><td>&quot;BEL&quot;</td><td>&quot;Belgium&quot;</td><td>&quot;NOR&quot;</td><td>&quot;Norway&quot;</td><td>&quot;190531&quot;</td><td>&quot;Food preparations: sweet biscu…</td><td>5</td><td>245947.0</td><td>60.962</td><td>&quot;mt&quot;</td><td>&quot;Metric Tons&quot;</td></tr><tr><td>2022</td><td>&quot;BEL&quot;</td><td>&quot;Belgium&quot;</td><td>&quot;NOR&quot;</td><td>&quot;Norway&quot;</td><td>&quot;190532&quot;</td><td>&quot;Food preparations: waffles and…</td><td>5</td><td>438722.0</td><td>121.019</td><td>&quot;mt&quot;</td><td>&quot;Metric Tons&quot;</td></tr><tr><td>2022</td><td>&quot;BEL&quot;</td><td>&quot;Belgium&quot;</td><td>&quot;NOR&quot;</td><td>&quot;Norway&quot;</td><td>&quot;843820&quot;</td><td>&quot;Machines, confectionery, cocoa…</td><td>5</td><td>19734.0</td><td>0.401</td><td>&quot;mt&quot;</td><td>&quot;Metric Tons&quot;</td></tr></tbody></table></div>"
      ],
      "text/plain": [
       "shape: (59_130, 12)\n",
       "┌──────┬────────────┬────────────┬────────────┬───┬────────────┬──────────┬────────────┬───────────┐\n",
       "│ year ┆ exporter_i ┆ exporter_n ┆ importer_i ┆ … ┆ value      ┆ quantity ┆ unit_abbre ┆ unit_name │\n",
       "│ ---  ┆ d          ┆ ame        ┆ d          ┆   ┆ ---        ┆ ---      ┆ vation     ┆ ---       │\n",
       "│ i64  ┆ ---        ┆ ---        ┆ ---        ┆   ┆ f64        ┆ f64      ┆ ---        ┆ str       │\n",
       "│      ┆ str        ┆ str        ┆ str        ┆   ┆            ┆          ┆ str        ┆           │\n",
       "╞══════╪════════════╪════════════╪════════════╪═══╪════════════╪══════════╪════════════╪═══════════╡\n",
       "│ 2022 ┆ BEL        ┆ Belgium    ┆ POL        ┆ … ┆ 1.2240173e ┆ 3979.908 ┆ mt         ┆ Metric    │\n",
       "│      ┆            ┆            ┆            ┆   ┆ 7          ┆          ┆            ┆ Tons      │\n",
       "│ 2022 ┆ BEL        ┆ Belgium    ┆ POL        ┆ … ┆ 259016.0   ┆ 55.68    ┆ mt         ┆ Metric    │\n",
       "│      ┆            ┆            ┆            ┆   ┆            ┆          ┆            ┆ Tons      │\n",
       "│ 2022 ┆ BEL        ┆ Belgium    ┆ POL        ┆ … ┆ 1.622927e7 ┆ 4966.386 ┆ mt         ┆ Metric    │\n",
       "│      ┆            ┆            ┆            ┆   ┆            ┆          ┆            ┆ Tons      │\n",
       "│ 2022 ┆ BEL        ┆ Belgium    ┆ POL        ┆ … ┆ 681104.0   ┆ 97.448   ┆ mt         ┆ Metric    │\n",
       "│      ┆            ┆            ┆            ┆   ┆            ┆          ┆            ┆ Tons      │\n",
       "│ 2022 ┆ BEL        ┆ Belgium    ┆ POL        ┆ … ┆ 227664.0   ┆ 79.976   ┆ mt         ┆ Metric    │\n",
       "│      ┆            ┆            ┆            ┆   ┆            ┆          ┆            ┆ Tons      │\n",
       "│ …    ┆ …          ┆ …          ┆ …          ┆ … ┆ …          ┆ …        ┆ …          ┆ …         │\n",
       "│ 2022 ┆ BEL        ┆ Belgium    ┆ NOR        ┆ … ┆ 9.337696e6 ┆ 861.713  ┆ mt         ┆ Metric    │\n",
       "│      ┆            ┆            ┆            ┆   ┆            ┆          ┆            ┆ Tons      │\n",
       "│ 2022 ┆ BEL        ┆ Belgium    ┆ NOR        ┆ … ┆ 2.733112e6 ┆ 887.466  ┆ mt         ┆ Metric    │\n",
       "│      ┆            ┆            ┆            ┆   ┆            ┆          ┆            ┆ Tons      │\n",
       "│ 2022 ┆ BEL        ┆ Belgium    ┆ NOR        ┆ … ┆ 245947.0   ┆ 60.962   ┆ mt         ┆ Metric    │\n",
       "│      ┆            ┆            ┆            ┆   ┆            ┆          ┆            ┆ Tons      │\n",
       "│ 2022 ┆ BEL        ┆ Belgium    ┆ NOR        ┆ … ┆ 438722.0   ┆ 121.019  ┆ mt         ┆ Metric    │\n",
       "│      ┆            ┆            ┆            ┆   ┆            ┆          ┆            ┆ Tons      │\n",
       "│ 2022 ┆ BEL        ┆ Belgium    ┆ NOR        ┆ … ┆ 19734.0    ┆ 0.401    ┆ mt         ┆ Metric    │\n",
       "│      ┆            ┆            ┆            ┆   ┆            ┆          ┆            ┆ Tons      │\n",
       "└──────┴────────────┴────────────┴────────────┴───┴────────────┴──────────┴────────────┴───────────┘"
      ]
     },
     "execution_count": 30,
     "metadata": {},
     "output_type": "execute_result"
    }
   ],
   "source": [
    "pl_df.filter(cocoa_filt)"
   ]
  },
  {
   "cell_type": "markdown",
   "metadata": {},
   "source": [
    "## Example: Group\n",
    "\n"
   ]
  },
  {
   "cell_type": "code",
   "execution_count": 31,
   "metadata": {},
   "outputs": [
    {
     "data": {
      "text/html": [
       "<div>\n",
       "<style scoped>\n",
       "    .dataframe tbody tr th:only-of-type {\n",
       "        vertical-align: middle;\n",
       "    }\n",
       "\n",
       "    .dataframe tbody tr th {\n",
       "        vertical-align: top;\n",
       "    }\n",
       "\n",
       "    .dataframe thead tr th {\n",
       "        text-align: left;\n",
       "    }\n",
       "\n",
       "    .dataframe thead tr:last-of-type th {\n",
       "        text-align: right;\n",
       "    }\n",
       "</style>\n",
       "<table border=\"1\" class=\"dataframe\">\n",
       "  <thead>\n",
       "    <tr>\n",
       "      <th></th>\n",
       "      <th>value</th>\n",
       "      <th colspan=\"2\" halign=\"left\">quantity</th>\n",
       "    </tr>\n",
       "    <tr>\n",
       "      <th></th>\n",
       "      <th>sum</th>\n",
       "      <th>sum</th>\n",
       "      <th>mean</th>\n",
       "    </tr>\n",
       "    <tr>\n",
       "      <th>exporter_id</th>\n",
       "      <th></th>\n",
       "      <th></th>\n",
       "      <th></th>\n",
       "    </tr>\n",
       "  </thead>\n",
       "  <tbody>\n",
       "    <tr>\n",
       "      <th>ABW</th>\n",
       "      <td>4.271220e+07</td>\n",
       "      <td>3.990741e+04</td>\n",
       "      <td>37.088674</td>\n",
       "    </tr>\n",
       "    <tr>\n",
       "      <th>AFG</th>\n",
       "      <td>1.520468e+09</td>\n",
       "      <td>5.440034e+06</td>\n",
       "      <td>962.837931</td>\n",
       "    </tr>\n",
       "    <tr>\n",
       "      <th>AGO</th>\n",
       "      <td>5.380631e+10</td>\n",
       "      <td>6.968337e+07</td>\n",
       "      <td>4878.762922</td>\n",
       "    </tr>\n",
       "    <tr>\n",
       "      <th>AIA</th>\n",
       "      <td>2.508270e+07</td>\n",
       "      <td>4.365993e+03</td>\n",
       "      <td>6.635248</td>\n",
       "    </tr>\n",
       "    <tr>\n",
       "      <th>ALB</th>\n",
       "      <td>4.352923e+09</td>\n",
       "      <td>3.175407e+06</td>\n",
       "      <td>189.893958</td>\n",
       "    </tr>\n",
       "    <tr>\n",
       "      <th>...</th>\n",
       "      <td>...</td>\n",
       "      <td>...</td>\n",
       "      <td>...</td>\n",
       "    </tr>\n",
       "    <tr>\n",
       "      <th>YEM</th>\n",
       "      <td>1.761144e+09</td>\n",
       "      <td>2.043993e+06</td>\n",
       "      <td>1196.717094</td>\n",
       "    </tr>\n",
       "    <tr>\n",
       "      <th>ZAF</th>\n",
       "      <td>1.544890e+11</td>\n",
       "      <td>2.150749e+08</td>\n",
       "      <td>1441.482417</td>\n",
       "    </tr>\n",
       "    <tr>\n",
       "      <th>ZMB</th>\n",
       "      <td>1.504280e+10</td>\n",
       "      <td>7.409465e+06</td>\n",
       "      <td>717.554230</td>\n",
       "    </tr>\n",
       "    <tr>\n",
       "      <th>ZWE</th>\n",
       "      <td>8.381471e+09</td>\n",
       "      <td>2.668969e+06</td>\n",
       "      <td>419.319638</td>\n",
       "    </tr>\n",
       "    <tr>\n",
       "      <th>\\N</th>\n",
       "      <td>5.560721e+11</td>\n",
       "      <td>5.965386e+07</td>\n",
       "      <td>325.553974</td>\n",
       "    </tr>\n",
       "  </tbody>\n",
       "</table>\n",
       "<p>226 rows × 3 columns</p>\n",
       "</div>"
      ],
      "text/plain": [
       "                    value      quantity             \n",
       "                      sum           sum         mean\n",
       "exporter_id                                         \n",
       "ABW          4.271220e+07  3.990741e+04    37.088674\n",
       "AFG          1.520468e+09  5.440034e+06   962.837931\n",
       "AGO          5.380631e+10  6.968337e+07  4878.762922\n",
       "AIA          2.508270e+07  4.365993e+03     6.635248\n",
       "ALB          4.352923e+09  3.175407e+06   189.893958\n",
       "...                   ...           ...          ...\n",
       "YEM          1.761144e+09  2.043993e+06  1196.717094\n",
       "ZAF          1.544890e+11  2.150749e+08  1441.482417\n",
       "ZMB          1.504280e+10  7.409465e+06   717.554230\n",
       "ZWE          8.381471e+09  2.668969e+06   419.319638\n",
       "\\N           5.560721e+11  5.965386e+07   325.553974\n",
       "\n",
       "[226 rows x 3 columns]"
      ]
     },
     "execution_count": 31,
     "metadata": {},
     "output_type": "execute_result"
    }
   ],
   "source": [
    "pd_df.groupby(\"exporter_id\").agg({\"value\": \"sum\", \"quantity\": [\"sum\", \"mean\"]})"
   ]
  },
  {
   "cell_type": "code",
   "execution_count": 36,
   "metadata": {},
   "outputs": [
    {
     "data": {
      "text/html": [
       "<div><style>\n",
       ".dataframe > thead > tr,\n",
       ".dataframe > tbody > tr {\n",
       "  text-align: right;\n",
       "  white-space: pre-wrap;\n",
       "}\n",
       "</style>\n",
       "<small>shape: (226, 4)</small><table border=\"1\" class=\"dataframe\"><thead><tr><th>exporter_id</th><th>value</th><th>quantity</th><th>q_mean</th></tr><tr><td>str</td><td>f64</td><td>f64</td><td>f64</td></tr></thead><tbody><tr><td>&quot;SWE&quot;</td><td>1.9631e11</td><td>9.1777e7</td><td>503.313393</td></tr><tr><td>&quot;DJI&quot;</td><td>5.54006445e8</td><td>323241.353</td><td>284.293186</td></tr><tr><td>&quot;MDG&quot;</td><td>4.3946e9</td><td>1.4950e6</td><td>112.10015</td></tr><tr><td>&quot;MDV&quot;</td><td>7.71181247e8</td><td>199335.732</td><td>89.22817</td></tr><tr><td>&quot;BGD&quot;</td><td>6.4107e10</td><td>6.0880e6</td><td>155.935425</td></tr><tr><td>&hellip;</td><td>&hellip;</td><td>&hellip;</td><td>&hellip;</td></tr><tr><td>&quot;EGY&quot;</td><td>5.5098e10</td><td>5.3713e7</td><td>926.312584</td></tr><tr><td>&quot;BRA&quot;</td><td>3.4280e11</td><td>7.2649e8</td><td>4517.94279</td></tr><tr><td>&quot;TGO&quot;</td><td>4.6172e9</td><td>5.9681e6</td><td>1080.986742</td></tr><tr><td>&quot;FRA&quot;</td><td>6.1548e11</td><td>1.9512e8</td><td>535.475772</td></tr><tr><td>&quot;SLB&quot;</td><td>5.16115921e8</td><td>1.4098e6</td><td>2199.351513</td></tr></tbody></table></div>"
      ],
      "text/plain": [
       "shape: (226, 4)\n",
       "┌─────────────┬──────────────┬────────────┬─────────────┐\n",
       "│ exporter_id ┆ value        ┆ quantity   ┆ q_mean      │\n",
       "│ ---         ┆ ---          ┆ ---        ┆ ---         │\n",
       "│ str         ┆ f64          ┆ f64        ┆ f64         │\n",
       "╞═════════════╪══════════════╪════════════╪═════════════╡\n",
       "│ SWE         ┆ 1.9631e11    ┆ 9.1777e7   ┆ 503.313393  │\n",
       "│ DJI         ┆ 5.54006445e8 ┆ 323241.353 ┆ 284.293186  │\n",
       "│ MDG         ┆ 4.3946e9     ┆ 1.4950e6   ┆ 112.10015   │\n",
       "│ MDV         ┆ 7.71181247e8 ┆ 199335.732 ┆ 89.22817    │\n",
       "│ BGD         ┆ 6.4107e10    ┆ 6.0880e6   ┆ 155.935425  │\n",
       "│ …           ┆ …            ┆ …          ┆ …           │\n",
       "│ EGY         ┆ 5.5098e10    ┆ 5.3713e7   ┆ 926.312584  │\n",
       "│ BRA         ┆ 3.4280e11    ┆ 7.2649e8   ┆ 4517.94279  │\n",
       "│ TGO         ┆ 4.6172e9     ┆ 5.9681e6   ┆ 1080.986742 │\n",
       "│ FRA         ┆ 6.1548e11    ┆ 1.9512e8   ┆ 535.475772  │\n",
       "│ SLB         ┆ 5.16115921e8 ┆ 1.4098e6   ┆ 2199.351513 │\n",
       "└─────────────┴──────────────┴────────────┴─────────────┘"
      ]
     },
     "execution_count": 36,
     "metadata": {},
     "output_type": "execute_result"
    }
   ],
   "source": [
    "pl_df.group_by(\"exporter_id\").agg(\n",
    "    # {\"quantity\": pl.col(\"quantity\").sum()}\n",
    "    pl.col(\"value\").sum(),\n",
    "    pl.col(\"quantity\").sum(),\n",
    "    pl.col(\"quantity\").mean().alias(\"q_mean\"),\n",
    ")"
   ]
  },
  {
   "cell_type": "markdown",
   "metadata": {},
   "source": [
    "## Example: Add a column"
   ]
  },
  {
   "cell_type": "code",
   "execution_count": 37,
   "metadata": {},
   "outputs": [
    {
     "data": {
      "text/html": [
       "<div>\n",
       "<style scoped>\n",
       "    .dataframe tbody tr th:only-of-type {\n",
       "        vertical-align: middle;\n",
       "    }\n",
       "\n",
       "    .dataframe tbody tr th {\n",
       "        vertical-align: top;\n",
       "    }\n",
       "\n",
       "    .dataframe thead th {\n",
       "        text-align: right;\n",
       "    }\n",
       "</style>\n",
       "<table border=\"1\" class=\"dataframe\">\n",
       "  <thead>\n",
       "    <tr style=\"text-align: right;\">\n",
       "      <th></th>\n",
       "      <th>year</th>\n",
       "      <th>exporter_id</th>\n",
       "      <th>exporter_name</th>\n",
       "      <th>importer_id</th>\n",
       "      <th>importer_name</th>\n",
       "      <th>hs_code</th>\n",
       "      <th>product_name</th>\n",
       "      <th>hs_revision</th>\n",
       "      <th>value</th>\n",
       "      <th>quantity</th>\n",
       "      <th>unit_abbrevation</th>\n",
       "      <th>unit_name</th>\n",
       "      <th>price_per_unit</th>\n",
       "    </tr>\n",
       "  </thead>\n",
       "  <tbody>\n",
       "    <tr>\n",
       "      <th>0</th>\n",
       "      <td>2022</td>\n",
       "      <td>BEL</td>\n",
       "      <td>Belgium</td>\n",
       "      <td>POL</td>\n",
       "      <td>Poland</td>\n",
       "      <td>110412</td>\n",
       "      <td>Oats, rolled or flaked grains</td>\n",
       "      <td>5</td>\n",
       "      <td>328.0</td>\n",
       "      <td>0.019</td>\n",
       "      <td>mt</td>\n",
       "      <td>Metric Tons</td>\n",
       "      <td>17263.157895</td>\n",
       "    </tr>\n",
       "    <tr>\n",
       "      <th>1</th>\n",
       "      <td>2022</td>\n",
       "      <td>BEL</td>\n",
       "      <td>Belgium</td>\n",
       "      <td>POL</td>\n",
       "      <td>Poland</td>\n",
       "      <td>110419</td>\n",
       "      <td>Cereals, rolled or flaked grains nes</td>\n",
       "      <td>5</td>\n",
       "      <td>54.0</td>\n",
       "      <td>0.026</td>\n",
       "      <td>mt</td>\n",
       "      <td>Metric Tons</td>\n",
       "      <td>2076.923077</td>\n",
       "    </tr>\n",
       "    <tr>\n",
       "      <th>2</th>\n",
       "      <td>2022</td>\n",
       "      <td>BEL</td>\n",
       "      <td>Belgium</td>\n",
       "      <td>POL</td>\n",
       "      <td>Poland</td>\n",
       "      <td>110423</td>\n",
       "      <td>Maize (corn), hulled, pearled, sliced or kibbled</td>\n",
       "      <td>5</td>\n",
       "      <td>690.0</td>\n",
       "      <td>1.022</td>\n",
       "      <td>mt</td>\n",
       "      <td>Metric Tons</td>\n",
       "      <td>675.146771</td>\n",
       "    </tr>\n",
       "    <tr>\n",
       "      <th>3</th>\n",
       "      <td>2022</td>\n",
       "      <td>BEL</td>\n",
       "      <td>Belgium</td>\n",
       "      <td>POL</td>\n",
       "      <td>Poland</td>\n",
       "      <td>110429</td>\n",
       "      <td>Cereals, hulled, pearled, sliced or kibbled nes</td>\n",
       "      <td>5</td>\n",
       "      <td>159.0</td>\n",
       "      <td>0.061</td>\n",
       "      <td>mt</td>\n",
       "      <td>Metric Tons</td>\n",
       "      <td>2606.557377</td>\n",
       "    </tr>\n",
       "    <tr>\n",
       "      <th>4</th>\n",
       "      <td>2022</td>\n",
       "      <td>BEL</td>\n",
       "      <td>Belgium</td>\n",
       "      <td>POL</td>\n",
       "      <td>Poland</td>\n",
       "      <td>110430</td>\n",
       "      <td>Germ of cereals, whole, rolled, flaked or ground</td>\n",
       "      <td>5</td>\n",
       "      <td>219.0</td>\n",
       "      <td>0.184</td>\n",
       "      <td>mt</td>\n",
       "      <td>Metric Tons</td>\n",
       "      <td>1190.217391</td>\n",
       "    </tr>\n",
       "    <tr>\n",
       "      <th>...</th>\n",
       "      <td>...</td>\n",
       "      <td>...</td>\n",
       "      <td>...</td>\n",
       "      <td>...</td>\n",
       "      <td>...</td>\n",
       "      <td>...</td>\n",
       "      <td>...</td>\n",
       "      <td>...</td>\n",
       "      <td>...</td>\n",
       "      <td>...</td>\n",
       "      <td>...</td>\n",
       "      <td>...</td>\n",
       "      <td>...</td>\n",
       "    </tr>\n",
       "    <tr>\n",
       "      <th>11375499</th>\n",
       "      <td>2022</td>\n",
       "      <td>BEL</td>\n",
       "      <td>Belgium</td>\n",
       "      <td>NOR</td>\n",
       "      <td>Norway</td>\n",
       "      <td>960810</td>\n",
       "      <td>Ball point pens</td>\n",
       "      <td>5</td>\n",
       "      <td>1579.0</td>\n",
       "      <td>0.105</td>\n",
       "      <td>mt</td>\n",
       "      <td>Metric Tons</td>\n",
       "      <td>15038.095238</td>\n",
       "    </tr>\n",
       "    <tr>\n",
       "      <th>11375500</th>\n",
       "      <td>2022</td>\n",
       "      <td>BEL</td>\n",
       "      <td>Belgium</td>\n",
       "      <td>NOR</td>\n",
       "      <td>Norway</td>\n",
       "      <td>960820</td>\n",
       "      <td>Felt tipped, other porous-tipped pens and markers</td>\n",
       "      <td>5</td>\n",
       "      <td>2208.0</td>\n",
       "      <td>0.099</td>\n",
       "      <td>mt</td>\n",
       "      <td>Metric Tons</td>\n",
       "      <td>22303.030303</td>\n",
       "    </tr>\n",
       "    <tr>\n",
       "      <th>11375501</th>\n",
       "      <td>2022</td>\n",
       "      <td>BEL</td>\n",
       "      <td>Belgium</td>\n",
       "      <td>NOR</td>\n",
       "      <td>Norway</td>\n",
       "      <td>960830</td>\n",
       "      <td>Pens: fountain, stylograph and other pens</td>\n",
       "      <td>5</td>\n",
       "      <td>156.0</td>\n",
       "      <td>0.018</td>\n",
       "      <td>mt</td>\n",
       "      <td>Metric Tons</td>\n",
       "      <td>8666.666667</td>\n",
       "    </tr>\n",
       "    <tr>\n",
       "      <th>11375502</th>\n",
       "      <td>2022</td>\n",
       "      <td>BEL</td>\n",
       "      <td>Belgium</td>\n",
       "      <td>NOR</td>\n",
       "      <td>Norway</td>\n",
       "      <td>960850</td>\n",
       "      <td>Sets of mixed types of pens/pencils</td>\n",
       "      <td>5</td>\n",
       "      <td>38.0</td>\n",
       "      <td>0.001</td>\n",
       "      <td>mt</td>\n",
       "      <td>Metric Tons</td>\n",
       "      <td>38000.000000</td>\n",
       "    </tr>\n",
       "    <tr>\n",
       "      <th>11375503</th>\n",
       "      <td>2022</td>\n",
       "      <td>BEL</td>\n",
       "      <td>Belgium</td>\n",
       "      <td>NOR</td>\n",
       "      <td>Norway</td>\n",
       "      <td>960899</td>\n",
       "      <td>Duplicating stylos, pen/pencil holders, pen parts</td>\n",
       "      <td>5</td>\n",
       "      <td>644.0</td>\n",
       "      <td>0.007</td>\n",
       "      <td>mt</td>\n",
       "      <td>Metric Tons</td>\n",
       "      <td>92000.000000</td>\n",
       "    </tr>\n",
       "  </tbody>\n",
       "</table>\n",
       "<p>11375504 rows × 13 columns</p>\n",
       "</div>"
      ],
      "text/plain": [
       "          year exporter_id exporter_name importer_id importer_name hs_code  \\\n",
       "0         2022         BEL       Belgium         POL        Poland  110412   \n",
       "1         2022         BEL       Belgium         POL        Poland  110419   \n",
       "2         2022         BEL       Belgium         POL        Poland  110423   \n",
       "3         2022         BEL       Belgium         POL        Poland  110429   \n",
       "4         2022         BEL       Belgium         POL        Poland  110430   \n",
       "...        ...         ...           ...         ...           ...     ...   \n",
       "11375499  2022         BEL       Belgium         NOR        Norway  960810   \n",
       "11375500  2022         BEL       Belgium         NOR        Norway  960820   \n",
       "11375501  2022         BEL       Belgium         NOR        Norway  960830   \n",
       "11375502  2022         BEL       Belgium         NOR        Norway  960850   \n",
       "11375503  2022         BEL       Belgium         NOR        Norway  960899   \n",
       "\n",
       "                                               product_name  hs_revision  \\\n",
       "0                             Oats, rolled or flaked grains            5   \n",
       "1                      Cereals, rolled or flaked grains nes            5   \n",
       "2          Maize (corn), hulled, pearled, sliced or kibbled            5   \n",
       "3           Cereals, hulled, pearled, sliced or kibbled nes            5   \n",
       "4          Germ of cereals, whole, rolled, flaked or ground            5   \n",
       "...                                                     ...          ...   \n",
       "11375499                                    Ball point pens            5   \n",
       "11375500  Felt tipped, other porous-tipped pens and markers            5   \n",
       "11375501          Pens: fountain, stylograph and other pens            5   \n",
       "11375502                Sets of mixed types of pens/pencils            5   \n",
       "11375503  Duplicating stylos, pen/pencil holders, pen parts            5   \n",
       "\n",
       "           value  quantity unit_abbrevation    unit_name  price_per_unit  \n",
       "0          328.0     0.019               mt  Metric Tons    17263.157895  \n",
       "1           54.0     0.026               mt  Metric Tons     2076.923077  \n",
       "2          690.0     1.022               mt  Metric Tons      675.146771  \n",
       "3          159.0     0.061               mt  Metric Tons     2606.557377  \n",
       "4          219.0     0.184               mt  Metric Tons     1190.217391  \n",
       "...          ...       ...              ...          ...             ...  \n",
       "11375499  1579.0     0.105               mt  Metric Tons    15038.095238  \n",
       "11375500  2208.0     0.099               mt  Metric Tons    22303.030303  \n",
       "11375501   156.0     0.018               mt  Metric Tons     8666.666667  \n",
       "11375502    38.0     0.001               mt  Metric Tons    38000.000000  \n",
       "11375503   644.0     0.007               mt  Metric Tons    92000.000000  \n",
       "\n",
       "[11375504 rows x 13 columns]"
      ]
     },
     "execution_count": 37,
     "metadata": {},
     "output_type": "execute_result"
    }
   ],
   "source": [
    "pd_df.assign(price_per_unit=(pd_df[\"value\"] / pd_df[\"quantity\"]))"
   ]
  },
  {
   "cell_type": "code",
   "execution_count": null,
   "metadata": {},
   "outputs": [
    {
     "data": {
      "text/html": [
       "<div><style>\n",
       ".dataframe > thead > tr,\n",
       ".dataframe > tbody > tr {\n",
       "  text-align: right;\n",
       "  white-space: pre-wrap;\n",
       "}\n",
       "</style>\n",
       "<small>shape: (11_375_504, 14)</small><table border=\"1\" class=\"dataframe\"><thead><tr><th>year</th><th>exporter_id</th><th>exporter_name</th><th>importer_id</th><th>importer_name</th><th>hs_code</th><th>product_name</th><th>hs_revision</th><th>value</th><th>quantity</th><th>unit_abbrevation</th><th>unit_name</th><th>price_per_unit</th><th>price_per_unit_10x</th></tr><tr><td>i64</td><td>str</td><td>str</td><td>str</td><td>str</td><td>str</td><td>str</td><td>i64</td><td>f64</td><td>f64</td><td>str</td><td>str</td><td>f64</td><td>f64</td></tr></thead><tbody><tr><td>2022</td><td>&quot;BEL&quot;</td><td>&quot;Belgium&quot;</td><td>&quot;POL&quot;</td><td>&quot;Poland&quot;</td><td>&quot;110412&quot;</td><td>&quot;Oats, rolled or flaked grains&quot;</td><td>5</td><td>328.0</td><td>0.019</td><td>&quot;mt&quot;</td><td>&quot;Metric Tons&quot;</td><td>17263.157895</td><td>172631.578947</td></tr><tr><td>2022</td><td>&quot;BEL&quot;</td><td>&quot;Belgium&quot;</td><td>&quot;POL&quot;</td><td>&quot;Poland&quot;</td><td>&quot;110419&quot;</td><td>&quot;Cereals, rolled or flaked grai…</td><td>5</td><td>54.0</td><td>0.026</td><td>&quot;mt&quot;</td><td>&quot;Metric Tons&quot;</td><td>2076.923077</td><td>20769.230769</td></tr><tr><td>2022</td><td>&quot;BEL&quot;</td><td>&quot;Belgium&quot;</td><td>&quot;POL&quot;</td><td>&quot;Poland&quot;</td><td>&quot;110423&quot;</td><td>&quot;Maize (corn), hulled, pearled,…</td><td>5</td><td>690.0</td><td>1.022</td><td>&quot;mt&quot;</td><td>&quot;Metric Tons&quot;</td><td>675.146771</td><td>6751.46771</td></tr><tr><td>2022</td><td>&quot;BEL&quot;</td><td>&quot;Belgium&quot;</td><td>&quot;POL&quot;</td><td>&quot;Poland&quot;</td><td>&quot;110429&quot;</td><td>&quot;Cereals, hulled, pearled, slic…</td><td>5</td><td>159.0</td><td>0.061</td><td>&quot;mt&quot;</td><td>&quot;Metric Tons&quot;</td><td>2606.557377</td><td>26065.57377</td></tr><tr><td>2022</td><td>&quot;BEL&quot;</td><td>&quot;Belgium&quot;</td><td>&quot;POL&quot;</td><td>&quot;Poland&quot;</td><td>&quot;110430&quot;</td><td>&quot;Germ of cereals, whole, rolled…</td><td>5</td><td>219.0</td><td>0.184</td><td>&quot;mt&quot;</td><td>&quot;Metric Tons&quot;</td><td>1190.217391</td><td>11902.173913</td></tr><tr><td>&hellip;</td><td>&hellip;</td><td>&hellip;</td><td>&hellip;</td><td>&hellip;</td><td>&hellip;</td><td>&hellip;</td><td>&hellip;</td><td>&hellip;</td><td>&hellip;</td><td>&hellip;</td><td>&hellip;</td><td>&hellip;</td><td>&hellip;</td></tr><tr><td>2022</td><td>&quot;BEL&quot;</td><td>&quot;Belgium&quot;</td><td>&quot;NOR&quot;</td><td>&quot;Norway&quot;</td><td>&quot;960810&quot;</td><td>&quot;Ball point pens&quot;</td><td>5</td><td>1579.0</td><td>0.105</td><td>&quot;mt&quot;</td><td>&quot;Metric Tons&quot;</td><td>15038.095238</td><td>150380.952381</td></tr><tr><td>2022</td><td>&quot;BEL&quot;</td><td>&quot;Belgium&quot;</td><td>&quot;NOR&quot;</td><td>&quot;Norway&quot;</td><td>&quot;960820&quot;</td><td>&quot;Felt tipped, other porous-tipp…</td><td>5</td><td>2208.0</td><td>0.099</td><td>&quot;mt&quot;</td><td>&quot;Metric Tons&quot;</td><td>22303.030303</td><td>223030.30303</td></tr><tr><td>2022</td><td>&quot;BEL&quot;</td><td>&quot;Belgium&quot;</td><td>&quot;NOR&quot;</td><td>&quot;Norway&quot;</td><td>&quot;960830&quot;</td><td>&quot;Pens: fountain, stylograph and…</td><td>5</td><td>156.0</td><td>0.018</td><td>&quot;mt&quot;</td><td>&quot;Metric Tons&quot;</td><td>8666.666667</td><td>86666.666667</td></tr><tr><td>2022</td><td>&quot;BEL&quot;</td><td>&quot;Belgium&quot;</td><td>&quot;NOR&quot;</td><td>&quot;Norway&quot;</td><td>&quot;960850&quot;</td><td>&quot;Sets of mixed types of pens/pe…</td><td>5</td><td>38.0</td><td>0.001</td><td>&quot;mt&quot;</td><td>&quot;Metric Tons&quot;</td><td>38000.0</td><td>380000.0</td></tr><tr><td>2022</td><td>&quot;BEL&quot;</td><td>&quot;Belgium&quot;</td><td>&quot;NOR&quot;</td><td>&quot;Norway&quot;</td><td>&quot;960899&quot;</td><td>&quot;Duplicating stylos, pen/pencil…</td><td>5</td><td>644.0</td><td>0.007</td><td>&quot;mt&quot;</td><td>&quot;Metric Tons&quot;</td><td>92000.0</td><td>920000.0</td></tr></tbody></table></div>"
      ],
      "text/plain": [
       "shape: (11_375_504, 14)\n",
       "┌──────┬────────────┬────────────┬────────────┬───┬────────────┬───────────┬───────────┬───────────┐\n",
       "│ year ┆ exporter_i ┆ exporter_n ┆ importer_i ┆ … ┆ unit_abbre ┆ unit_name ┆ price_per ┆ price_per │\n",
       "│ ---  ┆ d          ┆ ame        ┆ d          ┆   ┆ vation     ┆ ---       ┆ _unit     ┆ _unit_10x │\n",
       "│ i64  ┆ ---        ┆ ---        ┆ ---        ┆   ┆ ---        ┆ str       ┆ ---       ┆ ---       │\n",
       "│      ┆ str        ┆ str        ┆ str        ┆   ┆ str        ┆           ┆ f64       ┆ f64       │\n",
       "╞══════╪════════════╪════════════╪════════════╪═══╪════════════╪═══════════╪═══════════╪═══════════╡\n",
       "│ 2022 ┆ BEL        ┆ Belgium    ┆ POL        ┆ … ┆ mt         ┆ Metric    ┆ 17263.157 ┆ 172631.57 │\n",
       "│      ┆            ┆            ┆            ┆   ┆            ┆ Tons      ┆ 895       ┆ 8947      │\n",
       "│ 2022 ┆ BEL        ┆ Belgium    ┆ POL        ┆ … ┆ mt         ┆ Metric    ┆ 2076.9230 ┆ 20769.230 │\n",
       "│      ┆            ┆            ┆            ┆   ┆            ┆ Tons      ┆ 77        ┆ 769       │\n",
       "│ 2022 ┆ BEL        ┆ Belgium    ┆ POL        ┆ … ┆ mt         ┆ Metric    ┆ 675.14677 ┆ 6751.4677 │\n",
       "│      ┆            ┆            ┆            ┆   ┆            ┆ Tons      ┆ 1         ┆ 1         │\n",
       "│ 2022 ┆ BEL        ┆ Belgium    ┆ POL        ┆ … ┆ mt         ┆ Metric    ┆ 2606.5573 ┆ 26065.573 │\n",
       "│      ┆            ┆            ┆            ┆   ┆            ┆ Tons      ┆ 77        ┆ 77        │\n",
       "│ 2022 ┆ BEL        ┆ Belgium    ┆ POL        ┆ … ┆ mt         ┆ Metric    ┆ 1190.2173 ┆ 11902.173 │\n",
       "│      ┆            ┆            ┆            ┆   ┆            ┆ Tons      ┆ 91        ┆ 913       │\n",
       "│ …    ┆ …          ┆ …          ┆ …          ┆ … ┆ …          ┆ …         ┆ …         ┆ …         │\n",
       "│ 2022 ┆ BEL        ┆ Belgium    ┆ NOR        ┆ … ┆ mt         ┆ Metric    ┆ 15038.095 ┆ 150380.95 │\n",
       "│      ┆            ┆            ┆            ┆   ┆            ┆ Tons      ┆ 238       ┆ 2381      │\n",
       "│ 2022 ┆ BEL        ┆ Belgium    ┆ NOR        ┆ … ┆ mt         ┆ Metric    ┆ 22303.030 ┆ 223030.30 │\n",
       "│      ┆            ┆            ┆            ┆   ┆            ┆ Tons      ┆ 303       ┆ 303       │\n",
       "│ 2022 ┆ BEL        ┆ Belgium    ┆ NOR        ┆ … ┆ mt         ┆ Metric    ┆ 8666.6666 ┆ 86666.666 │\n",
       "│      ┆            ┆            ┆            ┆   ┆            ┆ Tons      ┆ 67        ┆ 667       │\n",
       "│ 2022 ┆ BEL        ┆ Belgium    ┆ NOR        ┆ … ┆ mt         ┆ Metric    ┆ 38000.0   ┆ 380000.0  │\n",
       "│      ┆            ┆            ┆            ┆   ┆            ┆ Tons      ┆           ┆           │\n",
       "│ 2022 ┆ BEL        ┆ Belgium    ┆ NOR        ┆ … ┆ mt         ┆ Metric    ┆ 92000.0   ┆ 920000.0  │\n",
       "│      ┆            ┆            ┆            ┆   ┆            ┆ Tons      ┆           ┆           │\n",
       "└──────┴────────────┴────────────┴────────────┴───┴────────────┴───────────┴───────────┴───────────┘"
      ]
     },
     "execution_count": 42,
     "metadata": {},
     "output_type": "execute_result"
    }
   ],
   "source": [
    "pl_df.with_columns(\n",
    "    (pl.col(\"value\") / pl.col(\"quantity\")).alias(\"price_per_unit\"),\n",
    "    (pl.lit(10) * (pl.col(\"value\") / pl.col(\"quantity\"))).alias(\"price_per_unit_10x\"),\n",
    ")"
   ]
  },
  {
   "cell_type": "markdown",
   "metadata": {},
   "source": [
    "### Complex Query\n",
    "\n",
    "1. filter `exporter_id` contains \"A|B\"  \n",
    "& (`product_name`) starts OR ends with \"s\"\n",
    "\n",
    "2. add a `price_per_unit` column\n",
    "\n",
    "3. group by `[\"year\", \"exporter_id\", \"importer_id\"]`\n",
    "\n",
    "4. sum `value`"
   ]
  },
  {
   "cell_type": "code",
   "execution_count": 43,
   "metadata": {},
   "outputs": [],
   "source": [
    "def complex_query_pd(df: pd.DataFrame) -> pd.DataFrame:\n",
    "    return (\n",
    "        df[\n",
    "            df[\"exporter_id\"].str.contains(\"A|B\")\n",
    "            & (\n",
    "                df[\"product_name\"].str.endswith(\"s\")\n",
    "                | df[\"product_name\"].str.startswith(\"s\")\n",
    "            )\n",
    "        ]\n",
    "        .assign(price_per_unit=(pd_df[\"value\"] / pd_df[\"quantity\"]))\n",
    "        .groupby([\"year\", \"exporter_id\", \"importer_id\"])\n",
    "        .agg({\"value\": \"sum\"})\n",
    "    )"
   ]
  },
  {
   "cell_type": "code",
   "execution_count": 44,
   "metadata": {},
   "outputs": [
    {
     "data": {
      "text/html": [
       "<div>\n",
       "<style scoped>\n",
       "    .dataframe tbody tr th:only-of-type {\n",
       "        vertical-align: middle;\n",
       "    }\n",
       "\n",
       "    .dataframe tbody tr th {\n",
       "        vertical-align: top;\n",
       "    }\n",
       "\n",
       "    .dataframe thead th {\n",
       "        text-align: right;\n",
       "    }\n",
       "</style>\n",
       "<table border=\"1\" class=\"dataframe\">\n",
       "  <thead>\n",
       "    <tr style=\"text-align: right;\">\n",
       "      <th></th>\n",
       "      <th></th>\n",
       "      <th></th>\n",
       "      <th>value</th>\n",
       "    </tr>\n",
       "    <tr>\n",
       "      <th>year</th>\n",
       "      <th>exporter_id</th>\n",
       "      <th>importer_id</th>\n",
       "      <th></th>\n",
       "    </tr>\n",
       "  </thead>\n",
       "  <tbody>\n",
       "    <tr>\n",
       "      <th rowspan=\"11\" valign=\"top\">2022</th>\n",
       "      <th rowspan=\"5\" valign=\"top\">ABW</th>\n",
       "      <th>ARE</th>\n",
       "      <td>154217.0</td>\n",
       "    </tr>\n",
       "    <tr>\n",
       "      <th>ARG</th>\n",
       "      <td>17.0</td>\n",
       "    </tr>\n",
       "    <tr>\n",
       "      <th>AUT</th>\n",
       "      <td>97308.0</td>\n",
       "    </tr>\n",
       "    <tr>\n",
       "      <th>BEL</th>\n",
       "      <td>57272.0</td>\n",
       "    </tr>\n",
       "    <tr>\n",
       "      <th>BGR</th>\n",
       "      <td>553.0</td>\n",
       "    </tr>\n",
       "    <tr>\n",
       "      <th>...</th>\n",
       "      <th>...</th>\n",
       "      <td>...</td>\n",
       "    </tr>\n",
       "    <tr>\n",
       "      <th rowspan=\"5\" valign=\"top\">ZMB</th>\n",
       "      <th>USA</th>\n",
       "      <td>6299784.0</td>\n",
       "    </tr>\n",
       "    <tr>\n",
       "      <th>VNM</th>\n",
       "      <td>10214188.0</td>\n",
       "    </tr>\n",
       "    <tr>\n",
       "      <th>ZAF</th>\n",
       "      <td>52192870.0</td>\n",
       "    </tr>\n",
       "    <tr>\n",
       "      <th>ZWE</th>\n",
       "      <td>72761055.0</td>\n",
       "    </tr>\n",
       "    <tr>\n",
       "      <th>\\N</th>\n",
       "      <td>66323218.0</td>\n",
       "    </tr>\n",
       "  </tbody>\n",
       "</table>\n",
       "<p>9621 rows × 1 columns</p>\n",
       "</div>"
      ],
      "text/plain": [
       "                                   value\n",
       "year exporter_id importer_id            \n",
       "2022 ABW         ARE            154217.0\n",
       "                 ARG                17.0\n",
       "                 AUT             97308.0\n",
       "                 BEL             57272.0\n",
       "                 BGR               553.0\n",
       "...                                  ...\n",
       "     ZMB         USA           6299784.0\n",
       "                 VNM          10214188.0\n",
       "                 ZAF          52192870.0\n",
       "                 ZWE          72761055.0\n",
       "                 \\N           66323218.0\n",
       "\n",
       "[9621 rows x 1 columns]"
      ]
     },
     "execution_count": 44,
     "metadata": {},
     "output_type": "execute_result"
    }
   ],
   "source": [
    "pd_df.pipe(complex_query_pd)"
   ]
  },
  {
   "cell_type": "code",
   "execution_count": 56,
   "metadata": {},
   "outputs": [],
   "source": [
    "def complex_query_pl(df: pl.DataFrame) -> pl.DataFrame:\n",
    "    return (\n",
    "        df.filter(\n",
    "            (pl.col(\"exporter_id\").str.contains(\"A|B\"))\n",
    "            & (\n",
    "                pl.col(\"product_name\").str.starts_with(\"s\")\n",
    "                | pl.col(\"product_name\").str.ends_with(\"s\")\n",
    "            )\n",
    "        )\n",
    "        .with_columns(\n",
    "            (pl.col(\"value\") / pl.col(\"quantity\")).alias(\"price_per_unit\"),\n",
    "        )\n",
    "        .group_by([\"year\", \"exporter_id\", \"importer_id\"])\n",
    "        .agg(pl.col(\"value\").sum())\n",
    "    ).sort([\"year\", \"exporter_id\", \"importer_id\"])"
   ]
  },
  {
   "cell_type": "code",
   "execution_count": 57,
   "metadata": {},
   "outputs": [
    {
     "data": {
      "text/html": [
       "<div><style>\n",
       ".dataframe > thead > tr,\n",
       ".dataframe > tbody > tr {\n",
       "  text-align: right;\n",
       "  white-space: pre-wrap;\n",
       "}\n",
       "</style>\n",
       "<small>shape: (9_621, 4)</small><table border=\"1\" class=\"dataframe\"><thead><tr><th>year</th><th>exporter_id</th><th>importer_id</th><th>value</th></tr><tr><td>i64</td><td>str</td><td>str</td><td>f64</td></tr></thead><tbody><tr><td>2022</td><td>&quot;ABW&quot;</td><td>&quot;ARE&quot;</td><td>154217.0</td></tr><tr><td>2022</td><td>&quot;ABW&quot;</td><td>&quot;ARG&quot;</td><td>17.0</td></tr><tr><td>2022</td><td>&quot;ABW&quot;</td><td>&quot;AUT&quot;</td><td>97308.0</td></tr><tr><td>2022</td><td>&quot;ABW&quot;</td><td>&quot;BEL&quot;</td><td>57272.0</td></tr><tr><td>2022</td><td>&quot;ABW&quot;</td><td>&quot;BGR&quot;</td><td>553.0</td></tr><tr><td>&hellip;</td><td>&hellip;</td><td>&hellip;</td><td>&hellip;</td></tr><tr><td>2022</td><td>&quot;ZMB&quot;</td><td>&quot;USA&quot;</td><td>6.299784e6</td></tr><tr><td>2022</td><td>&quot;ZMB&quot;</td><td>&quot;VNM&quot;</td><td>1.0214188e7</td></tr><tr><td>2022</td><td>&quot;ZMB&quot;</td><td>&quot;ZAF&quot;</td><td>5.219287e7</td></tr><tr><td>2022</td><td>&quot;ZMB&quot;</td><td>&quot;ZWE&quot;</td><td>7.2761055e7</td></tr><tr><td>2022</td><td>&quot;ZMB&quot;</td><td>&quot;\\N&quot;</td><td>6.6323e7</td></tr></tbody></table></div>"
      ],
      "text/plain": [
       "shape: (9_621, 4)\n",
       "┌──────┬─────────────┬─────────────┬─────────────┐\n",
       "│ year ┆ exporter_id ┆ importer_id ┆ value       │\n",
       "│ ---  ┆ ---         ┆ ---         ┆ ---         │\n",
       "│ i64  ┆ str         ┆ str         ┆ f64         │\n",
       "╞══════╪═════════════╪═════════════╪═════════════╡\n",
       "│ 2022 ┆ ABW         ┆ ARE         ┆ 154217.0    │\n",
       "│ 2022 ┆ ABW         ┆ ARG         ┆ 17.0        │\n",
       "│ 2022 ┆ ABW         ┆ AUT         ┆ 97308.0     │\n",
       "│ 2022 ┆ ABW         ┆ BEL         ┆ 57272.0     │\n",
       "│ 2022 ┆ ABW         ┆ BGR         ┆ 553.0       │\n",
       "│ …    ┆ …           ┆ …           ┆ …           │\n",
       "│ 2022 ┆ ZMB         ┆ USA         ┆ 6.299784e6  │\n",
       "│ 2022 ┆ ZMB         ┆ VNM         ┆ 1.0214188e7 │\n",
       "│ 2022 ┆ ZMB         ┆ ZAF         ┆ 5.219287e7  │\n",
       "│ 2022 ┆ ZMB         ┆ ZWE         ┆ 7.2761055e7 │\n",
       "│ 2022 ┆ ZMB         ┆ \\N          ┆ 6.6323e7    │\n",
       "└──────┴─────────────┴─────────────┴─────────────┘"
      ]
     },
     "execution_count": 57,
     "metadata": {},
     "output_type": "execute_result"
    }
   ],
   "source": [
    "complex_query_pl(pl_df)"
   ]
  },
  {
   "cell_type": "markdown",
   "metadata": {},
   "source": [
    "### Complex Query — Lazy!?"
   ]
  },
  {
   "cell_type": "code",
   "execution_count": 49,
   "metadata": {},
   "outputs": [],
   "source": [
    "def complex_query_pl_lf(lf: pl.LazyFrame) -> pl.LazyFrame:\n",
    "    return (\n",
    "        lf.filter(\n",
    "            (pl.col(\"exporter_id\").str.contains(\"A|B\"))\n",
    "            & (\n",
    "                pl.col(\"product_name\").str.starts_with(\"s\")\n",
    "                | pl.col(\"product_name\").str.ends_with(\"s\")\n",
    "            )\n",
    "        )\n",
    "        .with_columns(price_per_unit=(pl.col(\"value\") / pl.col(\"quantity\")))\n",
    "        .group_by([\"year\", \"exporter_id\", \"importer_id\"])\n",
    "        .agg(pl.col(\"value\").sum())\n",
    "    ).sort([\"year\", \"exporter_id\", \"importer_id\"])"
   ]
  },
  {
   "cell_type": "code",
   "execution_count": 52,
   "metadata": {},
   "outputs": [],
   "source": [
    "complex_query_output_lf = complex_query_pl_lf(pl_df.lazy())"
   ]
  },
  {
   "cell_type": "code",
   "execution_count": 53,
   "metadata": {},
   "outputs": [
    {
     "data": {
      "text/html": [
       "<h4>NAIVE QUERY PLAN</h4><p>run <b>LazyFrame.show_graph()</b> to see the optimized version</p><?xml version=\"1.0\" encoding=\"UTF-8\" standalone=\"no\"?>\n",
       "<!DOCTYPE svg PUBLIC \"-//W3C//DTD SVG 1.1//EN\"\n",
       " \"http://www.w3.org/Graphics/SVG/1.1/DTD/svg11.dtd\">\n",
       "<!-- Generated by graphviz version 12.2.0 (20241103.1931)\n",
       " -->\n",
       "<!-- Title: polars_query Pages: 1 -->\n",
       "<svg width=\"590pt\" height=\"431pt\"\n",
       " viewBox=\"0.00 0.00 589.50 430.50\" xmlns=\"http://www.w3.org/2000/svg\" xmlns:xlink=\"http://www.w3.org/1999/xlink\">\n",
       "<g id=\"graph0\" class=\"graph\" transform=\"scale(1 1) rotate(0) translate(4 426.5)\">\n",
       "<title>polars_query</title>\n",
       "<polygon fill=\"white\" stroke=\"none\" points=\"-4,4 -4,-426.5 585.5,-426.5 585.5,4 -4,4\"/>\n",
       "<!-- p1 -->\n",
       "<g id=\"node1\" class=\"node\">\n",
       "<title>p1</title>\n",
       "<polygon fill=\"none\" stroke=\"black\" points=\"471.62,-422.5 109.88,-422.5 109.88,-386.5 471.62,-386.5 471.62,-422.5\"/>\n",
       "<text text-anchor=\"middle\" x=\"290.75\" y=\"-399.45\" font-family=\"Times,serif\" font-size=\"14.00\">SORT BY [col(&quot;year&quot;), col(&quot;exporter_id&quot;), col(&quot;importer_id&quot;)]</text>\n",
       "</g>\n",
       "<!-- p2 -->\n",
       "<g id=\"node2\" class=\"node\">\n",
       "<title>p2</title>\n",
       "<polygon fill=\"none\" stroke=\"black\" points=\"442,-350.5 139.5,-350.5 139.5,-293 442,-293 442,-350.5\"/>\n",
       "<text text-anchor=\"middle\" x=\"290.75\" y=\"-333.2\" font-family=\"Times,serif\" font-size=\"14.00\">AGG [col(&quot;value&quot;).sum()]</text>\n",
       "<text text-anchor=\"middle\" x=\"290.75\" y=\"-316.7\" font-family=\"Times,serif\" font-size=\"14.00\">BY</text>\n",
       "<text text-anchor=\"middle\" x=\"290.75\" y=\"-300.2\" font-family=\"Times,serif\" font-size=\"14.00\">[col(&quot;year&quot;), col(&quot;exporter_id&quot;), col(&quot;importer_id&quot;)]</text>\n",
       "</g>\n",
       "<!-- p1&#45;&#45;p2 -->\n",
       "<g id=\"edge1\" class=\"edge\">\n",
       "<title>p1&#45;&#45;p2</title>\n",
       "<path fill=\"none\" stroke=\"black\" d=\"M290.75,-386.38C290.75,-376.1 290.75,-362.77 290.75,-350.97\"/>\n",
       "</g>\n",
       "<!-- p3 -->\n",
       "<g id=\"node3\" class=\"node\">\n",
       "<title>p3</title>\n",
       "<polygon fill=\"none\" stroke=\"black\" points=\"515.88,-257 65.62,-257 65.62,-221 515.88,-221 515.88,-257\"/>\n",
       "<text text-anchor=\"middle\" x=\"290.75\" y=\"-233.95\" font-family=\"Times,serif\" font-size=\"14.00\">WITH COLUMNS [[(col(&quot;value&quot;)) / (col(&quot;quantity&quot;))].alias(&quot;price_per_unit&quot;)]</text>\n",
       "</g>\n",
       "<!-- p2&#45;&#45;p3 -->\n",
       "<g id=\"edge2\" class=\"edge\">\n",
       "<title>p2&#45;&#45;p3</title>\n",
       "<path fill=\"none\" stroke=\"black\" d=\"M290.75,-292.51C290.75,-280.68 290.75,-267.33 290.75,-257.04\"/>\n",
       "</g>\n",
       "<!-- p4 -->\n",
       "<g id=\"node4\" class=\"node\">\n",
       "<title>p4</title>\n",
       "<polygon fill=\"none\" stroke=\"black\" points=\"442.75,-185 138.75,-185 138.75,-149 442.75,-149 442.75,-185\"/>\n",
       "<text text-anchor=\"middle\" x=\"290.75\" y=\"-161.95\" font-family=\"Times,serif\" font-size=\"14.00\">FILTER BY col(&quot;exporter_id&quot;).str.contains([&quot;A|B&quot;])</text>\n",
       "</g>\n",
       "<!-- p3&#45;&#45;p4 -->\n",
       "<g id=\"edge3\" class=\"edge\">\n",
       "<title>p3&#45;&#45;p4</title>\n",
       "<path fill=\"none\" stroke=\"black\" d=\"M290.75,-220.7C290.75,-209.85 290.75,-195.92 290.75,-185.1\"/>\n",
       "</g>\n",
       "<!-- p5 -->\n",
       "<g id=\"node5\" class=\"node\">\n",
       "<title>p5</title>\n",
       "<polygon fill=\"none\" stroke=\"black\" points=\"581.5,-113 0,-113 0,-77 581.5,-77 581.5,-113\"/>\n",
       "<text text-anchor=\"middle\" x=\"290.75\" y=\"-89.95\" font-family=\"Times,serif\" font-size=\"14.00\">FILTER BY [(col(&quot;product_name&quot;).str.starts_with([&quot;s&quot;])) | (col(&quot;product_name&quot;).str.ends_with([&quot;s&quot;]))]</text>\n",
       "</g>\n",
       "<!-- p4&#45;&#45;p5 -->\n",
       "<g id=\"edge4\" class=\"edge\">\n",
       "<title>p4&#45;&#45;p5</title>\n",
       "<path fill=\"none\" stroke=\"black\" d=\"M290.75,-148.7C290.75,-137.85 290.75,-123.92 290.75,-113.1\"/>\n",
       "</g>\n",
       "<!-- p6 -->\n",
       "<g id=\"node6\" class=\"node\">\n",
       "<title>p6</title>\n",
       "<polygon fill=\"none\" stroke=\"black\" points=\"320.5,-41 261,-41 261,0 320.5,0 320.5,-41\"/>\n",
       "<text text-anchor=\"middle\" x=\"290.75\" y=\"-23.7\" font-family=\"Times,serif\" font-size=\"14.00\">TABLE</text>\n",
       "<text text-anchor=\"middle\" x=\"290.75\" y=\"-7.2\" font-family=\"Times,serif\" font-size=\"14.00\">π */12</text>\n",
       "</g>\n",
       "<!-- p5&#45;&#45;p6 -->\n",
       "<g id=\"edge5\" class=\"edge\">\n",
       "<title>p5&#45;&#45;p6</title>\n",
       "<path fill=\"none\" stroke=\"black\" d=\"M290.75,-76.82C290.75,-66.18 290.75,-52.49 290.75,-41.38\"/>\n",
       "</g>\n",
       "</g>\n",
       "</svg>\n"
      ],
      "text/plain": [
       "<LazyFrame at 0x42593D010>"
      ]
     },
     "execution_count": 53,
     "metadata": {},
     "output_type": "execute_result"
    }
   ],
   "source": [
    "complex_query_output_lf"
   ]
  },
  {
   "cell_type": "code",
   "execution_count": 54,
   "metadata": {},
   "outputs": [
    {
     "data": {
      "image/svg+xml": [
       "<svg xmlns=\"http://www.w3.org/2000/svg\" xmlns:xlink=\"http://www.w3.org/1999/xlink\" width=\"852pt\" height=\"287pt\" viewBox=\"0.00 0.00 852.00 286.50\">\n",
       "<g id=\"graph0\" class=\"graph\" transform=\"scale(1 1) rotate(0) translate(4 282.5)\">\n",
       "<title>polars_query</title>\n",
       "<polygon fill=\"white\" stroke=\"none\" points=\"-4,4 -4,-282.5 848,-282.5 848,4 -4,4\"/>\n",
       "<!-- p1 -->\n",
       "<g id=\"node1\" class=\"node\">\n",
       "<title>p1</title>\n",
       "<polygon fill=\"none\" stroke=\"black\" points=\"602.88,-278.5 241.12,-278.5 241.12,-242.5 602.88,-242.5 602.88,-278.5\"/>\n",
       "<text text-anchor=\"middle\" x=\"422\" y=\"-255.45\" font-family=\"Times,serif\" font-size=\"14.00\">SORT BY [col(&quot;year&quot;), col(&quot;exporter_id&quot;), col(&quot;importer_id&quot;)]</text>\n",
       "</g>\n",
       "<!-- p2 -->\n",
       "<g id=\"node2\" class=\"node\">\n",
       "<title>p2</title>\n",
       "<polygon fill=\"none\" stroke=\"black\" points=\"573.25,-206.5 270.75,-206.5 270.75,-149 573.25,-149 573.25,-206.5\"/>\n",
       "<text text-anchor=\"middle\" x=\"422\" y=\"-189.2\" font-family=\"Times,serif\" font-size=\"14.00\">AGG [col(&quot;value&quot;).sum()]</text>\n",
       "<text text-anchor=\"middle\" x=\"422\" y=\"-172.7\" font-family=\"Times,serif\" font-size=\"14.00\">BY</text>\n",
       "<text text-anchor=\"middle\" x=\"422\" y=\"-156.2\" font-family=\"Times,serif\" font-size=\"14.00\">[col(&quot;year&quot;), col(&quot;exporter_id&quot;), col(&quot;importer_id&quot;)]</text>\n",
       "</g>\n",
       "<!-- p1&#45;&#45;p2 -->\n",
       "<g id=\"edge1\" class=\"edge\">\n",
       "<title>p1--p2</title>\n",
       "<path fill=\"none\" stroke=\"black\" d=\"M422,-242.38C422,-232.1 422,-218.77 422,-206.97\"/>\n",
       "</g>\n",
       "<!-- p3 -->\n",
       "<g id=\"node3\" class=\"node\">\n",
       "<title>p3</title>\n",
       "<polygon fill=\"none\" stroke=\"black\" points=\"844,-113 0,-113 0,-77 844,-77 844,-113\"/>\n",
       "<text text-anchor=\"middle\" x=\"422\" y=\"-89.95\" font-family=\"Times,serif\" font-size=\"14.00\">FILTER BY [([(col(&quot;product_name&quot;).str.starts_with([&quot;s&quot;])) | (col(&quot;product_name&quot;).str.ends_with([&quot;s&quot;]))]) &amp; (col(&quot;exporter_id&quot;).str.contains([&quot;A|B&quot;]))]</text>\n",
       "</g>\n",
       "<!-- p2&#45;&#45;p3 -->\n",
       "<g id=\"edge2\" class=\"edge\">\n",
       "<title>p2--p3</title>\n",
       "<path fill=\"none\" stroke=\"black\" d=\"M422,-148.51C422,-136.68 422,-123.33 422,-113.04\"/>\n",
       "</g>\n",
       "<!-- p4 -->\n",
       "<g id=\"node4\" class=\"node\">\n",
       "<title>p4</title>\n",
       "<polygon fill=\"none\" stroke=\"black\" points=\"451.75,-41 392.25,-41 392.25,0 451.75,0 451.75,-41\"/>\n",
       "<text text-anchor=\"middle\" x=\"422\" y=\"-23.7\" font-family=\"Times,serif\" font-size=\"14.00\">TABLE</text>\n",
       "<text text-anchor=\"middle\" x=\"422\" y=\"-7.2\" font-family=\"Times,serif\" font-size=\"14.00\">π 5/12</text>\n",
       "</g>\n",
       "<!-- p3&#45;&#45;p4 -->\n",
       "<g id=\"edge3\" class=\"edge\">\n",
       "<title>p3--p4</title>\n",
       "<path fill=\"none\" stroke=\"black\" d=\"M422,-76.82C422,-66.18 422,-52.49 422,-41.38\"/>\n",
       "</g>\n",
       "</g>\n",
       "</svg>"
      ],
      "text/plain": [
       "<IPython.core.display.SVG object>"
      ]
     },
     "metadata": {},
     "output_type": "display_data"
    }
   ],
   "source": [
    "complex_query_output_lf.show_graph()"
   ]
  },
  {
   "cell_type": "code",
   "execution_count": 55,
   "metadata": {},
   "outputs": [
    {
     "data": {
      "text/html": [
       "<div><style>\n",
       ".dataframe > thead > tr,\n",
       ".dataframe > tbody > tr {\n",
       "  text-align: right;\n",
       "  white-space: pre-wrap;\n",
       "}\n",
       "</style>\n",
       "<small>shape: (9_621, 4)</small><table border=\"1\" class=\"dataframe\"><thead><tr><th>year</th><th>exporter_id</th><th>importer_id</th><th>value</th></tr><tr><td>i64</td><td>str</td><td>str</td><td>f64</td></tr></thead><tbody><tr><td>2022</td><td>&quot;ABW&quot;</td><td>&quot;ARE&quot;</td><td>154217.0</td></tr><tr><td>2022</td><td>&quot;ABW&quot;</td><td>&quot;ARG&quot;</td><td>17.0</td></tr><tr><td>2022</td><td>&quot;ABW&quot;</td><td>&quot;AUT&quot;</td><td>97308.0</td></tr><tr><td>2022</td><td>&quot;ABW&quot;</td><td>&quot;BEL&quot;</td><td>57272.0</td></tr><tr><td>2022</td><td>&quot;ABW&quot;</td><td>&quot;BGR&quot;</td><td>553.0</td></tr><tr><td>&hellip;</td><td>&hellip;</td><td>&hellip;</td><td>&hellip;</td></tr><tr><td>2022</td><td>&quot;ZMB&quot;</td><td>&quot;USA&quot;</td><td>6.299784e6</td></tr><tr><td>2022</td><td>&quot;ZMB&quot;</td><td>&quot;VNM&quot;</td><td>1.0214188e7</td></tr><tr><td>2022</td><td>&quot;ZMB&quot;</td><td>&quot;ZAF&quot;</td><td>5.219287e7</td></tr><tr><td>2022</td><td>&quot;ZMB&quot;</td><td>&quot;ZWE&quot;</td><td>7.2761055e7</td></tr><tr><td>2022</td><td>&quot;ZMB&quot;</td><td>&quot;\\N&quot;</td><td>6.6323e7</td></tr></tbody></table></div>"
      ],
      "text/plain": [
       "shape: (9_621, 4)\n",
       "┌──────┬─────────────┬─────────────┬─────────────┐\n",
       "│ year ┆ exporter_id ┆ importer_id ┆ value       │\n",
       "│ ---  ┆ ---         ┆ ---         ┆ ---         │\n",
       "│ i64  ┆ str         ┆ str         ┆ f64         │\n",
       "╞══════╪═════════════╪═════════════╪═════════════╡\n",
       "│ 2022 ┆ ABW         ┆ ARE         ┆ 154217.0    │\n",
       "│ 2022 ┆ ABW         ┆ ARG         ┆ 17.0        │\n",
       "│ 2022 ┆ ABW         ┆ AUT         ┆ 97308.0     │\n",
       "│ 2022 ┆ ABW         ┆ BEL         ┆ 57272.0     │\n",
       "│ 2022 ┆ ABW         ┆ BGR         ┆ 553.0       │\n",
       "│ …    ┆ …           ┆ …           ┆ …           │\n",
       "│ 2022 ┆ ZMB         ┆ USA         ┆ 6.299784e6  │\n",
       "│ 2022 ┆ ZMB         ┆ VNM         ┆ 1.0214188e7 │\n",
       "│ 2022 ┆ ZMB         ┆ ZAF         ┆ 5.219287e7  │\n",
       "│ 2022 ┆ ZMB         ┆ ZWE         ┆ 7.2761055e7 │\n",
       "│ 2022 ┆ ZMB         ┆ \\N          ┆ 6.6323e7    │\n",
       "└──────┴─────────────┴─────────────┴─────────────┘"
      ]
     },
     "execution_count": 55,
     "metadata": {},
     "output_type": "execute_result"
    }
   ],
   "source": [
    "complex_query_output_lf.collect()"
   ]
  },
  {
   "cell_type": "markdown",
   "metadata": {},
   "source": [
    "### Complex Query — From Disk\n",
    "\n",
    "Repeat the complex query—including reading the data in from disk—but only `\"scan\"` the polars data before performing the complex query"
   ]
  },
  {
   "cell_type": "markdown",
   "metadata": {},
   "source": [
    "#### pandas"
   ]
  },
  {
   "cell_type": "code",
   "execution_count": 58,
   "metadata": {},
   "outputs": [],
   "source": [
    "def complex_query_from_disk_pd() -> pd.DataFrame:\n",
    "    df = pd.read_parquet(DATA_PATH)\n",
    "    return (\n",
    "        df[\n",
    "            df[\"exporter_id\"].str.contains(\"A|B\")\n",
    "            & (\n",
    "                df[\"product_name\"].str.endswith(\"s\")\n",
    "                | df[\"product_name\"].str.startswith(\"s\")\n",
    "            )\n",
    "        ]\n",
    "        .assign(price_per_unit=(pd_df[\"value\"] / pd_df[\"quantity\"]))\n",
    "        .groupby([\"year\", \"exporter_id\", \"importer_id\"])\n",
    "        .agg({\"value\": \"sum\"})\n",
    "    )"
   ]
  },
  {
   "cell_type": "code",
   "execution_count": 59,
   "metadata": {},
   "outputs": [
    {
     "data": {
      "text/html": [
       "<div>\n",
       "<style scoped>\n",
       "    .dataframe tbody tr th:only-of-type {\n",
       "        vertical-align: middle;\n",
       "    }\n",
       "\n",
       "    .dataframe tbody tr th {\n",
       "        vertical-align: top;\n",
       "    }\n",
       "\n",
       "    .dataframe thead th {\n",
       "        text-align: right;\n",
       "    }\n",
       "</style>\n",
       "<table border=\"1\" class=\"dataframe\">\n",
       "  <thead>\n",
       "    <tr style=\"text-align: right;\">\n",
       "      <th></th>\n",
       "      <th></th>\n",
       "      <th></th>\n",
       "      <th>value</th>\n",
       "    </tr>\n",
       "    <tr>\n",
       "      <th>year</th>\n",
       "      <th>exporter_id</th>\n",
       "      <th>importer_id</th>\n",
       "      <th></th>\n",
       "    </tr>\n",
       "  </thead>\n",
       "  <tbody>\n",
       "    <tr>\n",
       "      <th rowspan=\"11\" valign=\"top\">2022</th>\n",
       "      <th rowspan=\"5\" valign=\"top\">ABW</th>\n",
       "      <th>ARE</th>\n",
       "      <td>154217.0</td>\n",
       "    </tr>\n",
       "    <tr>\n",
       "      <th>ARG</th>\n",
       "      <td>17.0</td>\n",
       "    </tr>\n",
       "    <tr>\n",
       "      <th>AUT</th>\n",
       "      <td>97308.0</td>\n",
       "    </tr>\n",
       "    <tr>\n",
       "      <th>BEL</th>\n",
       "      <td>57272.0</td>\n",
       "    </tr>\n",
       "    <tr>\n",
       "      <th>BGR</th>\n",
       "      <td>553.0</td>\n",
       "    </tr>\n",
       "    <tr>\n",
       "      <th>...</th>\n",
       "      <th>...</th>\n",
       "      <td>...</td>\n",
       "    </tr>\n",
       "    <tr>\n",
       "      <th rowspan=\"5\" valign=\"top\">ZMB</th>\n",
       "      <th>USA</th>\n",
       "      <td>6299784.0</td>\n",
       "    </tr>\n",
       "    <tr>\n",
       "      <th>VNM</th>\n",
       "      <td>10214188.0</td>\n",
       "    </tr>\n",
       "    <tr>\n",
       "      <th>ZAF</th>\n",
       "      <td>52192870.0</td>\n",
       "    </tr>\n",
       "    <tr>\n",
       "      <th>ZWE</th>\n",
       "      <td>72761055.0</td>\n",
       "    </tr>\n",
       "    <tr>\n",
       "      <th>\\N</th>\n",
       "      <td>66323218.0</td>\n",
       "    </tr>\n",
       "  </tbody>\n",
       "</table>\n",
       "<p>9621 rows × 1 columns</p>\n",
       "</div>"
      ],
      "text/plain": [
       "                                   value\n",
       "year exporter_id importer_id            \n",
       "2022 ABW         ARE            154217.0\n",
       "                 ARG                17.0\n",
       "                 AUT             97308.0\n",
       "                 BEL             57272.0\n",
       "                 BGR               553.0\n",
       "...                                  ...\n",
       "     ZMB         USA           6299784.0\n",
       "                 VNM          10214188.0\n",
       "                 ZAF          52192870.0\n",
       "                 ZWE          72761055.0\n",
       "                 \\N           66323218.0\n",
       "\n",
       "[9621 rows x 1 columns]"
      ]
     },
     "execution_count": 59,
     "metadata": {},
     "output_type": "execute_result"
    }
   ],
   "source": [
    "complex_query_from_disk_pd()"
   ]
  },
  {
   "cell_type": "markdown",
   "metadata": {},
   "source": [
    "#### polars"
   ]
  },
  {
   "cell_type": "code",
   "execution_count": 60,
   "metadata": {},
   "outputs": [
    {
     "data": {
      "text/html": [
       "<h4>NAIVE QUERY PLAN</h4><p>run <b>LazyFrame.show_graph()</b> to see the optimized version</p><?xml version=\"1.0\" encoding=\"UTF-8\" standalone=\"no\"?>\n",
       "<!DOCTYPE svg PUBLIC \"-//W3C//DTD SVG 1.1//EN\"\n",
       " \"http://www.w3.org/Graphics/SVG/1.1/DTD/svg11.dtd\">\n",
       "<!-- Generated by graphviz version 12.2.0 (20241103.1931)\n",
       " -->\n",
       "<!-- Title: polars_query Pages: 1 -->\n",
       "<svg width=\"329pt\" height=\"49pt\"\n",
       " viewBox=\"0.00 0.00 328.50 49.00\" xmlns=\"http://www.w3.org/2000/svg\" xmlns:xlink=\"http://www.w3.org/1999/xlink\">\n",
       "<g id=\"graph0\" class=\"graph\" transform=\"scale(1 1) rotate(0) translate(4 45)\">\n",
       "<title>polars_query</title>\n",
       "<polygon fill=\"white\" stroke=\"none\" points=\"-4,4 -4,-45 324.5,-45 324.5,4 -4,4\"/>\n",
       "<!-- p1 -->\n",
       "<g id=\"node1\" class=\"node\">\n",
       "<title>p1</title>\n",
       "<polygon fill=\"none\" stroke=\"black\" points=\"320.5,-41 0,-41 0,0 320.5,0 320.5,-41\"/>\n",
       "<text text-anchor=\"middle\" x=\"160.25\" y=\"-23.7\" font-family=\"Times,serif\" font-size=\"14.00\">Parquet SCAN [data/trade_i_baci_a_17__2022.parquet]</text>\n",
       "<text text-anchor=\"middle\" x=\"160.25\" y=\"-7.2\" font-family=\"Times,serif\" font-size=\"14.00\">π */12;</text>\n",
       "</g>\n",
       "</g>\n",
       "</svg>\n"
      ],
      "text/plain": [
       "<LazyFrame at 0x138DBEF30>"
      ]
     },
     "execution_count": 60,
     "metadata": {},
     "output_type": "execute_result"
    }
   ],
   "source": [
    "pl.scan_parquet(DATA_PATH)"
   ]
  },
  {
   "cell_type": "code",
   "execution_count": 62,
   "metadata": {},
   "outputs": [],
   "source": [
    "def complex_query_pl_from_disk() -> pl.LazyFrame:\n",
    "    lf: pl.LazyFrame = pl.scan_parquet(DATA_PATH)\n",
    "    return (\n",
    "        lf.filter(\n",
    "            (pl.col(\"exporter_id\").str.contains(\"A|B\"))\n",
    "            & (\n",
    "                pl.col(\"product_name\").str.ends_with(\"s\")\n",
    "                | pl.col(\"product_name\").str.starts_with(\"s\")\n",
    "            )\n",
    "        )\n",
    "        .with_columns((pl.col(\"value\") / pl.col(\"quantity\")).alias(\"price_per_unit\"))\n",
    "        .group_by([\"year\", \"exporter_id\", \"importer_id\"])\n",
    "        .agg(pl.col(\"value\").sum())\n",
    "    ).sort([\"year\", \"exporter_id\", \"importer_id\"])"
   ]
  },
  {
   "cell_type": "code",
   "execution_count": 63,
   "metadata": {},
   "outputs": [
    {
     "data": {
      "text/html": [
       "<h4>NAIVE QUERY PLAN</h4><p>run <b>LazyFrame.show_graph()</b> to see the optimized version</p><?xml version=\"1.0\" encoding=\"UTF-8\" standalone=\"no\"?>\n",
       "<!DOCTYPE svg PUBLIC \"-//W3C//DTD SVG 1.1//EN\"\n",
       " \"http://www.w3.org/Graphics/SVG/1.1/DTD/svg11.dtd\">\n",
       "<!-- Generated by graphviz version 12.2.0 (20241103.1931)\n",
       " -->\n",
       "<!-- Title: polars_query Pages: 1 -->\n",
       "<svg width=\"590pt\" height=\"431pt\"\n",
       " viewBox=\"0.00 0.00 589.50 430.50\" xmlns=\"http://www.w3.org/2000/svg\" xmlns:xlink=\"http://www.w3.org/1999/xlink\">\n",
       "<g id=\"graph0\" class=\"graph\" transform=\"scale(1 1) rotate(0) translate(4 426.5)\">\n",
       "<title>polars_query</title>\n",
       "<polygon fill=\"white\" stroke=\"none\" points=\"-4,4 -4,-426.5 585.5,-426.5 585.5,4 -4,4\"/>\n",
       "<!-- p1 -->\n",
       "<g id=\"node1\" class=\"node\">\n",
       "<title>p1</title>\n",
       "<polygon fill=\"none\" stroke=\"black\" points=\"471.62,-422.5 109.88,-422.5 109.88,-386.5 471.62,-386.5 471.62,-422.5\"/>\n",
       "<text text-anchor=\"middle\" x=\"290.75\" y=\"-399.45\" font-family=\"Times,serif\" font-size=\"14.00\">SORT BY [col(&quot;year&quot;), col(&quot;exporter_id&quot;), col(&quot;importer_id&quot;)]</text>\n",
       "</g>\n",
       "<!-- p2 -->\n",
       "<g id=\"node2\" class=\"node\">\n",
       "<title>p2</title>\n",
       "<polygon fill=\"none\" stroke=\"black\" points=\"442,-350.5 139.5,-350.5 139.5,-293 442,-293 442,-350.5\"/>\n",
       "<text text-anchor=\"middle\" x=\"290.75\" y=\"-333.2\" font-family=\"Times,serif\" font-size=\"14.00\">AGG [col(&quot;value&quot;).sum()]</text>\n",
       "<text text-anchor=\"middle\" x=\"290.75\" y=\"-316.7\" font-family=\"Times,serif\" font-size=\"14.00\">BY</text>\n",
       "<text text-anchor=\"middle\" x=\"290.75\" y=\"-300.2\" font-family=\"Times,serif\" font-size=\"14.00\">[col(&quot;year&quot;), col(&quot;exporter_id&quot;), col(&quot;importer_id&quot;)]</text>\n",
       "</g>\n",
       "<!-- p1&#45;&#45;p2 -->\n",
       "<g id=\"edge1\" class=\"edge\">\n",
       "<title>p1&#45;&#45;p2</title>\n",
       "<path fill=\"none\" stroke=\"black\" d=\"M290.75,-386.38C290.75,-376.1 290.75,-362.77 290.75,-350.97\"/>\n",
       "</g>\n",
       "<!-- p3 -->\n",
       "<g id=\"node3\" class=\"node\">\n",
       "<title>p3</title>\n",
       "<polygon fill=\"none\" stroke=\"black\" points=\"515.88,-257 65.62,-257 65.62,-221 515.88,-221 515.88,-257\"/>\n",
       "<text text-anchor=\"middle\" x=\"290.75\" y=\"-233.95\" font-family=\"Times,serif\" font-size=\"14.00\">WITH COLUMNS [[(col(&quot;value&quot;)) / (col(&quot;quantity&quot;))].alias(&quot;price_per_unit&quot;)]</text>\n",
       "</g>\n",
       "<!-- p2&#45;&#45;p3 -->\n",
       "<g id=\"edge2\" class=\"edge\">\n",
       "<title>p2&#45;&#45;p3</title>\n",
       "<path fill=\"none\" stroke=\"black\" d=\"M290.75,-292.51C290.75,-280.68 290.75,-267.33 290.75,-257.04\"/>\n",
       "</g>\n",
       "<!-- p4 -->\n",
       "<g id=\"node4\" class=\"node\">\n",
       "<title>p4</title>\n",
       "<polygon fill=\"none\" stroke=\"black\" points=\"442.75,-185 138.75,-185 138.75,-149 442.75,-149 442.75,-185\"/>\n",
       "<text text-anchor=\"middle\" x=\"290.75\" y=\"-161.95\" font-family=\"Times,serif\" font-size=\"14.00\">FILTER BY col(&quot;exporter_id&quot;).str.contains([&quot;A|B&quot;])</text>\n",
       "</g>\n",
       "<!-- p3&#45;&#45;p4 -->\n",
       "<g id=\"edge3\" class=\"edge\">\n",
       "<title>p3&#45;&#45;p4</title>\n",
       "<path fill=\"none\" stroke=\"black\" d=\"M290.75,-220.7C290.75,-209.85 290.75,-195.92 290.75,-185.1\"/>\n",
       "</g>\n",
       "<!-- p5 -->\n",
       "<g id=\"node5\" class=\"node\">\n",
       "<title>p5</title>\n",
       "<polygon fill=\"none\" stroke=\"black\" points=\"581.5,-113 0,-113 0,-77 581.5,-77 581.5,-113\"/>\n",
       "<text text-anchor=\"middle\" x=\"290.75\" y=\"-89.95\" font-family=\"Times,serif\" font-size=\"14.00\">FILTER BY [(col(&quot;product_name&quot;).str.ends_with([&quot;s&quot;])) | (col(&quot;product_name&quot;).str.starts_with([&quot;s&quot;]))]</text>\n",
       "</g>\n",
       "<!-- p4&#45;&#45;p5 -->\n",
       "<g id=\"edge4\" class=\"edge\">\n",
       "<title>p4&#45;&#45;p5</title>\n",
       "<path fill=\"none\" stroke=\"black\" d=\"M290.75,-148.7C290.75,-137.85 290.75,-123.92 290.75,-113.1\"/>\n",
       "</g>\n",
       "<!-- p6 -->\n",
       "<g id=\"node6\" class=\"node\">\n",
       "<title>p6</title>\n",
       "<polygon fill=\"none\" stroke=\"black\" points=\"451,-41 130.5,-41 130.5,0 451,0 451,-41\"/>\n",
       "<text text-anchor=\"middle\" x=\"290.75\" y=\"-23.7\" font-family=\"Times,serif\" font-size=\"14.00\">Parquet SCAN [data/trade_i_baci_a_17__2022.parquet]</text>\n",
       "<text text-anchor=\"middle\" x=\"290.75\" y=\"-7.2\" font-family=\"Times,serif\" font-size=\"14.00\">π */12;</text>\n",
       "</g>\n",
       "<!-- p5&#45;&#45;p6 -->\n",
       "<g id=\"edge5\" class=\"edge\">\n",
       "<title>p5&#45;&#45;p6</title>\n",
       "<path fill=\"none\" stroke=\"black\" d=\"M290.75,-76.82C290.75,-66.18 290.75,-52.49 290.75,-41.38\"/>\n",
       "</g>\n",
       "</g>\n",
       "</svg>\n"
      ],
      "text/plain": [
       "<LazyFrame at 0x138DBC560>"
      ]
     },
     "execution_count": 63,
     "metadata": {},
     "output_type": "execute_result"
    }
   ],
   "source": [
    "complex_query_pl_from_disk()"
   ]
  },
  {
   "cell_type": "code",
   "execution_count": 64,
   "metadata": {},
   "outputs": [
    {
     "data": {
      "image/svg+xml": [
       "<svg xmlns=\"http://www.w3.org/2000/svg\" xmlns:xlink=\"http://www.w3.org/1999/xlink\" width=\"792pt\" height=\"231pt\" viewBox=\"0.00 0.00 792.00 231.00\">\n",
       "<g id=\"graph0\" class=\"graph\" transform=\"scale(1 1) rotate(0) translate(4 227)\">\n",
       "<title>polars_query</title>\n",
       "<polygon fill=\"white\" stroke=\"none\" points=\"-4,4 -4,-227 788,-227 788,4 -4,4\"/>\n",
       "<!-- p1 -->\n",
       "<g id=\"node1\" class=\"node\">\n",
       "<title>p1</title>\n",
       "<polygon fill=\"none\" stroke=\"black\" points=\"572.88,-223 211.12,-223 211.12,-187 572.88,-187 572.88,-223\"/>\n",
       "<text text-anchor=\"middle\" x=\"392\" y=\"-199.95\" font-family=\"Times,serif\" font-size=\"14.00\">SORT BY [col(&quot;year&quot;), col(&quot;exporter_id&quot;), col(&quot;importer_id&quot;)]</text>\n",
       "</g>\n",
       "<!-- p2 -->\n",
       "<g id=\"node2\" class=\"node\">\n",
       "<title>p2</title>\n",
       "<polygon fill=\"none\" stroke=\"black\" points=\"543.25,-151 240.75,-151 240.75,-93.5 543.25,-93.5 543.25,-151\"/>\n",
       "<text text-anchor=\"middle\" x=\"392\" y=\"-133.7\" font-family=\"Times,serif\" font-size=\"14.00\">AGG [col(&quot;value&quot;).sum()]</text>\n",
       "<text text-anchor=\"middle\" x=\"392\" y=\"-117.2\" font-family=\"Times,serif\" font-size=\"14.00\">BY</text>\n",
       "<text text-anchor=\"middle\" x=\"392\" y=\"-100.7\" font-family=\"Times,serif\" font-size=\"14.00\">[col(&quot;year&quot;), col(&quot;exporter_id&quot;), col(&quot;importer_id&quot;)]</text>\n",
       "</g>\n",
       "<!-- p1&#45;&#45;p2 -->\n",
       "<g id=\"edge1\" class=\"edge\">\n",
       "<title>p1--p2</title>\n",
       "<path fill=\"none\" stroke=\"black\" d=\"M392,-186.88C392,-176.6 392,-163.27 392,-151.47\"/>\n",
       "</g>\n",
       "<!-- p3 -->\n",
       "<g id=\"node3\" class=\"node\">\n",
       "<title>p3</title>\n",
       "<polygon fill=\"none\" stroke=\"black\" points=\"784,-57.5 0,-57.5 0,0 784,0 784,-57.5\"/>\n",
       "<text text-anchor=\"middle\" x=\"392\" y=\"-40.2\" font-family=\"Times,serif\" font-size=\"14.00\">Parquet SCAN [data/trade_i_baci_a_17__2022.parquet]</text>\n",
       "<text text-anchor=\"middle\" x=\"392\" y=\"-23.7\" font-family=\"Times,serif\" font-size=\"14.00\">π 5/12;</text>\n",
       "<text text-anchor=\"middle\" x=\"392\" y=\"-7.2\" font-family=\"Times,serif\" font-size=\"14.00\">σ [(col(&quot;exporter_id&quot;).str.contains([&quot;A|B&quot;])) &amp; ([(col(&quot;product_name&quot;).str.ends_with([&quot;s&quot;])) | (col(&quot;product_name&quot;).str.starts_with([&quot;s&quot;]))])]</text>\n",
       "</g>\n",
       "<!-- p2&#45;&#45;p3 -->\n",
       "<g id=\"edge2\" class=\"edge\">\n",
       "<title>p2--p3</title>\n",
       "<path fill=\"none\" stroke=\"black\" d=\"M392,-93.3C392,-82.05 392,-69.11 392,-57.84\"/>\n",
       "</g>\n",
       "</g>\n",
       "</svg>"
      ],
      "text/plain": [
       "<IPython.core.display.SVG object>"
      ]
     },
     "metadata": {},
     "output_type": "display_data"
    }
   ],
   "source": [
    "complex_query_pl_from_disk().show_graph()"
   ]
  },
  {
   "cell_type": "code",
   "execution_count": 65,
   "metadata": {},
   "outputs": [
    {
     "data": {
      "text/html": [
       "<div><style>\n",
       ".dataframe > thead > tr,\n",
       ".dataframe > tbody > tr {\n",
       "  text-align: right;\n",
       "  white-space: pre-wrap;\n",
       "}\n",
       "</style>\n",
       "<small>shape: (9_621, 4)</small><table border=\"1\" class=\"dataframe\"><thead><tr><th>year</th><th>exporter_id</th><th>importer_id</th><th>value</th></tr><tr><td>i64</td><td>str</td><td>str</td><td>f64</td></tr></thead><tbody><tr><td>2022</td><td>&quot;ABW&quot;</td><td>&quot;ARE&quot;</td><td>154217.0</td></tr><tr><td>2022</td><td>&quot;ABW&quot;</td><td>&quot;ARG&quot;</td><td>17.0</td></tr><tr><td>2022</td><td>&quot;ABW&quot;</td><td>&quot;AUT&quot;</td><td>97308.0</td></tr><tr><td>2022</td><td>&quot;ABW&quot;</td><td>&quot;BEL&quot;</td><td>57272.0</td></tr><tr><td>2022</td><td>&quot;ABW&quot;</td><td>&quot;BGR&quot;</td><td>553.0</td></tr><tr><td>&hellip;</td><td>&hellip;</td><td>&hellip;</td><td>&hellip;</td></tr><tr><td>2022</td><td>&quot;ZMB&quot;</td><td>&quot;USA&quot;</td><td>6.299784e6</td></tr><tr><td>2022</td><td>&quot;ZMB&quot;</td><td>&quot;VNM&quot;</td><td>1.0214188e7</td></tr><tr><td>2022</td><td>&quot;ZMB&quot;</td><td>&quot;ZAF&quot;</td><td>5.219287e7</td></tr><tr><td>2022</td><td>&quot;ZMB&quot;</td><td>&quot;ZWE&quot;</td><td>7.2761055e7</td></tr><tr><td>2022</td><td>&quot;ZMB&quot;</td><td>&quot;\\N&quot;</td><td>6.6323e7</td></tr></tbody></table></div>"
      ],
      "text/plain": [
       "shape: (9_621, 4)\n",
       "┌──────┬─────────────┬─────────────┬─────────────┐\n",
       "│ year ┆ exporter_id ┆ importer_id ┆ value       │\n",
       "│ ---  ┆ ---         ┆ ---         ┆ ---         │\n",
       "│ i64  ┆ str         ┆ str         ┆ f64         │\n",
       "╞══════╪═════════════╪═════════════╪═════════════╡\n",
       "│ 2022 ┆ ABW         ┆ ARE         ┆ 154217.0    │\n",
       "│ 2022 ┆ ABW         ┆ ARG         ┆ 17.0        │\n",
       "│ 2022 ┆ ABW         ┆ AUT         ┆ 97308.0     │\n",
       "│ 2022 ┆ ABW         ┆ BEL         ┆ 57272.0     │\n",
       "│ 2022 ┆ ABW         ┆ BGR         ┆ 553.0       │\n",
       "│ …    ┆ …           ┆ …           ┆ …           │\n",
       "│ 2022 ┆ ZMB         ┆ USA         ┆ 6.299784e6  │\n",
       "│ 2022 ┆ ZMB         ┆ VNM         ┆ 1.0214188e7 │\n",
       "│ 2022 ┆ ZMB         ┆ ZAF         ┆ 5.219287e7  │\n",
       "│ 2022 ┆ ZMB         ┆ ZWE         ┆ 7.2761055e7 │\n",
       "│ 2022 ┆ ZMB         ┆ \\N          ┆ 6.6323e7    │\n",
       "└──────┴─────────────┴─────────────┴─────────────┘"
      ]
     },
     "execution_count": 65,
     "metadata": {},
     "output_type": "execute_result"
    }
   ],
   "source": [
    "complex_query_pl_from_disk().collect()"
   ]
  },
  {
   "cell_type": "code",
   "execution_count": 66,
   "metadata": {},
   "outputs": [],
   "source": [
    "complex_query_pl_from_disk().sink_parquet(\"test.parquet\")"
   ]
  }
 ],
 "metadata": {
  "kernelspec": {
   "display_name": ".venv",
   "language": "python",
   "name": "python3"
  },
  "language_info": {
   "codemirror_mode": {
    "name": "ipython",
    "version": 3
   },
   "file_extension": ".py",
   "mimetype": "text/x-python",
   "name": "python",
   "nbconvert_exporter": "python",
   "pygments_lexer": "ipython3",
   "version": "3.12.7"
  }
 },
 "nbformat": 4,
 "nbformat_minor": 2
}
