{
 "cells": [
  {
   "cell_type": "markdown",
   "metadata": {},
   "source": [
    "# Polars Tutorial"
   ]
  },
  {
   "cell_type": "code",
   "execution_count": null,
   "metadata": {},
   "outputs": [],
   "source": [
    "import pandas as pd\n",
    "import polars as pl\n",
    "from pathlib import Path"
   ]
  },
  {
   "cell_type": "markdown",
   "metadata": {},
   "source": [
    "# Motivation"
   ]
  },
  {
   "cell_type": "markdown",
   "metadata": {},
   "source": [
    "## Separate Data from Logic\n",
    "- Speed optimization\n",
    "- Method chaining\n",
    "- --> better code & can customize logic more extensively\n",
    "\n",
    "\n",
    "## Speed\n",
    "- Built-in parallelization + many other optimizations\n",
    "- ~10-100X faster than pandas\n",
    "<img src=\"assets/benchmark.png\" alt=\"image\" style=\"width:1200px;\">\n",
    "\n",
    "## Memory Optimization\n",
    "- Larger than memory data\n",
    "- More efficient storage --> can load more data into memory\n",
    "- Wes McKinney's rule of thumb (pandas): \"you should have 5 to 10 times as much RAM as the size of your dataset\". 💀❌💀\n",
    "\n",
    "## Syntax\n",
    "- Method chaining --> one interaction with data --> better code\n",
    "- Better dtypes (formal lists, structs, strict numerics)\n",
    "- No more indexes!!\n",
    "\n",
    "## Multi-Language\n",
    "- Python\n",
    "- Rust\n",
    "- JS\n",
    "- R (nascent)\n",
    "- Ruby (nascent)\n",
    "\n",
    "## Downsides\n",
    "- Less popular (for now...)\n",
    "    - ==> less stackoverflow/etc\n",
    "    - ==> less LLM knowledge\n",
    "- Can be verbose, especially at first"
   ]
  },
  {
   "cell_type": "markdown",
   "metadata": {},
   "source": [
    "# Tutorial"
   ]
  },
  {
   "cell_type": "markdown",
   "metadata": {},
   "source": [
    "## Sample Dataset"
   ]
  },
  {
   "cell_type": "code",
   "execution_count": null,
   "metadata": {},
   "outputs": [],
   "source": [
    "DATA_PATH = Path(\"data/trade_i_baci_a_17__2022.parquet\")"
   ]
  },
  {
   "cell_type": "markdown",
   "metadata": {},
   "source": [
    "### Dataset Preview\n",
    "\n",
    "**Shape:** (11,375,504, 12)\n",
    "\n",
    "| year | exporter_id | exporter_name | importer_id | ... | value  | quantity | unit_abbrev | unit_name   |\n",
    "|------|-------------|---------------|-------------|-----|--------|----------|-------------|-------------|\n",
    "| i64  | str         | str           | str         |     | f64    | f64      | str         | str         |\n",
    "| 2022 | BEL         | Belgium       | POL         | ... | 328.0  | 0.019    | mt          | Metric Tons |\n",
    "| 2022 | BEL         | Belgium       | POL         | ... | 54.0   | 0.026    | mt          | Metric Tons |\n",
    "| 2022 | BEL         | Belgium       | POL         | ... | 690.0  | 1.022    | mt          | Metric Tons |\n",
    "| 2022 | BEL         | Belgium       | POL         | ... | 159.0  | 0.061    | mt          | Metric Tons |\n",
    "| 2022 | BEL         | Belgium       | POL         | ... | 219.0  | 0.184    | mt          | Metric Tons |\n",
    "| ...  | ...         | ...           | ...         | ... | ...    | ...      | ...         | ...         |\n",
    "| 2022 | GHA         | Ghana         | NOR         | ... | 1579.0 | 0.105    | mt          | Metric Tons |\n",
    "| 2022 | GHA         | Ghana         | NOR         | ... | 2208.0 | 0.099    | mt          | Metric Tons |\n",
    "| 2022 | GHA         | Ghana         | NOR         | ... | 156.0  | 0.018    | mt          | Metric Tons |\n",
    "| 2022 | GHA         | Ghana         | NOR         | ... | 38.0   | 0.001    | mt          | Metric Tons |\n",
    "| 2022 | GHA         | Ghana         | NOR         | ... | 644.0  | 0.007    | mt          | Metric Tons |"
   ]
  },
  {
   "cell_type": "markdown",
   "metadata": {},
   "source": [
    "## Example: read data"
   ]
  },
  {
   "cell_type": "markdown",
   "metadata": {},
   "source": [
    "### Pandas"
   ]
  },
  {
   "cell_type": "code",
   "execution_count": null,
   "metadata": {},
   "outputs": [],
   "source": [
    "pd_df: pd.DataFrame = pd.read_parquet(DATA_PATH)"
   ]
  },
  {
   "cell_type": "markdown",
   "metadata": {},
   "source": [
    "#### Check Memory Usage"
   ]
  },
  {
   "cell_type": "code",
   "execution_count": null,
   "metadata": {},
   "outputs": [],
   "source": [
    "pd_df.memory_usage(deep=True).sum() / (1024**3)  # convert bytes to GB"
   ]
  },
  {
   "cell_type": "markdown",
   "metadata": {},
   "source": [
    "### Polars"
   ]
  },
  {
   "cell_type": "code",
   "execution_count": null,
   "metadata": {},
   "outputs": [],
   "source": [
    "pl_df: pl.dataframe = pl.read_parquet(DATA_PATH)"
   ]
  },
  {
   "cell_type": "markdown",
   "metadata": {},
   "source": [
    "#### Check Memory Usage"
   ]
  },
  {
   "cell_type": "code",
   "execution_count": null,
   "metadata": {},
   "outputs": [],
   "source": [
    "pl_df.estimated_size() / (1024**3)  # convert bytes to GB"
   ]
  },
  {
   "cell_type": "markdown",
   "metadata": {},
   "source": [
    "## Example: Select Data\n",
    "\n",
    "`[\"exporter_id\"]`  \n",
    "\n",
    "`[\"exporter_id\", \"exporter_name\"]`"
   ]
  },
  {
   "cell_type": "code",
   "execution_count": null,
   "metadata": {},
   "outputs": [],
   "source": [
    "display(pd_df[\"exporter_id\"])\n",
    "display(pd_df[[\"exporter_id\", \"exporter_name\"]])"
   ]
  },
  {
   "cell_type": "code",
   "execution_count": null,
   "metadata": {},
   "outputs": [],
   "source": [
    "display()\n",
    "display()"
   ]
  },
  {
   "cell_type": "markdown",
   "metadata": {},
   "source": [
    "### Select data by type\n",
    "\n",
    "string columns"
   ]
  },
  {
   "cell_type": "code",
   "execution_count": null,
   "metadata": {},
   "outputs": [],
   "source": [
    "pl_df.select(...)"
   ]
  },
  {
   "cell_type": "markdown",
   "metadata": {},
   "source": [
    "### What's this `pl.col()` stuff??\n",
    "\n",
    "- `pl.Expr`\n",
    "- Instruction; not data\n",
    "- Building blocks"
   ]
  },
  {
   "cell_type": "markdown",
   "metadata": {},
   "source": [
    "### Select Modified Data\n",
    "\n",
    "Example 1: select a string column and split it into a list column, on the letter \"L\"\n",
    "\n",
    "Example 2: Example 1 + take the first element of the resulting arrays"
   ]
  },
  {
   "cell_type": "code",
   "execution_count": null,
   "metadata": {},
   "outputs": [],
   "source": [
    "display(pd_df[\"exporter_id\"].str.split(\"L\"))"
   ]
  },
  {
   "cell_type": "code",
   "execution_count": null,
   "metadata": {},
   "outputs": [],
   "source": [
    "display(pd_df[\"exporter_id\"].str.split(\"L\").str[0])"
   ]
  },
  {
   "cell_type": "code",
   "execution_count": null,
   "metadata": {},
   "outputs": [],
   "source": [
    "..."
   ]
  },
  {
   "cell_type": "code",
   "execution_count": null,
   "metadata": {},
   "outputs": [],
   "source": [
    "..."
   ]
  },
  {
   "cell_type": "markdown",
   "metadata": {},
   "source": [
    "## Example: Filter (Substring Search)\n",
    "\n",
    "find `cocoa` in the `product_name` column (case-insensitive)"
   ]
  },
  {
   "cell_type": "code",
   "execution_count": null,
   "metadata": {},
   "outputs": [],
   "source": [
    "pd_df[pd_df[\"product_name\"].str.contains(\"(?i)cocoa\", regex=True)]"
   ]
  },
  {
   "cell_type": "code",
   "execution_count": null,
   "metadata": {},
   "outputs": [],
   "source": [
    "..."
   ]
  },
  {
   "cell_type": "markdown",
   "metadata": {},
   "source": [
    "## Example: Group\n",
    "\n"
   ]
  },
  {
   "cell_type": "code",
   "execution_count": null,
   "metadata": {},
   "outputs": [],
   "source": [
    "pd_df.groupby(\"exporter_id\").agg({\"value\": \"sum\", \"quantity\": [\"sum\", \"mean\"]})"
   ]
  },
  {
   "cell_type": "code",
   "execution_count": null,
   "metadata": {},
   "outputs": [],
   "source": [
    "pl_df.group_by(...).agg(...)"
   ]
  },
  {
   "cell_type": "markdown",
   "metadata": {},
   "source": [
    "## Example: Add a column"
   ]
  },
  {
   "cell_type": "code",
   "execution_count": null,
   "metadata": {},
   "outputs": [],
   "source": [
    "pd_df.assign(price_per_unit=(pd_df[\"value\"] / pd_df[\"quantity\"]))"
   ]
  },
  {
   "cell_type": "code",
   "execution_count": null,
   "metadata": {},
   "outputs": [],
   "source": [
    "pl_df.with_columns(...)"
   ]
  },
  {
   "cell_type": "markdown",
   "metadata": {},
   "source": [
    "### Complex Query\n",
    "\n",
    "1. filter `exporter_id` contains \"A|B\"  \n",
    "& (`product_name`) starts OR ends with \"s\"\n",
    "\n",
    "2. add a `price_per_unit` column\n",
    "\n",
    "3. group by `[\"year\", \"exporter_id\", \"importer_id\"]`\n",
    "\n",
    "4. sum `value`"
   ]
  },
  {
   "cell_type": "code",
   "execution_count": null,
   "metadata": {},
   "outputs": [],
   "source": [
    "def complex_query_pd(df: pd.DataFrame) -> pd.DataFrame:\n",
    "    return (\n",
    "        df[\n",
    "            df[\"exporter_id\"].str.contains(\"A|B\")\n",
    "            & (\n",
    "                df[\"product_name\"].str.endswith(\"s\")\n",
    "                | df[\"product_name\"].str.startswith(\"s\")\n",
    "            )\n",
    "        ]\n",
    "        .assign(price_per_unit=(pd_df[\"value\"] / pd_df[\"quantity\"]))\n",
    "        .groupby([\"year\", \"exporter_id\", \"importer_id\"])\n",
    "        .agg({\"value\": \"sum\"})\n",
    "    )"
   ]
  },
  {
   "cell_type": "code",
   "execution_count": null,
   "metadata": {},
   "outputs": [],
   "source": [
    "pd_df.pipe(complex_query_pd)"
   ]
  },
  {
   "cell_type": "code",
   "execution_count": null,
   "metadata": {},
   "outputs": [],
   "source": [
    "def complex_query_pl(df: pl.DataFrame) -> pl.DataFrame:\n",
    "    return (\n",
    "        df.filter(\n",
    "            (pl.col(\"exporter_id\").str.contains(\"A|B\"))\n",
    "            & (\n",
    "                pl.col(\"product_name\").str.starts_with(\"s\")\n",
    "                | pl.col(\"product_name\").str.ends_with(\"s\")\n",
    "            )\n",
    "        )\n",
    "        .with_columns(\n",
    "            (pl.col(\"value\") / pl.col(\"quantity\")).alias(\"price_per_unit\"),\n",
    "        )\n",
    "        .group_by([\"year\", \"exporter_id\", \"importer_id\"])\n",
    "        .agg(pl.col(\"value\").sum())\n",
    "    ).sort([\"year\", \"exporter_id\", \"importer_id\"])"
   ]
  },
  {
   "cell_type": "code",
   "execution_count": null,
   "metadata": {},
   "outputs": [],
   "source": [
    "complex_query_pl(pl_df)"
   ]
  },
  {
   "cell_type": "markdown",
   "metadata": {},
   "source": [
    "### Complex Query — Lazy!?"
   ]
  },
  {
   "cell_type": "code",
   "execution_count": null,
   "metadata": {},
   "outputs": [],
   "source": [
    "def complex_query_pl_lf(lf: pl.LazyFrame) -> pl.LazyFrame:\n",
    "    return (\n",
    "        lf.filter(\n",
    "            (pl.col(\"exporter_id\").str.contains(\"A|B\"))\n",
    "            & (\n",
    "                pl.col(\"product_name\").str.starts_with(\"s\")\n",
    "                | pl.col(\"product_name\").str.ends_with(\"s\")\n",
    "            )\n",
    "        )\n",
    "        .with_columns(price_per_unit=(pl.col(\"value\") / pl.col(\"quantity\")))\n",
    "        .group_by([\"year\", \"exporter_id\", \"importer_id\"])\n",
    "        .agg(pl.col(\"value\").sum())\n",
    "    ).sort([\"year\", \"exporter_id\", \"importer_id\"])"
   ]
  },
  {
   "cell_type": "code",
   "execution_count": null,
   "metadata": {},
   "outputs": [],
   "source": [
    "complex_query_output_lf = complex_query_pl_lf(...)"
   ]
  },
  {
   "cell_type": "code",
   "execution_count": null,
   "metadata": {},
   "outputs": [],
   "source": [
    "complex_query_output_lf"
   ]
  },
  {
   "cell_type": "code",
   "execution_count": null,
   "metadata": {},
   "outputs": [],
   "source": [
    "complex_query_output_lf.show_graph()"
   ]
  },
  {
   "cell_type": "code",
   "execution_count": null,
   "metadata": {},
   "outputs": [],
   "source": [
    "complex_query_output_lf.collect()"
   ]
  },
  {
   "cell_type": "markdown",
   "metadata": {},
   "source": [
    "### Complex Query — From Disk\n",
    "\n",
    "Repeat the complex query—including reading the data in from disk—but only `\"scan\"` the polars data before performing the complex query"
   ]
  },
  {
   "cell_type": "markdown",
   "metadata": {},
   "source": [
    "#### pandas"
   ]
  },
  {
   "cell_type": "code",
   "execution_count": null,
   "metadata": {},
   "outputs": [],
   "source": [
    "def complex_query_from_disk_pd() -> pd.DataFrame:\n",
    "    df = pd.read_parquet(DATA_PATH)\n",
    "    return (\n",
    "        df[\n",
    "            df[\"exporter_id\"].str.contains(\"A|B\")\n",
    "            & (\n",
    "                df[\"product_name\"].str.endswith(\"s\")\n",
    "                | df[\"product_name\"].str.startswith(\"s\")\n",
    "            )\n",
    "        ]\n",
    "        .assign(price_per_unit=(pd_df[\"value\"] / pd_df[\"quantity\"]))\n",
    "        .groupby([\"year\", \"exporter_id\", \"importer_id\"])\n",
    "        .agg({\"value\": \"sum\"})\n",
    "    )"
   ]
  },
  {
   "cell_type": "code",
   "execution_count": null,
   "metadata": {},
   "outputs": [],
   "source": [
    "complex_query_from_disk_pd()"
   ]
  },
  {
   "cell_type": "markdown",
   "metadata": {},
   "source": [
    "#### polars"
   ]
  },
  {
   "cell_type": "code",
   "execution_count": null,
   "metadata": {},
   "outputs": [],
   "source": [
    "pl.scan_parquet(DATA_PATH)"
   ]
  },
  {
   "cell_type": "code",
   "execution_count": null,
   "metadata": {},
   "outputs": [],
   "source": [
    "def complex_query_pl_from_disk() -> pl.LazyFrame:\n",
    "    lf: pl.LazyFrame = pl.scan_parquet(DATA_PATH)\n",
    "    return (\n",
    "        lf.filter(\n",
    "            (pl.col(\"exporter_id\").str.contains(\"A|B\"))\n",
    "            & (\n",
    "                pl.col(\"product_name\").str.ends_with(\"s\")\n",
    "                | pl.col(\"product_name\").str.starts_with(\"s\")\n",
    "            )\n",
    "        )\n",
    "        .with_columns((pl.col(\"value\") / pl.col(\"quantity\")).alias(\"price_per_unit\"))\n",
    "        .group_by([\"year\", \"exporter_id\", \"importer_id\"])\n",
    "        .agg(pl.col(\"value\").sum())\n",
    "    ).sort([\"year\", \"exporter_id\", \"importer_id\"])"
   ]
  },
  {
   "cell_type": "code",
   "execution_count": null,
   "metadata": {},
   "outputs": [],
   "source": [
    "complex_query_pl_from_disk()"
   ]
  },
  {
   "cell_type": "code",
   "execution_count": null,
   "metadata": {},
   "outputs": [],
   "source": [
    "complex_query_pl_from_disk().show_graph()"
   ]
  },
  {
   "cell_type": "code",
   "execution_count": null,
   "metadata": {},
   "outputs": [],
   "source": [
    "complex_query_pl_from_disk().collect()"
   ]
  },
  {
   "cell_type": "code",
   "execution_count": null,
   "metadata": {},
   "outputs": [],
   "source": [
    "# sink"
   ]
  }
 ],
 "metadata": {
  "kernelspec": {
   "display_name": ".venv",
   "language": "python",
   "name": "python3"
  },
  "language_info": {
   "codemirror_mode": {
    "name": "ipython",
    "version": 3
   },
   "file_extension": ".py",
   "mimetype": "text/x-python",
   "name": "python",
   "nbconvert_exporter": "python",
   "pygments_lexer": "ipython3",
   "version": "3.12.7"
  }
 },
 "nbformat": 4,
 "nbformat_minor": 2
}
