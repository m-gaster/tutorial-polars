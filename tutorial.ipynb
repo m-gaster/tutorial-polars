{
 "cells": [
  {
   "cell_type": "markdown",
   "metadata": {},
   "source": [
    "# Polars Tutorial"
   ]
  },
  {
   "cell_type": "code",
   "execution_count": 1,
   "metadata": {},
   "outputs": [],
   "source": [
    "import pandas as pd\n",
    "import polars as pl\n",
    "from pathlib import Path"
   ]
  },
  {
   "cell_type": "markdown",
   "metadata": {},
   "source": [
    "# Motivation"
   ]
  },
  {
   "cell_type": "markdown",
   "metadata": {},
   "source": [
    "## Separate Data from Logic\n",
    "- Speed optimization\n",
    "- Method chaining\n",
    "- --> better code & can customize logic more extensively\n",
    "\n",
    "\n",
    "## Speed\n",
    "- Built-in parallelization + many other optimizations\n",
    "- ~10-100X faster than pandas\n",
    "<img src=\"assets/benchmark.png\" alt=\"image\" style=\"width:1200px;\">\n",
    "\n",
    "## Memory Optimization\n",
    "- Larger than memory data\n",
    "- More efficient storage --> can load more data into memory\n",
    "- Wes McKinney's rule of thumb (pandas): \"you should have 5 to 10 times as much RAM as the size of your dataset\". 💀❌💀\n",
    "\n",
    "## Syntax\n",
    "- Method chaining --> one interaction with data --> better code\n",
    "- Better dtypes (formal lists, structs, strict numerics)\n",
    "- No more indexes!! (column nor row)\n",
    "\n",
    "## Multi-Language\n",
    "- Python\n",
    "- Rust\n",
    "- JS\n",
    "- R (nascent)\n",
    "- Ruby (nascent)\n",
    "\n",
    "## Downsides\n",
    "- Less popular (for now...)\n",
    "    - ==> less stackoverflow/etc\n",
    "    - ==> less LLM knowledge\n",
    "- Can be verbose, especially at first"
   ]
  },
  {
   "cell_type": "markdown",
   "metadata": {},
   "source": [
    "# Tutorial"
   ]
  },
  {
   "cell_type": "markdown",
   "metadata": {},
   "source": [
    "## Sample Dataset"
   ]
  },
  {
   "cell_type": "code",
   "execution_count": 2,
   "metadata": {},
   "outputs": [],
   "source": [
    "DATA_PATH = Path(\"data/trade_i_baci_a_17__2022.parquet\")"
   ]
  },
  {
   "cell_type": "markdown",
   "metadata": {},
   "source": [
    "### Dataset Preview\n",
    "\n",
    "**Shape:** (11,375,504, 12)\n",
    "\n",
    "| year | exporter_id | exporter_name | importer_id | ... | value  | quantity | unit_abbrev | unit_name   |\n",
    "|------|-------------|---------------|-------------|-----|--------|----------|-------------|-------------|\n",
    "| i64  | str         | str           | str         |     | f64    | f64      | str         | str         |\n",
    "| 2022 | BEL         | Belgium       | POL         | ... | 328.0  | 0.019    | mt          | Metric Tons |\n",
    "| 2022 | BEL         | Belgium       | POL         | ... | 54.0   | 0.026    | mt          | Metric Tons |\n",
    "| 2022 | BEL         | Belgium       | POL         | ... | 690.0  | 1.022    | mt          | Metric Tons |\n",
    "| 2022 | BEL         | Belgium       | POL         | ... | 159.0  | 0.061    | mt          | Metric Tons |\n",
    "| 2022 | BEL         | Belgium       | POL         | ... | 219.0  | 0.184    | mt          | Metric Tons |\n",
    "| ...  | ...         | ...           | ...         | ... | ...    | ...      | ...         | ...         |\n",
    "| 2022 | GHA         | Ghana         | NOR         | ... | 1579.0 | 0.105    | mt          | Metric Tons |\n",
    "| 2022 | GHA         | Ghana         | NOR         | ... | 2208.0 | 0.099    | mt          | Metric Tons |\n",
    "| 2022 | GHA         | Ghana         | NOR         | ... | 156.0  | 0.018    | mt          | Metric Tons |\n",
    "| 2022 | GHA         | Ghana         | NOR         | ... | 38.0   | 0.001    | mt          | Metric Tons |\n",
    "| 2022 | GHA         | Ghana         | NOR         | ... | 644.0  | 0.007    | mt          | Metric Tons |"
   ]
  },
  {
   "cell_type": "markdown",
   "metadata": {},
   "source": [
    "## Example: read data"
   ]
  },
  {
   "cell_type": "markdown",
   "metadata": {},
   "source": [
    "### Pandas"
   ]
  },
  {
   "cell_type": "code",
   "execution_count": 3,
   "metadata": {},
   "outputs": [],
   "source": [
    "pd_df: pd.DataFrame = pd.read_parquet(DATA_PATH)"
   ]
  },
  {
   "cell_type": "markdown",
   "metadata": {},
   "source": [
    "#### Check Memory Usage"
   ]
  },
  {
   "cell_type": "code",
   "execution_count": 4,
   "metadata": {},
   "outputs": [
    {
     "data": {
      "text/plain": [
       "np.float64(5574.8537492752075)"
      ]
     },
     "execution_count": 4,
     "metadata": {},
     "output_type": "execute_result"
    }
   ],
   "source": [
    "pd_df.memory_usage(deep=True).sum() / (1024**2)  # convert bytes to MB"
   ]
  },
  {
   "cell_type": "markdown",
   "metadata": {},
   "source": [
    "### Polars"
   ]
  },
  {
   "cell_type": "code",
   "execution_count": null,
   "metadata": {},
   "outputs": [],
   "source": [
    "pl_df: pl.dataframe = pl.read_parquet(DATA_PATH)"
   ]
  },
  {
   "cell_type": "markdown",
   "metadata": {},
   "source": [
    "#### Check Memory Usage"
   ]
  },
  {
   "cell_type": "code",
   "execution_count": 6,
   "metadata": {},
   "outputs": [
    {
     "data": {
      "text/plain": [
       "1321.812518119812"
      ]
     },
     "execution_count": 6,
     "metadata": {},
     "output_type": "execute_result"
    }
   ],
   "source": [
    "pl_df.estimated_size() / (1024**2)  # convert bytes to MB"
   ]
  },
  {
   "cell_type": "markdown",
   "metadata": {},
   "source": [
    "## Example: Select Data\n",
    "\n",
    "`[\"exporter_id\"]`  \n",
    "\n",
    "`[\"exporter_id\", \"exporter_name\"]`"
   ]
  },
  {
   "cell_type": "code",
   "execution_count": null,
   "metadata": {},
   "outputs": [
    {
     "data": {
      "text/plain": [
       "0           BEL\n",
       "1           BEL\n",
       "2           BEL\n",
       "3           BEL\n",
       "4           BEL\n",
       "           ... \n",
       "11375499    BEL\n",
       "11375500    BEL\n",
       "11375501    BEL\n",
       "11375502    BEL\n",
       "11375503    BEL\n",
       "Name: exporter_id, Length: 11375504, dtype: object"
      ]
     },
     "metadata": {},
     "output_type": "display_data"
    },
    {
     "data": {
      "text/html": [
       "<div>\n",
       "<style scoped>\n",
       "    .dataframe tbody tr th:only-of-type {\n",
       "        vertical-align: middle;\n",
       "    }\n",
       "\n",
       "    .dataframe tbody tr th {\n",
       "        vertical-align: top;\n",
       "    }\n",
       "\n",
       "    .dataframe thead th {\n",
       "        text-align: right;\n",
       "    }\n",
       "</style>\n",
       "<table border=\"1\" class=\"dataframe\">\n",
       "  <thead>\n",
       "    <tr style=\"text-align: right;\">\n",
       "      <th></th>\n",
       "      <th>exporter_id</th>\n",
       "      <th>exporter_name</th>\n",
       "    </tr>\n",
       "  </thead>\n",
       "  <tbody>\n",
       "    <tr>\n",
       "      <th>0</th>\n",
       "      <td>BEL</td>\n",
       "      <td>Belgium</td>\n",
       "    </tr>\n",
       "    <tr>\n",
       "      <th>1</th>\n",
       "      <td>BEL</td>\n",
       "      <td>Belgium</td>\n",
       "    </tr>\n",
       "    <tr>\n",
       "      <th>2</th>\n",
       "      <td>BEL</td>\n",
       "      <td>Belgium</td>\n",
       "    </tr>\n",
       "    <tr>\n",
       "      <th>3</th>\n",
       "      <td>BEL</td>\n",
       "      <td>Belgium</td>\n",
       "    </tr>\n",
       "    <tr>\n",
       "      <th>4</th>\n",
       "      <td>BEL</td>\n",
       "      <td>Belgium</td>\n",
       "    </tr>\n",
       "    <tr>\n",
       "      <th>...</th>\n",
       "      <td>...</td>\n",
       "      <td>...</td>\n",
       "    </tr>\n",
       "    <tr>\n",
       "      <th>11375499</th>\n",
       "      <td>BEL</td>\n",
       "      <td>Belgium</td>\n",
       "    </tr>\n",
       "    <tr>\n",
       "      <th>11375500</th>\n",
       "      <td>BEL</td>\n",
       "      <td>Belgium</td>\n",
       "    </tr>\n",
       "    <tr>\n",
       "      <th>11375501</th>\n",
       "      <td>BEL</td>\n",
       "      <td>Belgium</td>\n",
       "    </tr>\n",
       "    <tr>\n",
       "      <th>11375502</th>\n",
       "      <td>BEL</td>\n",
       "      <td>Belgium</td>\n",
       "    </tr>\n",
       "    <tr>\n",
       "      <th>11375503</th>\n",
       "      <td>BEL</td>\n",
       "      <td>Belgium</td>\n",
       "    </tr>\n",
       "  </tbody>\n",
       "</table>\n",
       "<p>11375504 rows × 2 columns</p>\n",
       "</div>"
      ],
      "text/plain": [
       "         exporter_id exporter_name\n",
       "0                BEL       Belgium\n",
       "1                BEL       Belgium\n",
       "2                BEL       Belgium\n",
       "3                BEL       Belgium\n",
       "4                BEL       Belgium\n",
       "...              ...           ...\n",
       "11375499         BEL       Belgium\n",
       "11375500         BEL       Belgium\n",
       "11375501         BEL       Belgium\n",
       "11375502         BEL       Belgium\n",
       "11375503         BEL       Belgium\n",
       "\n",
       "[11375504 rows x 2 columns]"
      ]
     },
     "metadata": {},
     "output_type": "display_data"
    }
   ],
   "source": [
    "display(pd_df[\"exporter_id\"])\n",
    "display(pd_df[[\"exporter_id\", \"exporter_name\"]])"
   ]
  },
  {
   "cell_type": "code",
   "execution_count": null,
   "metadata": {},
   "outputs": [
    {
     "data": {
      "text/html": [
       "<div><style>\n",
       ".dataframe > thead > tr,\n",
       ".dataframe > tbody > tr {\n",
       "  text-align: right;\n",
       "  white-space: pre-wrap;\n",
       "}\n",
       "</style>\n",
       "<small>shape: (11_375_504, 1)</small><table border=\"1\" class=\"dataframe\"><thead><tr><th>exporter_id</th></tr><tr><td>str</td></tr></thead><tbody><tr><td>&quot;BEL&quot;</td></tr><tr><td>&quot;BEL&quot;</td></tr><tr><td>&quot;BEL&quot;</td></tr><tr><td>&quot;BEL&quot;</td></tr><tr><td>&quot;BEL&quot;</td></tr><tr><td>&hellip;</td></tr><tr><td>&quot;BEL&quot;</td></tr><tr><td>&quot;BEL&quot;</td></tr><tr><td>&quot;BEL&quot;</td></tr><tr><td>&quot;BEL&quot;</td></tr><tr><td>&quot;BEL&quot;</td></tr></tbody></table></div>"
      ],
      "text/plain": [
       "shape: (11_375_504, 1)\n",
       "┌─────────────┐\n",
       "│ exporter_id │\n",
       "│ ---         │\n",
       "│ str         │\n",
       "╞═════════════╡\n",
       "│ BEL         │\n",
       "│ BEL         │\n",
       "│ BEL         │\n",
       "│ BEL         │\n",
       "│ BEL         │\n",
       "│ …           │\n",
       "│ BEL         │\n",
       "│ BEL         │\n",
       "│ BEL         │\n",
       "│ BEL         │\n",
       "│ BEL         │\n",
       "└─────────────┘"
      ]
     },
     "metadata": {},
     "output_type": "display_data"
    },
    {
     "data": {
      "text/html": [
       "<div><style>\n",
       ".dataframe > thead > tr,\n",
       ".dataframe > tbody > tr {\n",
       "  text-align: right;\n",
       "  white-space: pre-wrap;\n",
       "}\n",
       "</style>\n",
       "<small>shape: (11_375_504, 2)</small><table border=\"1\" class=\"dataframe\"><thead><tr><th>exporter_id</th><th>exporter_name</th></tr><tr><td>str</td><td>str</td></tr></thead><tbody><tr><td>&quot;BEL&quot;</td><td>&quot;Belgium&quot;</td></tr><tr><td>&quot;BEL&quot;</td><td>&quot;Belgium&quot;</td></tr><tr><td>&quot;BEL&quot;</td><td>&quot;Belgium&quot;</td></tr><tr><td>&quot;BEL&quot;</td><td>&quot;Belgium&quot;</td></tr><tr><td>&quot;BEL&quot;</td><td>&quot;Belgium&quot;</td></tr><tr><td>&hellip;</td><td>&hellip;</td></tr><tr><td>&quot;BEL&quot;</td><td>&quot;Belgium&quot;</td></tr><tr><td>&quot;BEL&quot;</td><td>&quot;Belgium&quot;</td></tr><tr><td>&quot;BEL&quot;</td><td>&quot;Belgium&quot;</td></tr><tr><td>&quot;BEL&quot;</td><td>&quot;Belgium&quot;</td></tr><tr><td>&quot;BEL&quot;</td><td>&quot;Belgium&quot;</td></tr></tbody></table></div>"
      ],
      "text/plain": [
       "shape: (11_375_504, 2)\n",
       "┌─────────────┬───────────────┐\n",
       "│ exporter_id ┆ exporter_name │\n",
       "│ ---         ┆ ---           │\n",
       "│ str         ┆ str           │\n",
       "╞═════════════╪═══════════════╡\n",
       "│ BEL         ┆ Belgium       │\n",
       "│ BEL         ┆ Belgium       │\n",
       "│ BEL         ┆ Belgium       │\n",
       "│ BEL         ┆ Belgium       │\n",
       "│ BEL         ┆ Belgium       │\n",
       "│ …           ┆ …             │\n",
       "│ BEL         ┆ Belgium       │\n",
       "│ BEL         ┆ Belgium       │\n",
       "│ BEL         ┆ Belgium       │\n",
       "│ BEL         ┆ Belgium       │\n",
       "│ BEL         ┆ Belgium       │\n",
       "└─────────────┴───────────────┘"
      ]
     },
     "metadata": {},
     "output_type": "display_data"
    }
   ],
   "source": [
    "display(pl_df.select(pl.col(\"exporter_id\")))\n",
    "display(pl_df.select(pl.col([\"exporter_id\", \"exporter_name\"])))"
   ]
  },
  {
   "cell_type": "markdown",
   "metadata": {},
   "source": [
    "### Select data by type\n",
    "\n",
    "string columns"
   ]
  },
  {
   "cell_type": "code",
   "execution_count": null,
   "metadata": {},
   "outputs": [
    {
     "data": {
      "text/html": [
       "<div><style>\n",
       ".dataframe > thead > tr,\n",
       ".dataframe > tbody > tr {\n",
       "  text-align: right;\n",
       "  white-space: pre-wrap;\n",
       "}\n",
       "</style>\n",
       "<small>shape: (11_375_504, 8)</small><table border=\"1\" class=\"dataframe\"><thead><tr><th>exporter_id</th><th>exporter_name</th><th>importer_id</th><th>importer_name</th><th>hs_code</th><th>product_name</th><th>unit_abbrevation</th><th>unit_name</th></tr><tr><td>str</td><td>str</td><td>str</td><td>str</td><td>str</td><td>str</td><td>str</td><td>str</td></tr></thead><tbody><tr><td>&quot;BEL&quot;</td><td>&quot;Belgium&quot;</td><td>&quot;POL&quot;</td><td>&quot;Poland&quot;</td><td>&quot;110412&quot;</td><td>&quot;Oats, rolled or flaked grains&quot;</td><td>&quot;mt&quot;</td><td>&quot;Metric Tons&quot;</td></tr><tr><td>&quot;BEL&quot;</td><td>&quot;Belgium&quot;</td><td>&quot;POL&quot;</td><td>&quot;Poland&quot;</td><td>&quot;110419&quot;</td><td>&quot;Cereals, rolled or flaked grai…</td><td>&quot;mt&quot;</td><td>&quot;Metric Tons&quot;</td></tr><tr><td>&quot;BEL&quot;</td><td>&quot;Belgium&quot;</td><td>&quot;POL&quot;</td><td>&quot;Poland&quot;</td><td>&quot;110423&quot;</td><td>&quot;Maize (corn), hulled, pearled,…</td><td>&quot;mt&quot;</td><td>&quot;Metric Tons&quot;</td></tr><tr><td>&quot;BEL&quot;</td><td>&quot;Belgium&quot;</td><td>&quot;POL&quot;</td><td>&quot;Poland&quot;</td><td>&quot;110429&quot;</td><td>&quot;Cereals, hulled, pearled, slic…</td><td>&quot;mt&quot;</td><td>&quot;Metric Tons&quot;</td></tr><tr><td>&quot;BEL&quot;</td><td>&quot;Belgium&quot;</td><td>&quot;POL&quot;</td><td>&quot;Poland&quot;</td><td>&quot;110430&quot;</td><td>&quot;Germ of cereals, whole, rolled…</td><td>&quot;mt&quot;</td><td>&quot;Metric Tons&quot;</td></tr><tr><td>&hellip;</td><td>&hellip;</td><td>&hellip;</td><td>&hellip;</td><td>&hellip;</td><td>&hellip;</td><td>&hellip;</td><td>&hellip;</td></tr><tr><td>&quot;BEL&quot;</td><td>&quot;Belgium&quot;</td><td>&quot;NOR&quot;</td><td>&quot;Norway&quot;</td><td>&quot;960810&quot;</td><td>&quot;Ball point pens&quot;</td><td>&quot;mt&quot;</td><td>&quot;Metric Tons&quot;</td></tr><tr><td>&quot;BEL&quot;</td><td>&quot;Belgium&quot;</td><td>&quot;NOR&quot;</td><td>&quot;Norway&quot;</td><td>&quot;960820&quot;</td><td>&quot;Felt tipped, other porous-tipp…</td><td>&quot;mt&quot;</td><td>&quot;Metric Tons&quot;</td></tr><tr><td>&quot;BEL&quot;</td><td>&quot;Belgium&quot;</td><td>&quot;NOR&quot;</td><td>&quot;Norway&quot;</td><td>&quot;960830&quot;</td><td>&quot;Pens: fountain, stylograph and…</td><td>&quot;mt&quot;</td><td>&quot;Metric Tons&quot;</td></tr><tr><td>&quot;BEL&quot;</td><td>&quot;Belgium&quot;</td><td>&quot;NOR&quot;</td><td>&quot;Norway&quot;</td><td>&quot;960850&quot;</td><td>&quot;Sets of mixed types of pens/pe…</td><td>&quot;mt&quot;</td><td>&quot;Metric Tons&quot;</td></tr><tr><td>&quot;BEL&quot;</td><td>&quot;Belgium&quot;</td><td>&quot;NOR&quot;</td><td>&quot;Norway&quot;</td><td>&quot;960899&quot;</td><td>&quot;Duplicating stylos, pen/pencil…</td><td>&quot;mt&quot;</td><td>&quot;Metric Tons&quot;</td></tr></tbody></table></div>"
      ],
      "text/plain": [
       "shape: (11_375_504, 8)\n",
       "┌────────────┬────────────┬────────────┬────────────┬─────────┬────────────┬───────────┬───────────┐\n",
       "│ exporter_i ┆ exporter_n ┆ importer_i ┆ importer_n ┆ hs_code ┆ product_na ┆ unit_abbr ┆ unit_name │\n",
       "│ d          ┆ ame        ┆ d          ┆ ame        ┆ ---     ┆ me         ┆ evation   ┆ ---       │\n",
       "│ ---        ┆ ---        ┆ ---        ┆ ---        ┆ str     ┆ ---        ┆ ---       ┆ str       │\n",
       "│ str        ┆ str        ┆ str        ┆ str        ┆         ┆ str        ┆ str       ┆           │\n",
       "╞════════════╪════════════╪════════════╪════════════╪═════════╪════════════╪═══════════╪═══════════╡\n",
       "│ BEL        ┆ Belgium    ┆ POL        ┆ Poland     ┆ 110412  ┆ Oats,      ┆ mt        ┆ Metric    │\n",
       "│            ┆            ┆            ┆            ┆         ┆ rolled or  ┆           ┆ Tons      │\n",
       "│            ┆            ┆            ┆            ┆         ┆ flaked     ┆           ┆           │\n",
       "│            ┆            ┆            ┆            ┆         ┆ grains     ┆           ┆           │\n",
       "│ BEL        ┆ Belgium    ┆ POL        ┆ Poland     ┆ 110419  ┆ Cereals,   ┆ mt        ┆ Metric    │\n",
       "│            ┆            ┆            ┆            ┆         ┆ rolled or  ┆           ┆ Tons      │\n",
       "│            ┆            ┆            ┆            ┆         ┆ flaked     ┆           ┆           │\n",
       "│            ┆            ┆            ┆            ┆         ┆ grai…      ┆           ┆           │\n",
       "│ BEL        ┆ Belgium    ┆ POL        ┆ Poland     ┆ 110423  ┆ Maize      ┆ mt        ┆ Metric    │\n",
       "│            ┆            ┆            ┆            ┆         ┆ (corn),    ┆           ┆ Tons      │\n",
       "│            ┆            ┆            ┆            ┆         ┆ hulled,    ┆           ┆           │\n",
       "│            ┆            ┆            ┆            ┆         ┆ pearled,…  ┆           ┆           │\n",
       "│ BEL        ┆ Belgium    ┆ POL        ┆ Poland     ┆ 110429  ┆ Cereals,   ┆ mt        ┆ Metric    │\n",
       "│            ┆            ┆            ┆            ┆         ┆ hulled,    ┆           ┆ Tons      │\n",
       "│            ┆            ┆            ┆            ┆         ┆ pearled,   ┆           ┆           │\n",
       "│            ┆            ┆            ┆            ┆         ┆ slic…      ┆           ┆           │\n",
       "│ BEL        ┆ Belgium    ┆ POL        ┆ Poland     ┆ 110430  ┆ Germ of    ┆ mt        ┆ Metric    │\n",
       "│            ┆            ┆            ┆            ┆         ┆ cereals,   ┆           ┆ Tons      │\n",
       "│            ┆            ┆            ┆            ┆         ┆ whole,     ┆           ┆           │\n",
       "│            ┆            ┆            ┆            ┆         ┆ rolled…    ┆           ┆           │\n",
       "│ …          ┆ …          ┆ …          ┆ …          ┆ …       ┆ …          ┆ …         ┆ …         │\n",
       "│ BEL        ┆ Belgium    ┆ NOR        ┆ Norway     ┆ 960810  ┆ Ball point ┆ mt        ┆ Metric    │\n",
       "│            ┆            ┆            ┆            ┆         ┆ pens       ┆           ┆ Tons      │\n",
       "│ BEL        ┆ Belgium    ┆ NOR        ┆ Norway     ┆ 960820  ┆ Felt       ┆ mt        ┆ Metric    │\n",
       "│            ┆            ┆            ┆            ┆         ┆ tipped,    ┆           ┆ Tons      │\n",
       "│            ┆            ┆            ┆            ┆         ┆ other poro ┆           ┆           │\n",
       "│            ┆            ┆            ┆            ┆         ┆ us-tipp…   ┆           ┆           │\n",
       "│ BEL        ┆ Belgium    ┆ NOR        ┆ Norway     ┆ 960830  ┆ Pens:      ┆ mt        ┆ Metric    │\n",
       "│            ┆            ┆            ┆            ┆         ┆ fountain,  ┆           ┆ Tons      │\n",
       "│            ┆            ┆            ┆            ┆         ┆ stylograph ┆           ┆           │\n",
       "│            ┆            ┆            ┆            ┆         ┆ and…       ┆           ┆           │\n",
       "│ BEL        ┆ Belgium    ┆ NOR        ┆ Norway     ┆ 960850  ┆ Sets of    ┆ mt        ┆ Metric    │\n",
       "│            ┆            ┆            ┆            ┆         ┆ mixed      ┆           ┆ Tons      │\n",
       "│            ┆            ┆            ┆            ┆         ┆ types of   ┆           ┆           │\n",
       "│            ┆            ┆            ┆            ┆         ┆ pens/pe…   ┆           ┆           │\n",
       "│ BEL        ┆ Belgium    ┆ NOR        ┆ Norway     ┆ 960899  ┆ Duplicatin ┆ mt        ┆ Metric    │\n",
       "│            ┆            ┆            ┆            ┆         ┆ g stylos,  ┆           ┆ Tons      │\n",
       "│            ┆            ┆            ┆            ┆         ┆ pen/pencil ┆           ┆           │\n",
       "│            ┆            ┆            ┆            ┆         ┆ …          ┆           ┆           │\n",
       "└────────────┴────────────┴────────────┴────────────┴─────────┴────────────┴───────────┴───────────┘"
      ]
     },
     "metadata": {},
     "output_type": "display_data"
    }
   ],
   "source": [
    "pl_df.select(pl.col(pl.String))"
   ]
  },
  {
   "cell_type": "markdown",
   "metadata": {},
   "source": [
    "### Select Modified Data\n",
    "\n",
    "Example 1: select a string column and split it into a list column, on the letter \"L\"\n",
    "\n",
    "Example 2: Example 1 + take the first element of the resulting arrays"
   ]
  },
  {
   "cell_type": "code",
   "execution_count": null,
   "metadata": {},
   "outputs": [
    {
     "data": {
      "text/plain": [
       "0           [BE, ]\n",
       "1           [BE, ]\n",
       "2           [BE, ]\n",
       "3           [BE, ]\n",
       "4           [BE, ]\n",
       "             ...  \n",
       "11375499    [BE, ]\n",
       "11375500    [BE, ]\n",
       "11375501    [BE, ]\n",
       "11375502    [BE, ]\n",
       "11375503    [BE, ]\n",
       "Name: exporter_id, Length: 11375504, dtype: object"
      ]
     },
     "metadata": {},
     "output_type": "display_data"
    }
   ],
   "source": [
    "pd_df[\"exporter_id\"].str.split(\"L\")"
   ]
  },
  {
   "cell_type": "code",
   "execution_count": null,
   "metadata": {},
   "outputs": [
    {
     "data": {
      "text/html": [
       "<div><style>\n",
       ".dataframe > thead > tr,\n",
       ".dataframe > tbody > tr {\n",
       "  text-align: right;\n",
       "  white-space: pre-wrap;\n",
       "}\n",
       "</style>\n",
       "<small>shape: (11_375_504,)</small><table border=\"1\" class=\"dataframe\"><thead><tr><th>exporter_id</th></tr><tr><td>list[str]</td></tr></thead><tbody><tr><td>[&quot;BE&quot;, &quot;&quot;]</td></tr><tr><td>[&quot;BE&quot;, &quot;&quot;]</td></tr><tr><td>[&quot;BE&quot;, &quot;&quot;]</td></tr><tr><td>[&quot;BE&quot;, &quot;&quot;]</td></tr><tr><td>[&quot;BE&quot;, &quot;&quot;]</td></tr><tr><td>&hellip;</td></tr><tr><td>[&quot;BE&quot;, &quot;&quot;]</td></tr><tr><td>[&quot;BE&quot;, &quot;&quot;]</td></tr><tr><td>[&quot;BE&quot;, &quot;&quot;]</td></tr><tr><td>[&quot;BE&quot;, &quot;&quot;]</td></tr><tr><td>[&quot;BE&quot;, &quot;&quot;]</td></tr></tbody></table></div>"
      ],
      "text/plain": [
       "shape: (11_375_504,)\n",
       "Series: 'exporter_id' [list[str]]\n",
       "[\n",
       "\t[\"BE\", \"\"]\n",
       "\t[\"BE\", \"\"]\n",
       "\t[\"BE\", \"\"]\n",
       "\t[\"BE\", \"\"]\n",
       "\t[\"BE\", \"\"]\n",
       "\t…\n",
       "\t[\"BE\", \"\"]\n",
       "\t[\"BE\", \"\"]\n",
       "\t[\"BE\", \"\"]\n",
       "\t[\"BE\", \"\"]\n",
       "\t[\"BE\", \"\"]\n",
       "]"
      ]
     },
     "metadata": {},
     "output_type": "display_data"
    }
   ],
   "source": [
    "pl_df[\"exporter_id\"].str.split(\"L\")"
   ]
  },
  {
   "cell_type": "code",
   "execution_count": 1,
   "metadata": {},
   "outputs": [
    {
     "ename": "NameError",
     "evalue": "name 'pl_df' is not defined",
     "output_type": "error",
     "traceback": [
      "\u001b[31m---------------------------------------------------------------------------\u001b[39m",
      "\u001b[31mNameError\u001b[39m                                 Traceback (most recent call last)",
      "\u001b[36mCell\u001b[39m\u001b[36m \u001b[39m\u001b[32mIn[1]\u001b[39m\u001b[32m, line 1\u001b[39m\n\u001b[32m----> \u001b[39m\u001b[32m1\u001b[39m \u001b[43mpl_df\u001b[49m.select(pl.col(\u001b[33m\"\u001b[39m\u001b[33mexporter_id\u001b[39m\u001b[33m\"\u001b[39m).str.split(\u001b[33m\"\u001b[39m\u001b[33mL\u001b[39m\u001b[33m\"\u001b[39m))\n\u001b[32m      2\u001b[39m pl_df.select(pl.col(\u001b[33m\"\u001b[39m\u001b[33mexporter_id\u001b[39m\u001b[33m\"\u001b[39m).str.split(\u001b[33m\"\u001b[39m\u001b[33mL\u001b[39m\u001b[33m\"\u001b[39m).list[\u001b[32m0\u001b[39m])\n",
      "\u001b[31mNameError\u001b[39m: name 'pl_df' is not defined"
     ]
    }
   ],
   "source": [
    "pl_df.select(pl.col(\"exporter_id\").str.split(\"L\"))\n",
    "pl_df.select(pl.col(\"exporter_id\").str.split(\"L\").list[0])"
   ]
  },
  {
   "cell_type": "markdown",
   "metadata": {},
   "source": [
    "## Example: Filter (Substring Search)\n",
    "\n",
    "find `cocoa` in the `product_name` column (case-insensitive)"
   ]
  },
  {
   "cell_type": "code",
   "execution_count": 7,
   "metadata": {},
   "outputs": [
    {
     "data": {
      "text/html": [
       "<div>\n",
       "<style scoped>\n",
       "    .dataframe tbody tr th:only-of-type {\n",
       "        vertical-align: middle;\n",
       "    }\n",
       "\n",
       "    .dataframe tbody tr th {\n",
       "        vertical-align: top;\n",
       "    }\n",
       "\n",
       "    .dataframe thead th {\n",
       "        text-align: right;\n",
       "    }\n",
       "</style>\n",
       "<table border=\"1\" class=\"dataframe\">\n",
       "  <thead>\n",
       "    <tr style=\"text-align: right;\">\n",
       "      <th></th>\n",
       "      <th>year</th>\n",
       "      <th>exporter_id</th>\n",
       "      <th>exporter_name</th>\n",
       "      <th>importer_id</th>\n",
       "      <th>importer_name</th>\n",
       "      <th>hs_code</th>\n",
       "      <th>product_name</th>\n",
       "      <th>hs_revision</th>\n",
       "      <th>value</th>\n",
       "      <th>quantity</th>\n",
       "      <th>unit_abbrevation</th>\n",
       "      <th>unit_name</th>\n",
       "    </tr>\n",
       "  </thead>\n",
       "  <tbody>\n",
       "    <tr>\n",
       "      <th>132</th>\n",
       "      <td>2022</td>\n",
       "      <td>BEL</td>\n",
       "      <td>Belgium</td>\n",
       "      <td>POL</td>\n",
       "      <td>Poland</td>\n",
       "      <td>170490</td>\n",
       "      <td>Sugar confectionery not chewing gum, no cocoa ...</td>\n",
       "      <td>5</td>\n",
       "      <td>12240173.0</td>\n",
       "      <td>3979.908</td>\n",
       "      <td>mt</td>\n",
       "      <td>Metric Tons</td>\n",
       "    </tr>\n",
       "    <tr>\n",
       "      <th>133</th>\n",
       "      <td>2022</td>\n",
       "      <td>BEL</td>\n",
       "      <td>Belgium</td>\n",
       "      <td>POL</td>\n",
       "      <td>Poland</td>\n",
       "      <td>180100</td>\n",
       "      <td>Cocoa Beans (Raw/Roasted, Whole/Broken)</td>\n",
       "      <td>5</td>\n",
       "      <td>259016.0</td>\n",
       "      <td>55.680</td>\n",
       "      <td>mt</td>\n",
       "      <td>Metric Tons</td>\n",
       "    </tr>\n",
       "    <tr>\n",
       "      <th>134</th>\n",
       "      <td>2022</td>\n",
       "      <td>BEL</td>\n",
       "      <td>Belgium</td>\n",
       "      <td>POL</td>\n",
       "      <td>Poland</td>\n",
       "      <td>180310</td>\n",
       "      <td>Cocoa Paste (Not Defatted)</td>\n",
       "      <td>5</td>\n",
       "      <td>16229270.0</td>\n",
       "      <td>4966.386</td>\n",
       "      <td>mt</td>\n",
       "      <td>Metric Tons</td>\n",
       "    </tr>\n",
       "    <tr>\n",
       "      <th>135</th>\n",
       "      <td>2022</td>\n",
       "      <td>BEL</td>\n",
       "      <td>Belgium</td>\n",
       "      <td>POL</td>\n",
       "      <td>Poland</td>\n",
       "      <td>180400</td>\n",
       "      <td>Cocoa Butter/Fat/Oil</td>\n",
       "      <td>5</td>\n",
       "      <td>681104.0</td>\n",
       "      <td>97.448</td>\n",
       "      <td>mt</td>\n",
       "      <td>Metric Tons</td>\n",
       "    </tr>\n",
       "    <tr>\n",
       "      <th>136</th>\n",
       "      <td>2022</td>\n",
       "      <td>BEL</td>\n",
       "      <td>Belgium</td>\n",
       "      <td>POL</td>\n",
       "      <td>Poland</td>\n",
       "      <td>180500</td>\n",
       "      <td>Unsweetened Cocoa Powder</td>\n",
       "      <td>5</td>\n",
       "      <td>227664.0</td>\n",
       "      <td>79.976</td>\n",
       "      <td>mt</td>\n",
       "      <td>Metric Tons</td>\n",
       "    </tr>\n",
       "    <tr>\n",
       "      <th>...</th>\n",
       "      <td>...</td>\n",
       "      <td>...</td>\n",
       "      <td>...</td>\n",
       "      <td>...</td>\n",
       "      <td>...</td>\n",
       "      <td>...</td>\n",
       "      <td>...</td>\n",
       "      <td>...</td>\n",
       "      <td>...</td>\n",
       "      <td>...</td>\n",
       "      <td>...</td>\n",
       "      <td>...</td>\n",
       "    </tr>\n",
       "    <tr>\n",
       "      <th>11372639</th>\n",
       "      <td>2022</td>\n",
       "      <td>BEL</td>\n",
       "      <td>Belgium</td>\n",
       "      <td>NOR</td>\n",
       "      <td>Norway</td>\n",
       "      <td>180690</td>\n",
       "      <td>Miscellaneous Chocolate/Cocoa Preparations</td>\n",
       "      <td>5</td>\n",
       "      <td>9337696.0</td>\n",
       "      <td>861.713</td>\n",
       "      <td>mt</td>\n",
       "      <td>Metric Tons</td>\n",
       "    </tr>\n",
       "    <tr>\n",
       "      <th>11372641</th>\n",
       "      <td>2022</td>\n",
       "      <td>BEL</td>\n",
       "      <td>Belgium</td>\n",
       "      <td>NOR</td>\n",
       "      <td>Norway</td>\n",
       "      <td>190190</td>\n",
       "      <td>Malt extract &amp; limited cocoa pastrycooks produ...</td>\n",
       "      <td>5</td>\n",
       "      <td>2733112.0</td>\n",
       "      <td>887.466</td>\n",
       "      <td>mt</td>\n",
       "      <td>Metric Tons</td>\n",
       "    </tr>\n",
       "    <tr>\n",
       "      <th>11372653</th>\n",
       "      <td>2022</td>\n",
       "      <td>BEL</td>\n",
       "      <td>Belgium</td>\n",
       "      <td>NOR</td>\n",
       "      <td>Norway</td>\n",
       "      <td>190531</td>\n",
       "      <td>Food preparations: sweet biscuits, whether or ...</td>\n",
       "      <td>5</td>\n",
       "      <td>245947.0</td>\n",
       "      <td>60.962</td>\n",
       "      <td>mt</td>\n",
       "      <td>Metric Tons</td>\n",
       "    </tr>\n",
       "    <tr>\n",
       "      <th>11372654</th>\n",
       "      <td>2022</td>\n",
       "      <td>BEL</td>\n",
       "      <td>Belgium</td>\n",
       "      <td>NOR</td>\n",
       "      <td>Norway</td>\n",
       "      <td>190532</td>\n",
       "      <td>Food preparations: waffles and wafers, whether...</td>\n",
       "      <td>5</td>\n",
       "      <td>438722.0</td>\n",
       "      <td>121.019</td>\n",
       "      <td>mt</td>\n",
       "      <td>Metric Tons</td>\n",
       "    </tr>\n",
       "    <tr>\n",
       "      <th>11374760</th>\n",
       "      <td>2022</td>\n",
       "      <td>BEL</td>\n",
       "      <td>Belgium</td>\n",
       "      <td>NOR</td>\n",
       "      <td>Norway</td>\n",
       "      <td>843820</td>\n",
       "      <td>Machines, confectionery, cocoa, chocolate manu...</td>\n",
       "      <td>5</td>\n",
       "      <td>19734.0</td>\n",
       "      <td>0.401</td>\n",
       "      <td>mt</td>\n",
       "      <td>Metric Tons</td>\n",
       "    </tr>\n",
       "  </tbody>\n",
       "</table>\n",
       "<p>59130 rows × 12 columns</p>\n",
       "</div>"
      ],
      "text/plain": [
       "          year exporter_id exporter_name importer_id importer_name hs_code  \\\n",
       "132       2022         BEL       Belgium         POL        Poland  170490   \n",
       "133       2022         BEL       Belgium         POL        Poland  180100   \n",
       "134       2022         BEL       Belgium         POL        Poland  180310   \n",
       "135       2022         BEL       Belgium         POL        Poland  180400   \n",
       "136       2022         BEL       Belgium         POL        Poland  180500   \n",
       "...        ...         ...           ...         ...           ...     ...   \n",
       "11372639  2022         BEL       Belgium         NOR        Norway  180690   \n",
       "11372641  2022         BEL       Belgium         NOR        Norway  190190   \n",
       "11372653  2022         BEL       Belgium         NOR        Norway  190531   \n",
       "11372654  2022         BEL       Belgium         NOR        Norway  190532   \n",
       "11374760  2022         BEL       Belgium         NOR        Norway  843820   \n",
       "\n",
       "                                               product_name  hs_revision  \\\n",
       "132       Sugar confectionery not chewing gum, no cocoa ...            5   \n",
       "133                 Cocoa Beans (Raw/Roasted, Whole/Broken)            5   \n",
       "134                              Cocoa Paste (Not Defatted)            5   \n",
       "135                                    Cocoa Butter/Fat/Oil            5   \n",
       "136                                Unsweetened Cocoa Powder            5   \n",
       "...                                                     ...          ...   \n",
       "11372639         Miscellaneous Chocolate/Cocoa Preparations            5   \n",
       "11372641  Malt extract & limited cocoa pastrycooks produ...            5   \n",
       "11372653  Food preparations: sweet biscuits, whether or ...            5   \n",
       "11372654  Food preparations: waffles and wafers, whether...            5   \n",
       "11374760  Machines, confectionery, cocoa, chocolate manu...            5   \n",
       "\n",
       "               value  quantity unit_abbrevation    unit_name  \n",
       "132       12240173.0  3979.908               mt  Metric Tons  \n",
       "133         259016.0    55.680               mt  Metric Tons  \n",
       "134       16229270.0  4966.386               mt  Metric Tons  \n",
       "135         681104.0    97.448               mt  Metric Tons  \n",
       "136         227664.0    79.976               mt  Metric Tons  \n",
       "...              ...       ...              ...          ...  \n",
       "11372639   9337696.0   861.713               mt  Metric Tons  \n",
       "11372641   2733112.0   887.466               mt  Metric Tons  \n",
       "11372653    245947.0    60.962               mt  Metric Tons  \n",
       "11372654    438722.0   121.019               mt  Metric Tons  \n",
       "11374760     19734.0     0.401               mt  Metric Tons  \n",
       "\n",
       "[59130 rows x 12 columns]"
      ]
     },
     "execution_count": 7,
     "metadata": {},
     "output_type": "execute_result"
    }
   ],
   "source": [
    "pd_df[pd_df[\"product_name\"].str.contains(\"(?i)cocoa\", regex=True)]"
   ]
  },
  {
   "cell_type": "code",
   "execution_count": 8,
   "metadata": {},
   "outputs": [
    {
     "data": {
      "text/html": [
       "<div><style>\n",
       ".dataframe > thead > tr,\n",
       ".dataframe > tbody > tr {\n",
       "  text-align: right;\n",
       "  white-space: pre-wrap;\n",
       "}\n",
       "</style>\n",
       "<small>shape: (59_130, 12)</small><table border=\"1\" class=\"dataframe\"><thead><tr><th>year</th><th>exporter_id</th><th>exporter_name</th><th>importer_id</th><th>importer_name</th><th>hs_code</th><th>product_name</th><th>hs_revision</th><th>value</th><th>quantity</th><th>unit_abbrevation</th><th>unit_name</th></tr><tr><td>i64</td><td>str</td><td>str</td><td>str</td><td>str</td><td>str</td><td>str</td><td>i64</td><td>f64</td><td>f64</td><td>str</td><td>str</td></tr></thead><tbody><tr><td>2022</td><td>&quot;BEL&quot;</td><td>&quot;Belgium&quot;</td><td>&quot;POL&quot;</td><td>&quot;Poland&quot;</td><td>&quot;170490&quot;</td><td>&quot;Sugar confectionery not chewin…</td><td>5</td><td>1.2240173e7</td><td>3979.908</td><td>&quot;mt&quot;</td><td>&quot;Metric Tons&quot;</td></tr><tr><td>2022</td><td>&quot;BEL&quot;</td><td>&quot;Belgium&quot;</td><td>&quot;POL&quot;</td><td>&quot;Poland&quot;</td><td>&quot;180100&quot;</td><td>&quot;Cocoa Beans (Raw/Roasted, Whol…</td><td>5</td><td>259016.0</td><td>55.68</td><td>&quot;mt&quot;</td><td>&quot;Metric Tons&quot;</td></tr><tr><td>2022</td><td>&quot;BEL&quot;</td><td>&quot;Belgium&quot;</td><td>&quot;POL&quot;</td><td>&quot;Poland&quot;</td><td>&quot;180310&quot;</td><td>&quot;Cocoa Paste (Not Defatted)&quot;</td><td>5</td><td>1.622927e7</td><td>4966.386</td><td>&quot;mt&quot;</td><td>&quot;Metric Tons&quot;</td></tr><tr><td>2022</td><td>&quot;BEL&quot;</td><td>&quot;Belgium&quot;</td><td>&quot;POL&quot;</td><td>&quot;Poland&quot;</td><td>&quot;180400&quot;</td><td>&quot;Cocoa Butter/Fat/Oil&quot;</td><td>5</td><td>681104.0</td><td>97.448</td><td>&quot;mt&quot;</td><td>&quot;Metric Tons&quot;</td></tr><tr><td>2022</td><td>&quot;BEL&quot;</td><td>&quot;Belgium&quot;</td><td>&quot;POL&quot;</td><td>&quot;Poland&quot;</td><td>&quot;180500&quot;</td><td>&quot;Unsweetened Cocoa Powder&quot;</td><td>5</td><td>227664.0</td><td>79.976</td><td>&quot;mt&quot;</td><td>&quot;Metric Tons&quot;</td></tr><tr><td>&hellip;</td><td>&hellip;</td><td>&hellip;</td><td>&hellip;</td><td>&hellip;</td><td>&hellip;</td><td>&hellip;</td><td>&hellip;</td><td>&hellip;</td><td>&hellip;</td><td>&hellip;</td><td>&hellip;</td></tr><tr><td>2022</td><td>&quot;BEL&quot;</td><td>&quot;Belgium&quot;</td><td>&quot;NOR&quot;</td><td>&quot;Norway&quot;</td><td>&quot;180690&quot;</td><td>&quot;Miscellaneous Chocolate/Cocoa …</td><td>5</td><td>9.337696e6</td><td>861.713</td><td>&quot;mt&quot;</td><td>&quot;Metric Tons&quot;</td></tr><tr><td>2022</td><td>&quot;BEL&quot;</td><td>&quot;Belgium&quot;</td><td>&quot;NOR&quot;</td><td>&quot;Norway&quot;</td><td>&quot;190190&quot;</td><td>&quot;Malt extract &amp; limited cocoa p…</td><td>5</td><td>2.733112e6</td><td>887.466</td><td>&quot;mt&quot;</td><td>&quot;Metric Tons&quot;</td></tr><tr><td>2022</td><td>&quot;BEL&quot;</td><td>&quot;Belgium&quot;</td><td>&quot;NOR&quot;</td><td>&quot;Norway&quot;</td><td>&quot;190531&quot;</td><td>&quot;Food preparations: sweet biscu…</td><td>5</td><td>245947.0</td><td>60.962</td><td>&quot;mt&quot;</td><td>&quot;Metric Tons&quot;</td></tr><tr><td>2022</td><td>&quot;BEL&quot;</td><td>&quot;Belgium&quot;</td><td>&quot;NOR&quot;</td><td>&quot;Norway&quot;</td><td>&quot;190532&quot;</td><td>&quot;Food preparations: waffles and…</td><td>5</td><td>438722.0</td><td>121.019</td><td>&quot;mt&quot;</td><td>&quot;Metric Tons&quot;</td></tr><tr><td>2022</td><td>&quot;BEL&quot;</td><td>&quot;Belgium&quot;</td><td>&quot;NOR&quot;</td><td>&quot;Norway&quot;</td><td>&quot;843820&quot;</td><td>&quot;Machines, confectionery, cocoa…</td><td>5</td><td>19734.0</td><td>0.401</td><td>&quot;mt&quot;</td><td>&quot;Metric Tons&quot;</td></tr></tbody></table></div>"
      ],
      "text/plain": [
       "shape: (59_130, 12)\n",
       "┌──────┬────────────┬────────────┬────────────┬───┬────────────┬──────────┬────────────┬───────────┐\n",
       "│ year ┆ exporter_i ┆ exporter_n ┆ importer_i ┆ … ┆ value      ┆ quantity ┆ unit_abbre ┆ unit_name │\n",
       "│ ---  ┆ d          ┆ ame        ┆ d          ┆   ┆ ---        ┆ ---      ┆ vation     ┆ ---       │\n",
       "│ i64  ┆ ---        ┆ ---        ┆ ---        ┆   ┆ f64        ┆ f64      ┆ ---        ┆ str       │\n",
       "│      ┆ str        ┆ str        ┆ str        ┆   ┆            ┆          ┆ str        ┆           │\n",
       "╞══════╪════════════╪════════════╪════════════╪═══╪════════════╪══════════╪════════════╪═══════════╡\n",
       "│ 2022 ┆ BEL        ┆ Belgium    ┆ POL        ┆ … ┆ 1.2240173e ┆ 3979.908 ┆ mt         ┆ Metric    │\n",
       "│      ┆            ┆            ┆            ┆   ┆ 7          ┆          ┆            ┆ Tons      │\n",
       "│ 2022 ┆ BEL        ┆ Belgium    ┆ POL        ┆ … ┆ 259016.0   ┆ 55.68    ┆ mt         ┆ Metric    │\n",
       "│      ┆            ┆            ┆            ┆   ┆            ┆          ┆            ┆ Tons      │\n",
       "│ 2022 ┆ BEL        ┆ Belgium    ┆ POL        ┆ … ┆ 1.622927e7 ┆ 4966.386 ┆ mt         ┆ Metric    │\n",
       "│      ┆            ┆            ┆            ┆   ┆            ┆          ┆            ┆ Tons      │\n",
       "│ 2022 ┆ BEL        ┆ Belgium    ┆ POL        ┆ … ┆ 681104.0   ┆ 97.448   ┆ mt         ┆ Metric    │\n",
       "│      ┆            ┆            ┆            ┆   ┆            ┆          ┆            ┆ Tons      │\n",
       "│ 2022 ┆ BEL        ┆ Belgium    ┆ POL        ┆ … ┆ 227664.0   ┆ 79.976   ┆ mt         ┆ Metric    │\n",
       "│      ┆            ┆            ┆            ┆   ┆            ┆          ┆            ┆ Tons      │\n",
       "│ …    ┆ …          ┆ …          ┆ …          ┆ … ┆ …          ┆ …        ┆ …          ┆ …         │\n",
       "│ 2022 ┆ BEL        ┆ Belgium    ┆ NOR        ┆ … ┆ 9.337696e6 ┆ 861.713  ┆ mt         ┆ Metric    │\n",
       "│      ┆            ┆            ┆            ┆   ┆            ┆          ┆            ┆ Tons      │\n",
       "│ 2022 ┆ BEL        ┆ Belgium    ┆ NOR        ┆ … ┆ 2.733112e6 ┆ 887.466  ┆ mt         ┆ Metric    │\n",
       "│      ┆            ┆            ┆            ┆   ┆            ┆          ┆            ┆ Tons      │\n",
       "│ 2022 ┆ BEL        ┆ Belgium    ┆ NOR        ┆ … ┆ 245947.0   ┆ 60.962   ┆ mt         ┆ Metric    │\n",
       "│      ┆            ┆            ┆            ┆   ┆            ┆          ┆            ┆ Tons      │\n",
       "│ 2022 ┆ BEL        ┆ Belgium    ┆ NOR        ┆ … ┆ 438722.0   ┆ 121.019  ┆ mt         ┆ Metric    │\n",
       "│      ┆            ┆            ┆            ┆   ┆            ┆          ┆            ┆ Tons      │\n",
       "│ 2022 ┆ BEL        ┆ Belgium    ┆ NOR        ┆ … ┆ 19734.0    ┆ 0.401    ┆ mt         ┆ Metric    │\n",
       "│      ┆            ┆            ┆            ┆   ┆            ┆          ┆            ┆ Tons      │\n",
       "└──────┴────────────┴────────────┴────────────┴───┴────────────┴──────────┴────────────┴───────────┘"
      ]
     },
     "execution_count": 8,
     "metadata": {},
     "output_type": "execute_result"
    }
   ],
   "source": [
    "pl_df.filter(pl.col(\"product_name\").str.contains(\"(?i)cocoa\"))"
   ]
  },
  {
   "cell_type": "markdown",
   "metadata": {},
   "source": [
    "## Example: Group\n",
    "\n"
   ]
  },
  {
   "cell_type": "code",
   "execution_count": 4,
   "metadata": {},
   "outputs": [
    {
     "data": {
      "text/html": [
       "<div>\n",
       "<style scoped>\n",
       "    .dataframe tbody tr th:only-of-type {\n",
       "        vertical-align: middle;\n",
       "    }\n",
       "\n",
       "    .dataframe tbody tr th {\n",
       "        vertical-align: top;\n",
       "    }\n",
       "\n",
       "    .dataframe thead tr th {\n",
       "        text-align: left;\n",
       "    }\n",
       "\n",
       "    .dataframe thead tr:last-of-type th {\n",
       "        text-align: right;\n",
       "    }\n",
       "</style>\n",
       "<table border=\"1\" class=\"dataframe\">\n",
       "  <thead>\n",
       "    <tr>\n",
       "      <th></th>\n",
       "      <th>value</th>\n",
       "      <th colspan=\"2\" halign=\"left\">quantity</th>\n",
       "    </tr>\n",
       "    <tr>\n",
       "      <th></th>\n",
       "      <th>sum</th>\n",
       "      <th>sum</th>\n",
       "      <th>mean</th>\n",
       "    </tr>\n",
       "    <tr>\n",
       "      <th>exporter_id</th>\n",
       "      <th></th>\n",
       "      <th></th>\n",
       "      <th></th>\n",
       "    </tr>\n",
       "  </thead>\n",
       "  <tbody>\n",
       "    <tr>\n",
       "      <th>ABW</th>\n",
       "      <td>4.271220e+07</td>\n",
       "      <td>3.990741e+04</td>\n",
       "      <td>37.088674</td>\n",
       "    </tr>\n",
       "    <tr>\n",
       "      <th>AFG</th>\n",
       "      <td>1.520468e+09</td>\n",
       "      <td>5.440034e+06</td>\n",
       "      <td>962.837931</td>\n",
       "    </tr>\n",
       "    <tr>\n",
       "      <th>AGO</th>\n",
       "      <td>5.380631e+10</td>\n",
       "      <td>6.968337e+07</td>\n",
       "      <td>4878.762922</td>\n",
       "    </tr>\n",
       "    <tr>\n",
       "      <th>AIA</th>\n",
       "      <td>2.508270e+07</td>\n",
       "      <td>4.365993e+03</td>\n",
       "      <td>6.635248</td>\n",
       "    </tr>\n",
       "    <tr>\n",
       "      <th>ALB</th>\n",
       "      <td>4.352923e+09</td>\n",
       "      <td>3.175407e+06</td>\n",
       "      <td>189.893958</td>\n",
       "    </tr>\n",
       "    <tr>\n",
       "      <th>...</th>\n",
       "      <td>...</td>\n",
       "      <td>...</td>\n",
       "      <td>...</td>\n",
       "    </tr>\n",
       "    <tr>\n",
       "      <th>YEM</th>\n",
       "      <td>1.761144e+09</td>\n",
       "      <td>2.043993e+06</td>\n",
       "      <td>1196.717094</td>\n",
       "    </tr>\n",
       "    <tr>\n",
       "      <th>ZAF</th>\n",
       "      <td>1.544890e+11</td>\n",
       "      <td>2.150749e+08</td>\n",
       "      <td>1441.482417</td>\n",
       "    </tr>\n",
       "    <tr>\n",
       "      <th>ZMB</th>\n",
       "      <td>1.504280e+10</td>\n",
       "      <td>7.409465e+06</td>\n",
       "      <td>717.554230</td>\n",
       "    </tr>\n",
       "    <tr>\n",
       "      <th>ZWE</th>\n",
       "      <td>8.381471e+09</td>\n",
       "      <td>2.668969e+06</td>\n",
       "      <td>419.319638</td>\n",
       "    </tr>\n",
       "    <tr>\n",
       "      <th>\\N</th>\n",
       "      <td>5.560721e+11</td>\n",
       "      <td>5.965386e+07</td>\n",
       "      <td>325.553974</td>\n",
       "    </tr>\n",
       "  </tbody>\n",
       "</table>\n",
       "<p>226 rows × 3 columns</p>\n",
       "</div>"
      ],
      "text/plain": [
       "                    value      quantity             \n",
       "                      sum           sum         mean\n",
       "exporter_id                                         \n",
       "ABW          4.271220e+07  3.990741e+04    37.088674\n",
       "AFG          1.520468e+09  5.440034e+06   962.837931\n",
       "AGO          5.380631e+10  6.968337e+07  4878.762922\n",
       "AIA          2.508270e+07  4.365993e+03     6.635248\n",
       "ALB          4.352923e+09  3.175407e+06   189.893958\n",
       "...                   ...           ...          ...\n",
       "YEM          1.761144e+09  2.043993e+06  1196.717094\n",
       "ZAF          1.544890e+11  2.150749e+08  1441.482417\n",
       "ZMB          1.504280e+10  7.409465e+06   717.554230\n",
       "ZWE          8.381471e+09  2.668969e+06   419.319638\n",
       "\\N           5.560721e+11  5.965386e+07   325.553974\n",
       "\n",
       "[226 rows x 3 columns]"
      ]
     },
     "execution_count": 4,
     "metadata": {},
     "output_type": "execute_result"
    }
   ],
   "source": [
    "pd_df.groupby(\"exporter_id\").agg({\"value\": \"sum\", \"quantity\": [\"sum\", \"mean\"]})"
   ]
  },
  {
   "cell_type": "code",
   "execution_count": 96,
   "metadata": {},
   "outputs": [
    {
     "data": {
      "text/html": [
       "<div><style>\n",
       ".dataframe > thead > tr,\n",
       ".dataframe > tbody > tr {\n",
       "  text-align: right;\n",
       "  white-space: pre-wrap;\n",
       "}\n",
       "</style>\n",
       "<small>shape: (226, 4)</small><table border=\"1\" class=\"dataframe\"><thead><tr><th>exporter_id</th><th>value</th><th>quantity</th><th>quantity_mean</th></tr><tr><td>str</td><td>f64</td><td>f64</td><td>f64</td></tr></thead><tbody><tr><td>&quot;ABW&quot;</td><td>4.27122e7</td><td>39907.413</td><td>37.088674</td></tr><tr><td>&quot;AFG&quot;</td><td>1.5205e9</td><td>5.4400e6</td><td>962.837931</td></tr><tr><td>&quot;AGO&quot;</td><td>5.3806e10</td><td>6.9683e7</td><td>4878.762922</td></tr><tr><td>&quot;AIA&quot;</td><td>2.5082697e7</td><td>4365.993</td><td>6.635248</td></tr><tr><td>&quot;ALB&quot;</td><td>4.3529e9</td><td>3.1754e6</td><td>189.893958</td></tr><tr><td>&hellip;</td><td>&hellip;</td><td>&hellip;</td><td>&hellip;</td></tr><tr><td>&quot;YEM&quot;</td><td>1.7611e9</td><td>2.0440e6</td><td>1196.717094</td></tr><tr><td>&quot;ZAF&quot;</td><td>1.5449e11</td><td>2.1507e8</td><td>1441.482417</td></tr><tr><td>&quot;ZMB&quot;</td><td>1.5043e10</td><td>7.4095e6</td><td>717.55423</td></tr><tr><td>&quot;ZWE&quot;</td><td>8.3815e9</td><td>2.6690e6</td><td>419.319638</td></tr><tr><td>&quot;\\N&quot;</td><td>5.5607e11</td><td>5.9654e7</td><td>325.553974</td></tr></tbody></table></div>"
      ],
      "text/plain": [
       "shape: (226, 4)\n",
       "┌─────────────┬─────────────┬───────────┬───────────────┐\n",
       "│ exporter_id ┆ value       ┆ quantity  ┆ quantity_mean │\n",
       "│ ---         ┆ ---         ┆ ---       ┆ ---           │\n",
       "│ str         ┆ f64         ┆ f64       ┆ f64           │\n",
       "╞═════════════╪═════════════╪═══════════╪═══════════════╡\n",
       "│ ABW         ┆ 4.27122e7   ┆ 39907.413 ┆ 37.088674     │\n",
       "│ AFG         ┆ 1.5205e9    ┆ 5.4400e6  ┆ 962.837931    │\n",
       "│ AGO         ┆ 5.3806e10   ┆ 6.9683e7  ┆ 4878.762922   │\n",
       "│ AIA         ┆ 2.5082697e7 ┆ 4365.993  ┆ 6.635248      │\n",
       "│ ALB         ┆ 4.3529e9    ┆ 3.1754e6  ┆ 189.893958    │\n",
       "│ …           ┆ …           ┆ …         ┆ …             │\n",
       "│ YEM         ┆ 1.7611e9    ┆ 2.0440e6  ┆ 1196.717094   │\n",
       "│ ZAF         ┆ 1.5449e11   ┆ 2.1507e8  ┆ 1441.482417   │\n",
       "│ ZMB         ┆ 1.5043e10   ┆ 7.4095e6  ┆ 717.55423     │\n",
       "│ ZWE         ┆ 8.3815e9    ┆ 2.6690e6  ┆ 419.319638    │\n",
       "│ \\N          ┆ 5.5607e11   ┆ 5.9654e7  ┆ 325.553974    │\n",
       "└─────────────┴─────────────┴───────────┴───────────────┘"
      ]
     },
     "execution_count": 96,
     "metadata": {},
     "output_type": "execute_result"
    }
   ],
   "source": [
    "pl_df.group_by(\"exporter_id\").agg(\n",
    "    pl.col(\"value\").sum(),\n",
    "    pl.col(\"quantity\").sum(),\n",
    "    pl.col(\"quantity\").mean().alias(\"quantity_mean\"),\n",
    ").sort(\"exporter_id\")"
   ]
  },
  {
   "cell_type": "code",
   "execution_count": 97,
   "metadata": {},
   "outputs": [
    {
     "data": {
      "text/html": [
       "<div><style>\n",
       ".dataframe > thead > tr,\n",
       ".dataframe > tbody > tr {\n",
       "  text-align: right;\n",
       "  white-space: pre-wrap;\n",
       "}\n",
       "</style>\n",
       "<small>shape: (11_375_504, 12)</small><table border=\"1\" class=\"dataframe\"><thead><tr><th>year</th><th>exporter_id</th><th>exporter_name</th><th>importer_id</th><th>importer_name</th><th>hs_code</th><th>product_name</th><th>hs_revision</th><th>value</th><th>quantity</th><th>unit_abbrevation</th><th>unit_name</th></tr><tr><td>i64</td><td>str</td><td>str</td><td>str</td><td>str</td><td>str</td><td>str</td><td>i64</td><td>f64</td><td>f64</td><td>str</td><td>str</td></tr></thead><tbody><tr><td>2022</td><td>&quot;BEL&quot;</td><td>&quot;Belgium&quot;</td><td>&quot;POL&quot;</td><td>&quot;Poland&quot;</td><td>&quot;110412&quot;</td><td>&quot;Oats, rolled or flaked grains&quot;</td><td>5</td><td>328.0</td><td>0.019</td><td>&quot;mt&quot;</td><td>&quot;Metric Tons&quot;</td></tr><tr><td>2022</td><td>&quot;BEL&quot;</td><td>&quot;Belgium&quot;</td><td>&quot;POL&quot;</td><td>&quot;Poland&quot;</td><td>&quot;110419&quot;</td><td>&quot;Cereals, rolled or flaked grai…</td><td>5</td><td>54.0</td><td>0.026</td><td>&quot;mt&quot;</td><td>&quot;Metric Tons&quot;</td></tr><tr><td>2022</td><td>&quot;BEL&quot;</td><td>&quot;Belgium&quot;</td><td>&quot;POL&quot;</td><td>&quot;Poland&quot;</td><td>&quot;110423&quot;</td><td>&quot;Maize (corn), hulled, pearled,…</td><td>5</td><td>690.0</td><td>1.022</td><td>&quot;mt&quot;</td><td>&quot;Metric Tons&quot;</td></tr><tr><td>2022</td><td>&quot;BEL&quot;</td><td>&quot;Belgium&quot;</td><td>&quot;POL&quot;</td><td>&quot;Poland&quot;</td><td>&quot;110429&quot;</td><td>&quot;Cereals, hulled, pearled, slic…</td><td>5</td><td>159.0</td><td>0.061</td><td>&quot;mt&quot;</td><td>&quot;Metric Tons&quot;</td></tr><tr><td>2022</td><td>&quot;BEL&quot;</td><td>&quot;Belgium&quot;</td><td>&quot;POL&quot;</td><td>&quot;Poland&quot;</td><td>&quot;110430&quot;</td><td>&quot;Germ of cereals, whole, rolled…</td><td>5</td><td>219.0</td><td>0.184</td><td>&quot;mt&quot;</td><td>&quot;Metric Tons&quot;</td></tr><tr><td>&hellip;</td><td>&hellip;</td><td>&hellip;</td><td>&hellip;</td><td>&hellip;</td><td>&hellip;</td><td>&hellip;</td><td>&hellip;</td><td>&hellip;</td><td>&hellip;</td><td>&hellip;</td><td>&hellip;</td></tr><tr><td>2022</td><td>&quot;BEL&quot;</td><td>&quot;Belgium&quot;</td><td>&quot;NOR&quot;</td><td>&quot;Norway&quot;</td><td>&quot;960810&quot;</td><td>&quot;Ball point pens&quot;</td><td>5</td><td>1579.0</td><td>0.105</td><td>&quot;mt&quot;</td><td>&quot;Metric Tons&quot;</td></tr><tr><td>2022</td><td>&quot;BEL&quot;</td><td>&quot;Belgium&quot;</td><td>&quot;NOR&quot;</td><td>&quot;Norway&quot;</td><td>&quot;960820&quot;</td><td>&quot;Felt tipped, other porous-tipp…</td><td>5</td><td>2208.0</td><td>0.099</td><td>&quot;mt&quot;</td><td>&quot;Metric Tons&quot;</td></tr><tr><td>2022</td><td>&quot;BEL&quot;</td><td>&quot;Belgium&quot;</td><td>&quot;NOR&quot;</td><td>&quot;Norway&quot;</td><td>&quot;960830&quot;</td><td>&quot;Pens: fountain, stylograph and…</td><td>5</td><td>156.0</td><td>0.018</td><td>&quot;mt&quot;</td><td>&quot;Metric Tons&quot;</td></tr><tr><td>2022</td><td>&quot;BEL&quot;</td><td>&quot;Belgium&quot;</td><td>&quot;NOR&quot;</td><td>&quot;Norway&quot;</td><td>&quot;960850&quot;</td><td>&quot;Sets of mixed types of pens/pe…</td><td>5</td><td>38.0</td><td>0.001</td><td>&quot;mt&quot;</td><td>&quot;Metric Tons&quot;</td></tr><tr><td>2022</td><td>&quot;BEL&quot;</td><td>&quot;Belgium&quot;</td><td>&quot;NOR&quot;</td><td>&quot;Norway&quot;</td><td>&quot;960899&quot;</td><td>&quot;Duplicating stylos, pen/pencil…</td><td>5</td><td>644.0</td><td>0.007</td><td>&quot;mt&quot;</td><td>&quot;Metric Tons&quot;</td></tr></tbody></table></div>"
      ],
      "text/plain": [
       "shape: (11_375_504, 12)\n",
       "┌──────┬─────────────┬─────────────┬─────────────┬───┬────────┬──────────┬────────────┬────────────┐\n",
       "│ year ┆ exporter_id ┆ exporter_na ┆ importer_id ┆ … ┆ value  ┆ quantity ┆ unit_abbre ┆ unit_name  │\n",
       "│ ---  ┆ ---         ┆ me          ┆ ---         ┆   ┆ ---    ┆ ---      ┆ vation     ┆ ---        │\n",
       "│ i64  ┆ str         ┆ ---         ┆ str         ┆   ┆ f64    ┆ f64      ┆ ---        ┆ str        │\n",
       "│      ┆             ┆ str         ┆             ┆   ┆        ┆          ┆ str        ┆            │\n",
       "╞══════╪═════════════╪═════════════╪═════════════╪═══╪════════╪══════════╪════════════╪════════════╡\n",
       "│ 2022 ┆ BEL         ┆ Belgium     ┆ POL         ┆ … ┆ 328.0  ┆ 0.019    ┆ mt         ┆ Metric     │\n",
       "│      ┆             ┆             ┆             ┆   ┆        ┆          ┆            ┆ Tons       │\n",
       "│ 2022 ┆ BEL         ┆ Belgium     ┆ POL         ┆ … ┆ 54.0   ┆ 0.026    ┆ mt         ┆ Metric     │\n",
       "│      ┆             ┆             ┆             ┆   ┆        ┆          ┆            ┆ Tons       │\n",
       "│ 2022 ┆ BEL         ┆ Belgium     ┆ POL         ┆ … ┆ 690.0  ┆ 1.022    ┆ mt         ┆ Metric     │\n",
       "│      ┆             ┆             ┆             ┆   ┆        ┆          ┆            ┆ Tons       │\n",
       "│ 2022 ┆ BEL         ┆ Belgium     ┆ POL         ┆ … ┆ 159.0  ┆ 0.061    ┆ mt         ┆ Metric     │\n",
       "│      ┆             ┆             ┆             ┆   ┆        ┆          ┆            ┆ Tons       │\n",
       "│ 2022 ┆ BEL         ┆ Belgium     ┆ POL         ┆ … ┆ 219.0  ┆ 0.184    ┆ mt         ┆ Metric     │\n",
       "│      ┆             ┆             ┆             ┆   ┆        ┆          ┆            ┆ Tons       │\n",
       "│ …    ┆ …           ┆ …           ┆ …           ┆ … ┆ …      ┆ …        ┆ …          ┆ …          │\n",
       "│ 2022 ┆ BEL         ┆ Belgium     ┆ NOR         ┆ … ┆ 1579.0 ┆ 0.105    ┆ mt         ┆ Metric     │\n",
       "│      ┆             ┆             ┆             ┆   ┆        ┆          ┆            ┆ Tons       │\n",
       "│ 2022 ┆ BEL         ┆ Belgium     ┆ NOR         ┆ … ┆ 2208.0 ┆ 0.099    ┆ mt         ┆ Metric     │\n",
       "│      ┆             ┆             ┆             ┆   ┆        ┆          ┆            ┆ Tons       │\n",
       "│ 2022 ┆ BEL         ┆ Belgium     ┆ NOR         ┆ … ┆ 156.0  ┆ 0.018    ┆ mt         ┆ Metric     │\n",
       "│      ┆             ┆             ┆             ┆   ┆        ┆          ┆            ┆ Tons       │\n",
       "│ 2022 ┆ BEL         ┆ Belgium     ┆ NOR         ┆ … ┆ 38.0   ┆ 0.001    ┆ mt         ┆ Metric     │\n",
       "│      ┆             ┆             ┆             ┆   ┆        ┆          ┆            ┆ Tons       │\n",
       "│ 2022 ┆ BEL         ┆ Belgium     ┆ NOR         ┆ … ┆ 644.0  ┆ 0.007    ┆ mt         ┆ Metric     │\n",
       "│      ┆             ┆             ┆             ┆   ┆        ┆          ┆            ┆ Tons       │\n",
       "└──────┴─────────────┴─────────────┴─────────────┴───┴────────┴──────────┴────────────┴────────────┘"
      ]
     },
     "execution_count": 97,
     "metadata": {},
     "output_type": "execute_result"
    }
   ],
   "source": [
    "pl_df"
   ]
  },
  {
   "cell_type": "code",
   "execution_count": null,
   "metadata": {},
   "outputs": [
    {
     "name": "stdout",
     "output_type": "stream",
     "text": [
      "[<Expr ['col(\"quantity\").quantile().ali…'] at 0x15001B140>, <Expr ['col(\"quantity\").quantile().ali…'] at 0x1500B82F0>, <Expr ['col(\"quantity\").quantile().ali…'] at 0x1500B9790>, <Expr ['col(\"quantity\").quantile().ali…'] at 0x1500BA6F0>, <Expr ['col(\"quantity\").quantile().ali…'] at 0x1500B9070>]\n",
      "[<Expr ['col(\"quantity\").quantile().ali…'] at 0x1500B8290>, <Expr ['col(\"quantity\").quantile().ali…'] at 0x1500B86B0>, <Expr ['col(\"quantity\").quantile().ali…'] at 0x1500BABD0>, <Expr ['col(\"quantity\").quantile().ali…'] at 0x1500B95E0>, <Expr ['col(\"quantity\").quantile().ali…'] at 0x1500B9A60>, <Expr ['col(\"value\").quantile().alias(…'] at 0x1500BAF90>, <Expr ['col(\"value\").quantile().alias(…'] at 0x1500B9F10>, <Expr ['col(\"value\").quantile().alias(…'] at 0x1500B9430>, <Expr ['col(\"value\").quantile().alias(…'] at 0x1500BA150>, <Expr ['col(\"value\").quantile().alias(…'] at 0x1500BAF00>]\n"
     ]
    },
    {
     "data": {
      "text/html": [
       "<div><style>\n",
       ".dataframe > thead > tr,\n",
       ".dataframe > tbody > tr {\n",
       "  text-align: right;\n",
       "  white-space: pre-wrap;\n",
       "}\n",
       "</style>\n",
       "<small>shape: (226, 11)</small><table border=\"1\" class=\"dataframe\"><thead><tr><th>exporter_id</th><th>quantity_quantile_0</th><th>quantity_quantile_0.25</th><th>quantity_quantile_0.5</th><th>quantity_quantile_0.75</th><th>quantity_quantile_1</th><th>value_quantile_0</th><th>value_quantile_0.25</th><th>value_quantile_0.5</th><th>value_quantile_0.75</th><th>value_quantile_1</th></tr><tr><td>str</td><td>f64</td><td>f64</td><td>f64</td><td>f64</td><td>f64</td><td>f64</td><td>f64</td><td>f64</td><td>f64</td><td>f64</td></tr></thead><tbody><tr><td>&quot;COL&quot;</td><td>0.0</td><td>0.013</td><td>0.2</td><td>4.278</td><td>1.1816e7</td><td>1.0</td><td>448.0</td><td>4323.0</td><td>39883.0</td><td>6.0380e9</td></tr><tr><td>&quot;NFK&quot;</td><td>0.0</td><td>0.003</td><td>0.024</td><td>0.2</td><td>60.875</td><td>1.0</td><td>76.0</td><td>284.0</td><td>1693.0</td><td>276072.0</td></tr><tr><td>&quot;LKA&quot;</td><td>0.0</td><td>0.01</td><td>0.127</td><td>1.773</td><td>138032.0</td><td>1.0</td><td>293.0</td><td>2852.0</td><td>28851.0</td><td>2.94478817e8</td></tr><tr><td>&quot;VNM&quot;</td><td>0.0</td><td>0.041</td><td>0.973</td><td>18.917</td><td>1.0531687e7</td><td>1.0</td><td>1654.0</td><td>19177.0</td><td>198227.0</td><td>1.2881e10</td></tr><tr><td>&quot;MDV&quot;</td><td>0.0</td><td>0.001</td><td>0.01</td><td>0.105</td><td>46365.022</td><td>1.0</td><td>32.0</td><td>237.0</td><td>2077.0</td><td>4.3341e8</td></tr><tr><td>&hellip;</td><td>&hellip;</td><td>&hellip;</td><td>&hellip;</td><td>&hellip;</td><td>&hellip;</td><td>&hellip;</td><td>&hellip;</td><td>&hellip;</td><td>&hellip;</td><td>&hellip;</td></tr><tr><td>&quot;VGB&quot;</td><td>0.0</td><td>0.003</td><td>0.025</td><td>0.192</td><td>39943.4</td><td>1.0</td><td>96.0</td><td>441.0</td><td>4514.0</td><td>8.576028e7</td></tr><tr><td>&quot;UZB&quot;</td><td>0.0</td><td>0.01</td><td>0.454</td><td>16.02</td><td>782210.4</td><td>1.0</td><td>242.0</td><td>4356.0</td><td>56230.0</td><td>4.2749e9</td></tr><tr><td>&quot;SLB&quot;</td><td>0.0</td><td>0.002</td><td>0.02</td><td>0.632</td><td>812615.4</td><td>1.0</td><td>94.0</td><td>1078.0</td><td>8541.0</td><td>1.99747782e8</td></tr><tr><td>&quot;BRN&quot;</td><td>0.0</td><td>0.001</td><td>0.009</td><td>0.124</td><td>3.2172e6</td><td>1.0</td><td>49.0</td><td>395.0</td><td>4248.0</td><td>2.1992e9</td></tr><tr><td>&quot;PER&quot;</td><td>0.0</td><td>0.012</td><td>0.148</td><td>3.341</td><td>1.6455e7</td><td>1.0</td><td>339.0</td><td>3268.0</td><td>34453.0</td><td>1.0276e10</td></tr></tbody></table></div>"
      ],
      "text/plain": [
       "shape: (226, 11)\n",
       "┌───────────┬───────────┬───────────┬───────────┬───┬───────────┬───────────┬───────────┬──────────┐\n",
       "│ exporter_ ┆ quantity_ ┆ quantity_ ┆ quantity_ ┆ … ┆ value_qua ┆ value_qua ┆ value_qua ┆ value_qu │\n",
       "│ id        ┆ quantile_ ┆ quantile_ ┆ quantile_ ┆   ┆ ntile_0.2 ┆ ntile_0.5 ┆ ntile_0.7 ┆ antile_1 │\n",
       "│ ---       ┆ 0         ┆ 0.25      ┆ 0.5       ┆   ┆ 5         ┆ ---       ┆ 5         ┆ ---      │\n",
       "│ str       ┆ ---       ┆ ---       ┆ ---       ┆   ┆ ---       ┆ f64       ┆ ---       ┆ f64      │\n",
       "│           ┆ f64       ┆ f64       ┆ f64       ┆   ┆ f64       ┆           ┆ f64       ┆          │\n",
       "╞═══════════╪═══════════╪═══════════╪═══════════╪═══╪═══════════╪═══════════╪═══════════╪══════════╡\n",
       "│ COL       ┆ 0.0       ┆ 0.013     ┆ 0.2       ┆ … ┆ 448.0     ┆ 4323.0    ┆ 39883.0   ┆ 6.0380e9 │\n",
       "│ NFK       ┆ 0.0       ┆ 0.003     ┆ 0.024     ┆ … ┆ 76.0      ┆ 284.0     ┆ 1693.0    ┆ 276072.0 │\n",
       "│ LKA       ┆ 0.0       ┆ 0.01      ┆ 0.127     ┆ … ┆ 293.0     ┆ 2852.0    ┆ 28851.0   ┆ 2.944788 │\n",
       "│           ┆           ┆           ┆           ┆   ┆           ┆           ┆           ┆ 17e8     │\n",
       "│ VNM       ┆ 0.0       ┆ 0.041     ┆ 0.973     ┆ … ┆ 1654.0    ┆ 19177.0   ┆ 198227.0  ┆ 1.2881e1 │\n",
       "│           ┆           ┆           ┆           ┆   ┆           ┆           ┆           ┆ 0        │\n",
       "│ MDV       ┆ 0.0       ┆ 0.001     ┆ 0.01      ┆ … ┆ 32.0      ┆ 237.0     ┆ 2077.0    ┆ 4.3341e8 │\n",
       "│ …         ┆ …         ┆ …         ┆ …         ┆ … ┆ …         ┆ …         ┆ …         ┆ …        │\n",
       "│ VGB       ┆ 0.0       ┆ 0.003     ┆ 0.025     ┆ … ┆ 96.0      ┆ 441.0     ┆ 4514.0    ┆ 8.576028 │\n",
       "│           ┆           ┆           ┆           ┆   ┆           ┆           ┆           ┆ e7       │\n",
       "│ UZB       ┆ 0.0       ┆ 0.01      ┆ 0.454     ┆ … ┆ 242.0     ┆ 4356.0    ┆ 56230.0   ┆ 4.2749e9 │\n",
       "│ SLB       ┆ 0.0       ┆ 0.002     ┆ 0.02      ┆ … ┆ 94.0      ┆ 1078.0    ┆ 8541.0    ┆ 1.997477 │\n",
       "│           ┆           ┆           ┆           ┆   ┆           ┆           ┆           ┆ 82e8     │\n",
       "│ BRN       ┆ 0.0       ┆ 0.001     ┆ 0.009     ┆ … ┆ 49.0      ┆ 395.0     ┆ 4248.0    ┆ 2.1992e9 │\n",
       "│ PER       ┆ 0.0       ┆ 0.012     ┆ 0.148     ┆ … ┆ 339.0     ┆ 3268.0    ┆ 34453.0   ┆ 1.0276e1 │\n",
       "│           ┆           ┆           ┆           ┆   ┆           ┆           ┆           ┆ 0        │\n",
       "└───────────┴───────────┴───────────┴───────────┴───┴───────────┴───────────┴───────────┴──────────┘"
      ]
     },
     "execution_count": 102,
     "metadata": {},
     "output_type": "execute_result"
    }
   ],
   "source": [
    "quantity_grouping_exprs = [\n",
    "    pl.col(\"quantity\").quantile(q).alias(f\"quantity_quantile_{q}\")\n",
    "    for q in [0, 0.25, 0.5, 0.75, 1]\n",
    "]\n",
    "print(quantity_grouping_exprs)\n",
    "quantity_and_value_grouping_exprs = [\n",
    "    pl.col(measure).quantile(q).alias(f\"{measure}_quantile_{q}\")\n",
    "    for measure in (\"quantity\", \"value\")\n",
    "    for q in [0, 0.25, 0.5, 0.75, 1]\n",
    "]\n",
    "print(quantity_and_value_grouping_exprs)\n",
    "pl_df.group_by(\"exporter_id\").agg(quantity_and_value_grouping_exprs)\n",
    "\n",
    "\n"
   ]
  },
  {
   "cell_type": "markdown",
   "metadata": {},
   "source": [
    "## Example: Add a column"
   ]
  },
  {
   "cell_type": "code",
   "execution_count": 11,
   "metadata": {},
   "outputs": [
    {
     "data": {
      "text/html": [
       "<div>\n",
       "<style scoped>\n",
       "    .dataframe tbody tr th:only-of-type {\n",
       "        vertical-align: middle;\n",
       "    }\n",
       "\n",
       "    .dataframe tbody tr th {\n",
       "        vertical-align: top;\n",
       "    }\n",
       "\n",
       "    .dataframe thead th {\n",
       "        text-align: right;\n",
       "    }\n",
       "</style>\n",
       "<table border=\"1\" class=\"dataframe\">\n",
       "  <thead>\n",
       "    <tr style=\"text-align: right;\">\n",
       "      <th></th>\n",
       "      <th>year</th>\n",
       "      <th>exporter_id</th>\n",
       "      <th>exporter_name</th>\n",
       "      <th>importer_id</th>\n",
       "      <th>importer_name</th>\n",
       "      <th>hs_code</th>\n",
       "      <th>product_name</th>\n",
       "      <th>hs_revision</th>\n",
       "      <th>value</th>\n",
       "      <th>quantity</th>\n",
       "      <th>unit_abbrevation</th>\n",
       "      <th>unit_name</th>\n",
       "      <th>price_per_unit</th>\n",
       "    </tr>\n",
       "  </thead>\n",
       "  <tbody>\n",
       "    <tr>\n",
       "      <th>0</th>\n",
       "      <td>2022</td>\n",
       "      <td>BEL</td>\n",
       "      <td>Belgium</td>\n",
       "      <td>POL</td>\n",
       "      <td>Poland</td>\n",
       "      <td>110412</td>\n",
       "      <td>Oats, rolled or flaked grains</td>\n",
       "      <td>5</td>\n",
       "      <td>328.0</td>\n",
       "      <td>0.019</td>\n",
       "      <td>mt</td>\n",
       "      <td>Metric Tons</td>\n",
       "      <td>17263.157895</td>\n",
       "    </tr>\n",
       "    <tr>\n",
       "      <th>1</th>\n",
       "      <td>2022</td>\n",
       "      <td>BEL</td>\n",
       "      <td>Belgium</td>\n",
       "      <td>POL</td>\n",
       "      <td>Poland</td>\n",
       "      <td>110419</td>\n",
       "      <td>Cereals, rolled or flaked grains nes</td>\n",
       "      <td>5</td>\n",
       "      <td>54.0</td>\n",
       "      <td>0.026</td>\n",
       "      <td>mt</td>\n",
       "      <td>Metric Tons</td>\n",
       "      <td>2076.923077</td>\n",
       "    </tr>\n",
       "    <tr>\n",
       "      <th>2</th>\n",
       "      <td>2022</td>\n",
       "      <td>BEL</td>\n",
       "      <td>Belgium</td>\n",
       "      <td>POL</td>\n",
       "      <td>Poland</td>\n",
       "      <td>110423</td>\n",
       "      <td>Maize (corn), hulled, pearled, sliced or kibbled</td>\n",
       "      <td>5</td>\n",
       "      <td>690.0</td>\n",
       "      <td>1.022</td>\n",
       "      <td>mt</td>\n",
       "      <td>Metric Tons</td>\n",
       "      <td>675.146771</td>\n",
       "    </tr>\n",
       "    <tr>\n",
       "      <th>3</th>\n",
       "      <td>2022</td>\n",
       "      <td>BEL</td>\n",
       "      <td>Belgium</td>\n",
       "      <td>POL</td>\n",
       "      <td>Poland</td>\n",
       "      <td>110429</td>\n",
       "      <td>Cereals, hulled, pearled, sliced or kibbled nes</td>\n",
       "      <td>5</td>\n",
       "      <td>159.0</td>\n",
       "      <td>0.061</td>\n",
       "      <td>mt</td>\n",
       "      <td>Metric Tons</td>\n",
       "      <td>2606.557377</td>\n",
       "    </tr>\n",
       "    <tr>\n",
       "      <th>4</th>\n",
       "      <td>2022</td>\n",
       "      <td>BEL</td>\n",
       "      <td>Belgium</td>\n",
       "      <td>POL</td>\n",
       "      <td>Poland</td>\n",
       "      <td>110430</td>\n",
       "      <td>Germ of cereals, whole, rolled, flaked or ground</td>\n",
       "      <td>5</td>\n",
       "      <td>219.0</td>\n",
       "      <td>0.184</td>\n",
       "      <td>mt</td>\n",
       "      <td>Metric Tons</td>\n",
       "      <td>1190.217391</td>\n",
       "    </tr>\n",
       "    <tr>\n",
       "      <th>...</th>\n",
       "      <td>...</td>\n",
       "      <td>...</td>\n",
       "      <td>...</td>\n",
       "      <td>...</td>\n",
       "      <td>...</td>\n",
       "      <td>...</td>\n",
       "      <td>...</td>\n",
       "      <td>...</td>\n",
       "      <td>...</td>\n",
       "      <td>...</td>\n",
       "      <td>...</td>\n",
       "      <td>...</td>\n",
       "      <td>...</td>\n",
       "    </tr>\n",
       "    <tr>\n",
       "      <th>11375499</th>\n",
       "      <td>2022</td>\n",
       "      <td>BEL</td>\n",
       "      <td>Belgium</td>\n",
       "      <td>NOR</td>\n",
       "      <td>Norway</td>\n",
       "      <td>960810</td>\n",
       "      <td>Ball point pens</td>\n",
       "      <td>5</td>\n",
       "      <td>1579.0</td>\n",
       "      <td>0.105</td>\n",
       "      <td>mt</td>\n",
       "      <td>Metric Tons</td>\n",
       "      <td>15038.095238</td>\n",
       "    </tr>\n",
       "    <tr>\n",
       "      <th>11375500</th>\n",
       "      <td>2022</td>\n",
       "      <td>BEL</td>\n",
       "      <td>Belgium</td>\n",
       "      <td>NOR</td>\n",
       "      <td>Norway</td>\n",
       "      <td>960820</td>\n",
       "      <td>Felt tipped, other porous-tipped pens and markers</td>\n",
       "      <td>5</td>\n",
       "      <td>2208.0</td>\n",
       "      <td>0.099</td>\n",
       "      <td>mt</td>\n",
       "      <td>Metric Tons</td>\n",
       "      <td>22303.030303</td>\n",
       "    </tr>\n",
       "    <tr>\n",
       "      <th>11375501</th>\n",
       "      <td>2022</td>\n",
       "      <td>BEL</td>\n",
       "      <td>Belgium</td>\n",
       "      <td>NOR</td>\n",
       "      <td>Norway</td>\n",
       "      <td>960830</td>\n",
       "      <td>Pens: fountain, stylograph and other pens</td>\n",
       "      <td>5</td>\n",
       "      <td>156.0</td>\n",
       "      <td>0.018</td>\n",
       "      <td>mt</td>\n",
       "      <td>Metric Tons</td>\n",
       "      <td>8666.666667</td>\n",
       "    </tr>\n",
       "    <tr>\n",
       "      <th>11375502</th>\n",
       "      <td>2022</td>\n",
       "      <td>BEL</td>\n",
       "      <td>Belgium</td>\n",
       "      <td>NOR</td>\n",
       "      <td>Norway</td>\n",
       "      <td>960850</td>\n",
       "      <td>Sets of mixed types of pens/pencils</td>\n",
       "      <td>5</td>\n",
       "      <td>38.0</td>\n",
       "      <td>0.001</td>\n",
       "      <td>mt</td>\n",
       "      <td>Metric Tons</td>\n",
       "      <td>38000.000000</td>\n",
       "    </tr>\n",
       "    <tr>\n",
       "      <th>11375503</th>\n",
       "      <td>2022</td>\n",
       "      <td>BEL</td>\n",
       "      <td>Belgium</td>\n",
       "      <td>NOR</td>\n",
       "      <td>Norway</td>\n",
       "      <td>960899</td>\n",
       "      <td>Duplicating stylos, pen/pencil holders, pen parts</td>\n",
       "      <td>5</td>\n",
       "      <td>644.0</td>\n",
       "      <td>0.007</td>\n",
       "      <td>mt</td>\n",
       "      <td>Metric Tons</td>\n",
       "      <td>92000.000000</td>\n",
       "    </tr>\n",
       "  </tbody>\n",
       "</table>\n",
       "<p>11375504 rows × 13 columns</p>\n",
       "</div>"
      ],
      "text/plain": [
       "          year exporter_id exporter_name importer_id importer_name hs_code  \\\n",
       "0         2022         BEL       Belgium         POL        Poland  110412   \n",
       "1         2022         BEL       Belgium         POL        Poland  110419   \n",
       "2         2022         BEL       Belgium         POL        Poland  110423   \n",
       "3         2022         BEL       Belgium         POL        Poland  110429   \n",
       "4         2022         BEL       Belgium         POL        Poland  110430   \n",
       "...        ...         ...           ...         ...           ...     ...   \n",
       "11375499  2022         BEL       Belgium         NOR        Norway  960810   \n",
       "11375500  2022         BEL       Belgium         NOR        Norway  960820   \n",
       "11375501  2022         BEL       Belgium         NOR        Norway  960830   \n",
       "11375502  2022         BEL       Belgium         NOR        Norway  960850   \n",
       "11375503  2022         BEL       Belgium         NOR        Norway  960899   \n",
       "\n",
       "                                               product_name  hs_revision  \\\n",
       "0                             Oats, rolled or flaked grains            5   \n",
       "1                      Cereals, rolled or flaked grains nes            5   \n",
       "2          Maize (corn), hulled, pearled, sliced or kibbled            5   \n",
       "3           Cereals, hulled, pearled, sliced or kibbled nes            5   \n",
       "4          Germ of cereals, whole, rolled, flaked or ground            5   \n",
       "...                                                     ...          ...   \n",
       "11375499                                    Ball point pens            5   \n",
       "11375500  Felt tipped, other porous-tipped pens and markers            5   \n",
       "11375501          Pens: fountain, stylograph and other pens            5   \n",
       "11375502                Sets of mixed types of pens/pencils            5   \n",
       "11375503  Duplicating stylos, pen/pencil holders, pen parts            5   \n",
       "\n",
       "           value  quantity unit_abbrevation    unit_name  price_per_unit  \n",
       "0          328.0     0.019               mt  Metric Tons    17263.157895  \n",
       "1           54.0     0.026               mt  Metric Tons     2076.923077  \n",
       "2          690.0     1.022               mt  Metric Tons      675.146771  \n",
       "3          159.0     0.061               mt  Metric Tons     2606.557377  \n",
       "4          219.0     0.184               mt  Metric Tons     1190.217391  \n",
       "...          ...       ...              ...          ...             ...  \n",
       "11375499  1579.0     0.105               mt  Metric Tons    15038.095238  \n",
       "11375500  2208.0     0.099               mt  Metric Tons    22303.030303  \n",
       "11375501   156.0     0.018               mt  Metric Tons     8666.666667  \n",
       "11375502    38.0     0.001               mt  Metric Tons    38000.000000  \n",
       "11375503   644.0     0.007               mt  Metric Tons    92000.000000  \n",
       "\n",
       "[11375504 rows x 13 columns]"
      ]
     },
     "execution_count": 11,
     "metadata": {},
     "output_type": "execute_result"
    }
   ],
   "source": [
    "pd_df.assign(price_per_unit=(pd_df[\"value\"] / pd_df[\"quantity\"]))"
   ]
  },
  {
   "cell_type": "code",
   "execution_count": null,
   "metadata": {},
   "outputs": [
    {
     "name": "stdout",
     "output_type": "stream",
     "text": [
      "[(col(\"value\")) / (col(\"quantity\"))].alias(\"price_per_unit\")\n"
     ]
    },
    {
     "data": {
      "text/html": [
       "<div><style>\n",
       ".dataframe > thead > tr,\n",
       ".dataframe > tbody > tr {\n",
       "  text-align: right;\n",
       "  white-space: pre-wrap;\n",
       "}\n",
       "</style>\n",
       "<small>shape: (11_375_504, 13)</small><table border=\"1\" class=\"dataframe\"><thead><tr><th>year</th><th>exporter_id</th><th>exporter_name</th><th>importer_id</th><th>importer_name</th><th>hs_code</th><th>product_name</th><th>hs_revision</th><th>value</th><th>quantity</th><th>unit_abbrevation</th><th>unit_name</th><th>price_per_unit</th></tr><tr><td>i64</td><td>str</td><td>str</td><td>str</td><td>str</td><td>str</td><td>str</td><td>i64</td><td>f64</td><td>f64</td><td>str</td><td>str</td><td>f64</td></tr></thead><tbody><tr><td>2022</td><td>&quot;BEL&quot;</td><td>&quot;Belgium&quot;</td><td>&quot;POL&quot;</td><td>&quot;Poland&quot;</td><td>&quot;110412&quot;</td><td>&quot;Oats, rolled or flaked grains&quot;</td><td>5</td><td>328.0</td><td>0.019</td><td>&quot;mt&quot;</td><td>&quot;Metric Tons&quot;</td><td>17263.157895</td></tr><tr><td>2022</td><td>&quot;BEL&quot;</td><td>&quot;Belgium&quot;</td><td>&quot;POL&quot;</td><td>&quot;Poland&quot;</td><td>&quot;110419&quot;</td><td>&quot;Cereals, rolled or flaked grai…</td><td>5</td><td>54.0</td><td>0.026</td><td>&quot;mt&quot;</td><td>&quot;Metric Tons&quot;</td><td>2076.923077</td></tr><tr><td>2022</td><td>&quot;BEL&quot;</td><td>&quot;Belgium&quot;</td><td>&quot;POL&quot;</td><td>&quot;Poland&quot;</td><td>&quot;110423&quot;</td><td>&quot;Maize (corn), hulled, pearled,…</td><td>5</td><td>690.0</td><td>1.022</td><td>&quot;mt&quot;</td><td>&quot;Metric Tons&quot;</td><td>675.146771</td></tr><tr><td>2022</td><td>&quot;BEL&quot;</td><td>&quot;Belgium&quot;</td><td>&quot;POL&quot;</td><td>&quot;Poland&quot;</td><td>&quot;110429&quot;</td><td>&quot;Cereals, hulled, pearled, slic…</td><td>5</td><td>159.0</td><td>0.061</td><td>&quot;mt&quot;</td><td>&quot;Metric Tons&quot;</td><td>2606.557377</td></tr><tr><td>2022</td><td>&quot;BEL&quot;</td><td>&quot;Belgium&quot;</td><td>&quot;POL&quot;</td><td>&quot;Poland&quot;</td><td>&quot;110430&quot;</td><td>&quot;Germ of cereals, whole, rolled…</td><td>5</td><td>219.0</td><td>0.184</td><td>&quot;mt&quot;</td><td>&quot;Metric Tons&quot;</td><td>1190.217391</td></tr><tr><td>&hellip;</td><td>&hellip;</td><td>&hellip;</td><td>&hellip;</td><td>&hellip;</td><td>&hellip;</td><td>&hellip;</td><td>&hellip;</td><td>&hellip;</td><td>&hellip;</td><td>&hellip;</td><td>&hellip;</td><td>&hellip;</td></tr><tr><td>2022</td><td>&quot;BEL&quot;</td><td>&quot;Belgium&quot;</td><td>&quot;NOR&quot;</td><td>&quot;Norway&quot;</td><td>&quot;960810&quot;</td><td>&quot;Ball point pens&quot;</td><td>5</td><td>1579.0</td><td>0.105</td><td>&quot;mt&quot;</td><td>&quot;Metric Tons&quot;</td><td>15038.095238</td></tr><tr><td>2022</td><td>&quot;BEL&quot;</td><td>&quot;Belgium&quot;</td><td>&quot;NOR&quot;</td><td>&quot;Norway&quot;</td><td>&quot;960820&quot;</td><td>&quot;Felt tipped, other porous-tipp…</td><td>5</td><td>2208.0</td><td>0.099</td><td>&quot;mt&quot;</td><td>&quot;Metric Tons&quot;</td><td>22303.030303</td></tr><tr><td>2022</td><td>&quot;BEL&quot;</td><td>&quot;Belgium&quot;</td><td>&quot;NOR&quot;</td><td>&quot;Norway&quot;</td><td>&quot;960830&quot;</td><td>&quot;Pens: fountain, stylograph and…</td><td>5</td><td>156.0</td><td>0.018</td><td>&quot;mt&quot;</td><td>&quot;Metric Tons&quot;</td><td>8666.666667</td></tr><tr><td>2022</td><td>&quot;BEL&quot;</td><td>&quot;Belgium&quot;</td><td>&quot;NOR&quot;</td><td>&quot;Norway&quot;</td><td>&quot;960850&quot;</td><td>&quot;Sets of mixed types of pens/pe…</td><td>5</td><td>38.0</td><td>0.001</td><td>&quot;mt&quot;</td><td>&quot;Metric Tons&quot;</td><td>38000.0</td></tr><tr><td>2022</td><td>&quot;BEL&quot;</td><td>&quot;Belgium&quot;</td><td>&quot;NOR&quot;</td><td>&quot;Norway&quot;</td><td>&quot;960899&quot;</td><td>&quot;Duplicating stylos, pen/pencil…</td><td>5</td><td>644.0</td><td>0.007</td><td>&quot;mt&quot;</td><td>&quot;Metric Tons&quot;</td><td>92000.0</td></tr></tbody></table></div>"
      ],
      "text/plain": [
       "shape: (11_375_504, 13)\n",
       "┌──────┬────────────┬────────────┬────────────┬───┬──────────┬────────────┬────────────┬───────────┐\n",
       "│ year ┆ exporter_i ┆ exporter_n ┆ importer_i ┆ … ┆ quantity ┆ unit_abbre ┆ unit_name  ┆ price_per │\n",
       "│ ---  ┆ d          ┆ ame        ┆ d          ┆   ┆ ---      ┆ vation     ┆ ---        ┆ _unit     │\n",
       "│ i64  ┆ ---        ┆ ---        ┆ ---        ┆   ┆ f64      ┆ ---        ┆ str        ┆ ---       │\n",
       "│      ┆ str        ┆ str        ┆ str        ┆   ┆          ┆ str        ┆            ┆ f64       │\n",
       "╞══════╪════════════╪════════════╪════════════╪═══╪══════════╪════════════╪════════════╪═══════════╡\n",
       "│ 2022 ┆ BEL        ┆ Belgium    ┆ POL        ┆ … ┆ 0.019    ┆ mt         ┆ Metric     ┆ 17263.157 │\n",
       "│      ┆            ┆            ┆            ┆   ┆          ┆            ┆ Tons       ┆ 895       │\n",
       "│ 2022 ┆ BEL        ┆ Belgium    ┆ POL        ┆ … ┆ 0.026    ┆ mt         ┆ Metric     ┆ 2076.9230 │\n",
       "│      ┆            ┆            ┆            ┆   ┆          ┆            ┆ Tons       ┆ 77        │\n",
       "│ 2022 ┆ BEL        ┆ Belgium    ┆ POL        ┆ … ┆ 1.022    ┆ mt         ┆ Metric     ┆ 675.14677 │\n",
       "│      ┆            ┆            ┆            ┆   ┆          ┆            ┆ Tons       ┆ 1         │\n",
       "│ 2022 ┆ BEL        ┆ Belgium    ┆ POL        ┆ … ┆ 0.061    ┆ mt         ┆ Metric     ┆ 2606.5573 │\n",
       "│      ┆            ┆            ┆            ┆   ┆          ┆            ┆ Tons       ┆ 77        │\n",
       "│ 2022 ┆ BEL        ┆ Belgium    ┆ POL        ┆ … ┆ 0.184    ┆ mt         ┆ Metric     ┆ 1190.2173 │\n",
       "│      ┆            ┆            ┆            ┆   ┆          ┆            ┆ Tons       ┆ 91        │\n",
       "│ …    ┆ …          ┆ …          ┆ …          ┆ … ┆ …        ┆ …          ┆ …          ┆ …         │\n",
       "│ 2022 ┆ BEL        ┆ Belgium    ┆ NOR        ┆ … ┆ 0.105    ┆ mt         ┆ Metric     ┆ 15038.095 │\n",
       "│      ┆            ┆            ┆            ┆   ┆          ┆            ┆ Tons       ┆ 238       │\n",
       "│ 2022 ┆ BEL        ┆ Belgium    ┆ NOR        ┆ … ┆ 0.099    ┆ mt         ┆ Metric     ┆ 22303.030 │\n",
       "│      ┆            ┆            ┆            ┆   ┆          ┆            ┆ Tons       ┆ 303       │\n",
       "│ 2022 ┆ BEL        ┆ Belgium    ┆ NOR        ┆ … ┆ 0.018    ┆ mt         ┆ Metric     ┆ 8666.6666 │\n",
       "│      ┆            ┆            ┆            ┆   ┆          ┆            ┆ Tons       ┆ 67        │\n",
       "│ 2022 ┆ BEL        ┆ Belgium    ┆ NOR        ┆ … ┆ 0.001    ┆ mt         ┆ Metric     ┆ 38000.0   │\n",
       "│      ┆            ┆            ┆            ┆   ┆          ┆            ┆ Tons       ┆           │\n",
       "│ 2022 ┆ BEL        ┆ Belgium    ┆ NOR        ┆ … ┆ 0.007    ┆ mt         ┆ Metric     ┆ 92000.0   │\n",
       "│      ┆            ┆            ┆            ┆   ┆          ┆            ┆ Tons       ┆           │\n",
       "└──────┴────────────┴────────────┴────────────┴───┴──────────┴────────────┴────────────┴───────────┘"
      ]
     },
     "execution_count": 35,
     "metadata": {},
     "output_type": "execute_result"
    }
   ],
   "source": [
    "pl_df.with_columns((pl.col(\"value\") / pl.col(\"quantity\")).alias(\"price_per_unit\"))\n",
    "\n",
    "ppu_exprs = (pl.col(\"value\") / pl.col(\"quantity\")).alias(\"price_per_unit\")\n",
    "print(ppu_exprs)\n",
    "pl_df.with_columns(ppu_exprs)"
   ]
  },
  {
   "cell_type": "markdown",
   "metadata": {},
   "source": [
    "### Complex Query\n",
    "\n",
    "1. filter `exporter_id` contains \"A|B\"  \n",
    "& (`product_name`) starts OR ends with \"s\"\n",
    "\n",
    "2. add a `price_per_unit` column\n",
    "\n",
    "3. group by `[\"year\", \"exporter_id\", \"importer_id\"]`\n",
    "\n",
    "4. sum `value`"
   ]
  },
  {
   "cell_type": "code",
   "execution_count": 25,
   "metadata": {},
   "outputs": [],
   "source": [
    "def complex_query_pd(df: pd.DataFrame) -> pd.DataFrame:\n",
    "    return (\n",
    "        df[\n",
    "            df[\"exporter_id\"].str.contains(\"A|B\")\n",
    "            & (\n",
    "                df[\"product_name\"].str.endswith(\"s\")\n",
    "                | df[\"product_name\"].str.startswith(\"s\")\n",
    "            )\n",
    "        ]\n",
    "        .assign(price_per_unit=(pd_df[\"value\"] / pd_df[\"quantity\"]))\n",
    "        .groupby([\"year\", \"exporter_id\", \"importer_id\"])\n",
    "        .agg({\"value\": \"sum\"})\n",
    "    )"
   ]
  },
  {
   "cell_type": "code",
   "execution_count": 26,
   "metadata": {},
   "outputs": [
    {
     "data": {
      "text/html": [
       "<div>\n",
       "<style scoped>\n",
       "    .dataframe tbody tr th:only-of-type {\n",
       "        vertical-align: middle;\n",
       "    }\n",
       "\n",
       "    .dataframe tbody tr th {\n",
       "        vertical-align: top;\n",
       "    }\n",
       "\n",
       "    .dataframe thead th {\n",
       "        text-align: right;\n",
       "    }\n",
       "</style>\n",
       "<table border=\"1\" class=\"dataframe\">\n",
       "  <thead>\n",
       "    <tr style=\"text-align: right;\">\n",
       "      <th></th>\n",
       "      <th></th>\n",
       "      <th></th>\n",
       "      <th>value</th>\n",
       "    </tr>\n",
       "    <tr>\n",
       "      <th>year</th>\n",
       "      <th>exporter_id</th>\n",
       "      <th>importer_id</th>\n",
       "      <th></th>\n",
       "    </tr>\n",
       "  </thead>\n",
       "  <tbody>\n",
       "    <tr>\n",
       "      <th rowspan=\"11\" valign=\"top\">2022</th>\n",
       "      <th rowspan=\"5\" valign=\"top\">ABW</th>\n",
       "      <th>ARE</th>\n",
       "      <td>154217.0</td>\n",
       "    </tr>\n",
       "    <tr>\n",
       "      <th>ARG</th>\n",
       "      <td>17.0</td>\n",
       "    </tr>\n",
       "    <tr>\n",
       "      <th>AUT</th>\n",
       "      <td>97308.0</td>\n",
       "    </tr>\n",
       "    <tr>\n",
       "      <th>BEL</th>\n",
       "      <td>57272.0</td>\n",
       "    </tr>\n",
       "    <tr>\n",
       "      <th>BGR</th>\n",
       "      <td>553.0</td>\n",
       "    </tr>\n",
       "    <tr>\n",
       "      <th>...</th>\n",
       "      <th>...</th>\n",
       "      <td>...</td>\n",
       "    </tr>\n",
       "    <tr>\n",
       "      <th rowspan=\"5\" valign=\"top\">ZMB</th>\n",
       "      <th>USA</th>\n",
       "      <td>6299784.0</td>\n",
       "    </tr>\n",
       "    <tr>\n",
       "      <th>VNM</th>\n",
       "      <td>10214188.0</td>\n",
       "    </tr>\n",
       "    <tr>\n",
       "      <th>ZAF</th>\n",
       "      <td>52192870.0</td>\n",
       "    </tr>\n",
       "    <tr>\n",
       "      <th>ZWE</th>\n",
       "      <td>72761055.0</td>\n",
       "    </tr>\n",
       "    <tr>\n",
       "      <th>\\N</th>\n",
       "      <td>66323218.0</td>\n",
       "    </tr>\n",
       "  </tbody>\n",
       "</table>\n",
       "<p>9621 rows × 1 columns</p>\n",
       "</div>"
      ],
      "text/plain": [
       "                                   value\n",
       "year exporter_id importer_id            \n",
       "2022 ABW         ARE            154217.0\n",
       "                 ARG                17.0\n",
       "                 AUT             97308.0\n",
       "                 BEL             57272.0\n",
       "                 BGR               553.0\n",
       "...                                  ...\n",
       "     ZMB         USA           6299784.0\n",
       "                 VNM          10214188.0\n",
       "                 ZAF          52192870.0\n",
       "                 ZWE          72761055.0\n",
       "                 \\N           66323218.0\n",
       "\n",
       "[9621 rows x 1 columns]"
      ]
     },
     "execution_count": 26,
     "metadata": {},
     "output_type": "execute_result"
    }
   ],
   "source": [
    "pd_df.pipe(complex_query_pd)"
   ]
  },
  {
   "cell_type": "code",
   "execution_count": 37,
   "metadata": {},
   "outputs": [],
   "source": [
    "def complex_query_pl(df: pl.DataFrame) -> pl.DataFrame:\n",
    "    return (\n",
    "        df.filter(\n",
    "            (pl.col(\"exporter_id\").str.contains(\"A|B\"))\n",
    "            & (\n",
    "                pl.col(\"product_name\").str.ends_with(\"s\")\n",
    "                | pl.col(\"product_name\").str.starts_with(\"s\")\n",
    "            )\n",
    "        )\n",
    "        .with_columns(price_per_unit=(pl.col(\"value\") / pl.col(\"quantity\")))\n",
    "        .group_by([\"year\", \"exporter_id\", \"importer_id\"])\n",
    "        .agg(pl.col(\"value\").sum())\n",
    "    )"
   ]
  },
  {
   "cell_type": "code",
   "execution_count": 38,
   "metadata": {},
   "outputs": [
    {
     "data": {
      "text/html": [
       "<div><style>\n",
       ".dataframe > thead > tr,\n",
       ".dataframe > tbody > tr {\n",
       "  text-align: right;\n",
       "  white-space: pre-wrap;\n",
       "}\n",
       "</style>\n",
       "<small>shape: (9_621, 4)</small><table border=\"1\" class=\"dataframe\"><thead><tr><th>year</th><th>exporter_id</th><th>importer_id</th><th>value</th></tr><tr><td>i64</td><td>str</td><td>str</td><td>f64</td></tr></thead><tbody><tr><td>2022</td><td>&quot;BES&quot;</td><td>&quot;SVN&quot;</td><td>191.0</td></tr><tr><td>2022</td><td>&quot;PAK&quot;</td><td>&quot;ZWE&quot;</td><td>741422.0</td></tr><tr><td>2022</td><td>&quot;ZAF&quot;</td><td>&quot;SVN&quot;</td><td>3.2771337e7</td></tr><tr><td>2022</td><td>&quot;BRA&quot;</td><td>&quot;MSR&quot;</td><td>10505.0</td></tr><tr><td>2022</td><td>&quot;LAO&quot;</td><td>&quot;ECU&quot;</td><td>234187.0</td></tr><tr><td>&hellip;</td><td>&hellip;</td><td>&hellip;</td><td>&hellip;</td></tr><tr><td>2022</td><td>&quot;LVA&quot;</td><td>&quot;PRY&quot;</td><td>1.3181e7</td></tr><tr><td>2022</td><td>&quot;ITA&quot;</td><td>&quot;NLD&quot;</td><td>6.7360e9</td></tr><tr><td>2022</td><td>&quot;BRA&quot;</td><td>&quot;KOR&quot;</td><td>9.6472e8</td></tr><tr><td>2022</td><td>&quot;AGO&quot;</td><td>&quot;COM&quot;</td><td>920.0</td></tr><tr><td>2022</td><td>&quot;AIA&quot;</td><td>&quot;CZE&quot;</td><td>96661.0</td></tr></tbody></table></div>"
      ],
      "text/plain": [
       "shape: (9_621, 4)\n",
       "┌──────┬─────────────┬─────────────┬─────────────┐\n",
       "│ year ┆ exporter_id ┆ importer_id ┆ value       │\n",
       "│ ---  ┆ ---         ┆ ---         ┆ ---         │\n",
       "│ i64  ┆ str         ┆ str         ┆ f64         │\n",
       "╞══════╪═════════════╪═════════════╪═════════════╡\n",
       "│ 2022 ┆ BES         ┆ SVN         ┆ 191.0       │\n",
       "│ 2022 ┆ PAK         ┆ ZWE         ┆ 741422.0    │\n",
       "│ 2022 ┆ ZAF         ┆ SVN         ┆ 3.2771337e7 │\n",
       "│ 2022 ┆ BRA         ┆ MSR         ┆ 10505.0     │\n",
       "│ 2022 ┆ LAO         ┆ ECU         ┆ 234187.0    │\n",
       "│ …    ┆ …           ┆ …           ┆ …           │\n",
       "│ 2022 ┆ LVA         ┆ PRY         ┆ 1.3181e7    │\n",
       "│ 2022 ┆ ITA         ┆ NLD         ┆ 6.7360e9    │\n",
       "│ 2022 ┆ BRA         ┆ KOR         ┆ 9.6472e8    │\n",
       "│ 2022 ┆ AGO         ┆ COM         ┆ 920.0       │\n",
       "│ 2022 ┆ AIA         ┆ CZE         ┆ 96661.0     │\n",
       "└──────┴─────────────┴─────────────┴─────────────┘"
      ]
     },
     "execution_count": 38,
     "metadata": {},
     "output_type": "execute_result"
    }
   ],
   "source": [
    "complex_query_pl(pl_df)"
   ]
  },
  {
   "cell_type": "markdown",
   "metadata": {},
   "source": [
    "### Complex Query — Lazy!?"
   ]
  },
  {
   "cell_type": "code",
   "execution_count": 5,
   "metadata": {},
   "outputs": [],
   "source": [
    "def complex_query_pl_lf(lf: pl.LazyFrame) -> pl.LazyFrame:\n",
    "    return (\n",
    "        lf.filter(\n",
    "            (pl.col(\"exporter_id\").str.contains(\"A|B\"))\n",
    "            & (\n",
    "                pl.col(\"product_name\").str.ends_with(\"s\")\n",
    "                | pl.col(\"product_name\").str.starts_with(\"s\")\n",
    "            )\n",
    "        )\n",
    "        .with_columns(price_per_unit=(pl.col(\"value\") / pl.col(\"quantity\")))\n",
    "        .group_by([\"year\", \"exporter_id\", \"importer_id\"])\n",
    "        .agg(pl.col(\"value\").sum())\n",
    "    )"
   ]
  },
  {
   "cell_type": "code",
   "execution_count": 47,
   "metadata": {},
   "outputs": [],
   "source": [
    "complex_query_output_lf = complex_query_pl_lf(pl_df.lazy())"
   ]
  },
  {
   "cell_type": "code",
   "execution_count": 53,
   "metadata": {},
   "outputs": [
    {
     "name": "stdout",
     "output_type": "stream",
     "text": [
      "naive plan: (run LazyFrame.explain(optimized=True) to see the optimized plan)\n",
      "\n",
      "AGGREGATE\n",
      "  [col(\"value\").sum()] BY [col(\"year\"), col(\"exporter_id\"), col(\"importer_id\")]\n",
      "  FROM\n",
      "   WITH_COLUMNS:\n",
      "   [[(col(\"value\")) / (col(\"quantity\"))].alias(\"price_per_unit\")] \n",
      "    FILTER col(\"exporter_id\").str.contains([\"A|B\"])\n",
      "    FROM\n",
      "      FILTER [(col(\"product_name\").str.ends_with([\"s\"])) | (col(\"product_name\").str.starts_with([\"s\"]))]\n",
      "      FROM\n",
      "        DF [\"year\", \"exporter_id\", \"exporter_name\", \"importer_id\", ...]; PROJECT */12 COLUMNS\n"
     ]
    }
   ],
   "source": [
    "print(complex_query_output_lf)"
   ]
  },
  {
   "cell_type": "code",
   "execution_count": 55,
   "metadata": {},
   "outputs": [
    {
     "data": {
      "text/html": [
       "<h4>NAIVE QUERY PLAN</h4><p>run <b>LazyFrame.show_graph()</b> to see the optimized version</p><?xml version=\"1.0\" encoding=\"UTF-8\" standalone=\"no\"?>\n",
       "<!DOCTYPE svg PUBLIC \"-//W3C//DTD SVG 1.1//EN\"\n",
       " \"http://www.w3.org/Graphics/SVG/1.1/DTD/svg11.dtd\">\n",
       "<!-- Generated by graphviz version 12.2.0 (20241103.1931)\n",
       " -->\n",
       "<!-- Title: polars_query Pages: 1 -->\n",
       "<svg width=\"590pt\" height=\"359pt\"\n",
       " viewBox=\"0.00 0.00 589.50 358.50\" xmlns=\"http://www.w3.org/2000/svg\" xmlns:xlink=\"http://www.w3.org/1999/xlink\">\n",
       "<g id=\"graph0\" class=\"graph\" transform=\"scale(1 1) rotate(0) translate(4 354.5)\">\n",
       "<title>polars_query</title>\n",
       "<polygon fill=\"white\" stroke=\"none\" points=\"-4,4 -4,-354.5 585.5,-354.5 585.5,4 -4,4\"/>\n",
       "<!-- p1 -->\n",
       "<g id=\"node1\" class=\"node\">\n",
       "<title>p1</title>\n",
       "<polygon fill=\"none\" stroke=\"black\" points=\"442,-350.5 139.5,-350.5 139.5,-293 442,-293 442,-350.5\"/>\n",
       "<text text-anchor=\"middle\" x=\"290.75\" y=\"-333.2\" font-family=\"Times,serif\" font-size=\"14.00\">AGG [col(&quot;value&quot;).sum()]</text>\n",
       "<text text-anchor=\"middle\" x=\"290.75\" y=\"-316.7\" font-family=\"Times,serif\" font-size=\"14.00\">BY</text>\n",
       "<text text-anchor=\"middle\" x=\"290.75\" y=\"-300.2\" font-family=\"Times,serif\" font-size=\"14.00\">[col(&quot;year&quot;), col(&quot;exporter_id&quot;), col(&quot;importer_id&quot;)]</text>\n",
       "</g>\n",
       "<!-- p2 -->\n",
       "<g id=\"node2\" class=\"node\">\n",
       "<title>p2</title>\n",
       "<polygon fill=\"none\" stroke=\"black\" points=\"515.88,-257 65.62,-257 65.62,-221 515.88,-221 515.88,-257\"/>\n",
       "<text text-anchor=\"middle\" x=\"290.75\" y=\"-233.95\" font-family=\"Times,serif\" font-size=\"14.00\">WITH COLUMNS [[(col(&quot;value&quot;)) / (col(&quot;quantity&quot;))].alias(&quot;price_per_unit&quot;)]</text>\n",
       "</g>\n",
       "<!-- p1&#45;&#45;p2 -->\n",
       "<g id=\"edge1\" class=\"edge\">\n",
       "<title>p1&#45;&#45;p2</title>\n",
       "<path fill=\"none\" stroke=\"black\" d=\"M290.75,-292.51C290.75,-280.68 290.75,-267.33 290.75,-257.04\"/>\n",
       "</g>\n",
       "<!-- p3 -->\n",
       "<g id=\"node3\" class=\"node\">\n",
       "<title>p3</title>\n",
       "<polygon fill=\"none\" stroke=\"black\" points=\"442.75,-185 138.75,-185 138.75,-149 442.75,-149 442.75,-185\"/>\n",
       "<text text-anchor=\"middle\" x=\"290.75\" y=\"-161.95\" font-family=\"Times,serif\" font-size=\"14.00\">FILTER BY col(&quot;exporter_id&quot;).str.contains([&quot;A|B&quot;])</text>\n",
       "</g>\n",
       "<!-- p2&#45;&#45;p3 -->\n",
       "<g id=\"edge2\" class=\"edge\">\n",
       "<title>p2&#45;&#45;p3</title>\n",
       "<path fill=\"none\" stroke=\"black\" d=\"M290.75,-220.7C290.75,-209.85 290.75,-195.92 290.75,-185.1\"/>\n",
       "</g>\n",
       "<!-- p4 -->\n",
       "<g id=\"node4\" class=\"node\">\n",
       "<title>p4</title>\n",
       "<polygon fill=\"none\" stroke=\"black\" points=\"581.5,-113 0,-113 0,-77 581.5,-77 581.5,-113\"/>\n",
       "<text text-anchor=\"middle\" x=\"290.75\" y=\"-89.95\" font-family=\"Times,serif\" font-size=\"14.00\">FILTER BY [(col(&quot;product_name&quot;).str.ends_with([&quot;s&quot;])) | (col(&quot;product_name&quot;).str.starts_with([&quot;s&quot;]))]</text>\n",
       "</g>\n",
       "<!-- p3&#45;&#45;p4 -->\n",
       "<g id=\"edge3\" class=\"edge\">\n",
       "<title>p3&#45;&#45;p4</title>\n",
       "<path fill=\"none\" stroke=\"black\" d=\"M290.75,-148.7C290.75,-137.85 290.75,-123.92 290.75,-113.1\"/>\n",
       "</g>\n",
       "<!-- p5 -->\n",
       "<g id=\"node5\" class=\"node\">\n",
       "<title>p5</title>\n",
       "<polygon fill=\"none\" stroke=\"black\" points=\"320.5,-41 261,-41 261,0 320.5,0 320.5,-41\"/>\n",
       "<text text-anchor=\"middle\" x=\"290.75\" y=\"-23.7\" font-family=\"Times,serif\" font-size=\"14.00\">TABLE</text>\n",
       "<text text-anchor=\"middle\" x=\"290.75\" y=\"-7.2\" font-family=\"Times,serif\" font-size=\"14.00\">π */12</text>\n",
       "</g>\n",
       "<!-- p4&#45;&#45;p5 -->\n",
       "<g id=\"edge4\" class=\"edge\">\n",
       "<title>p4&#45;&#45;p5</title>\n",
       "<path fill=\"none\" stroke=\"black\" d=\"M290.75,-76.82C290.75,-66.18 290.75,-52.49 290.75,-41.38\"/>\n",
       "</g>\n",
       "</g>\n",
       "</svg>\n"
      ],
      "text/plain": [
       "<LazyFrame at 0x3F7653F80>"
      ]
     },
     "execution_count": 55,
     "metadata": {},
     "output_type": "execute_result"
    }
   ],
   "source": [
    "complex_query_output_lf"
   ]
  },
  {
   "cell_type": "code",
   "execution_count": 51,
   "metadata": {},
   "outputs": [
    {
     "data": {
      "image/svg+xml": [
       "<svg xmlns=\"http://www.w3.org/2000/svg\" xmlns:xlink=\"http://www.w3.org/1999/xlink\" width=\"852pt\" height=\"215pt\" viewBox=\"0.00 0.00 852.00 214.50\">\n",
       "<g id=\"graph0\" class=\"graph\" transform=\"scale(1 1) rotate(0) translate(4 210.5)\">\n",
       "<title>polars_query</title>\n",
       "<polygon fill=\"white\" stroke=\"none\" points=\"-4,4 -4,-210.5 848,-210.5 848,4 -4,4\"/>\n",
       "<!-- p1 -->\n",
       "<g id=\"node1\" class=\"node\">\n",
       "<title>p1</title>\n",
       "<polygon fill=\"none\" stroke=\"black\" points=\"573.25,-206.5 270.75,-206.5 270.75,-149 573.25,-149 573.25,-206.5\"/>\n",
       "<text text-anchor=\"middle\" x=\"422\" y=\"-189.2\" font-family=\"Times,serif\" font-size=\"14.00\">AGG [col(&quot;value&quot;).sum()]</text>\n",
       "<text text-anchor=\"middle\" x=\"422\" y=\"-172.7\" font-family=\"Times,serif\" font-size=\"14.00\">BY</text>\n",
       "<text text-anchor=\"middle\" x=\"422\" y=\"-156.2\" font-family=\"Times,serif\" font-size=\"14.00\">[col(&quot;year&quot;), col(&quot;exporter_id&quot;), col(&quot;importer_id&quot;)]</text>\n",
       "</g>\n",
       "<!-- p2 -->\n",
       "<g id=\"node2\" class=\"node\">\n",
       "<title>p2</title>\n",
       "<polygon fill=\"none\" stroke=\"black\" points=\"844,-113 0,-113 0,-77 844,-77 844,-113\"/>\n",
       "<text text-anchor=\"middle\" x=\"422\" y=\"-89.95\" font-family=\"Times,serif\" font-size=\"14.00\">FILTER BY [(col(&quot;exporter_id&quot;).str.contains([&quot;A|B&quot;])) &amp; ([(col(&quot;product_name&quot;).str.ends_with([&quot;s&quot;])) | (col(&quot;product_name&quot;).str.starts_with([&quot;s&quot;]))])]</text>\n",
       "</g>\n",
       "<!-- p1&#45;&#45;p2 -->\n",
       "<g id=\"edge1\" class=\"edge\">\n",
       "<title>p1--p2</title>\n",
       "<path fill=\"none\" stroke=\"black\" d=\"M422,-148.51C422,-136.68 422,-123.33 422,-113.04\"/>\n",
       "</g>\n",
       "<!-- p3 -->\n",
       "<g id=\"node3\" class=\"node\">\n",
       "<title>p3</title>\n",
       "<polygon fill=\"none\" stroke=\"black\" points=\"451.75,-41 392.25,-41 392.25,0 451.75,0 451.75,-41\"/>\n",
       "<text text-anchor=\"middle\" x=\"422\" y=\"-23.7\" font-family=\"Times,serif\" font-size=\"14.00\">TABLE</text>\n",
       "<text text-anchor=\"middle\" x=\"422\" y=\"-7.2\" font-family=\"Times,serif\" font-size=\"14.00\">π 5/12</text>\n",
       "</g>\n",
       "<!-- p2&#45;&#45;p3 -->\n",
       "<g id=\"edge2\" class=\"edge\">\n",
       "<title>p2--p3</title>\n",
       "<path fill=\"none\" stroke=\"black\" d=\"M422,-76.82C422,-66.18 422,-52.49 422,-41.38\"/>\n",
       "</g>\n",
       "</g>\n",
       "</svg>"
      ],
      "text/plain": [
       "<IPython.core.display.SVG object>"
      ]
     },
     "metadata": {},
     "output_type": "display_data"
    }
   ],
   "source": [
    "complex_query_output_lf.show_graph()"
   ]
  },
  {
   "cell_type": "code",
   "execution_count": 52,
   "metadata": {},
   "outputs": [
    {
     "data": {
      "text/html": [
       "<div><style>\n",
       ".dataframe > thead > tr,\n",
       ".dataframe > tbody > tr {\n",
       "  text-align: right;\n",
       "  white-space: pre-wrap;\n",
       "}\n",
       "</style>\n",
       "<small>shape: (9_621, 4)</small><table border=\"1\" class=\"dataframe\"><thead><tr><th>year</th><th>exporter_id</th><th>importer_id</th><th>value</th></tr><tr><td>i64</td><td>str</td><td>str</td><td>f64</td></tr></thead><tbody><tr><td>2022</td><td>&quot;LKA&quot;</td><td>&quot;BLZ&quot;</td><td>978436.0</td></tr><tr><td>2022</td><td>&quot;BOL&quot;</td><td>&quot;SWE&quot;</td><td>1.713985e6</td></tr><tr><td>2022</td><td>&quot;ZAF&quot;</td><td>&quot;HRV&quot;</td><td>8.526913e6</td></tr><tr><td>2022</td><td>&quot;LBN&quot;</td><td>&quot;BDI&quot;</td><td>75460.0</td></tr><tr><td>2022</td><td>&quot;AZE&quot;</td><td>&quot;UKR&quot;</td><td>6.557006e6</td></tr><tr><td>&hellip;</td><td>&hellip;</td><td>&hellip;</td><td>&hellip;</td></tr><tr><td>2022</td><td>&quot;CAN&quot;</td><td>&quot;SAU&quot;</td><td>7.30164598e8</td></tr><tr><td>2022</td><td>&quot;JAM&quot;</td><td>&quot;MNE&quot;</td><td>3813.0</td></tr><tr><td>2022</td><td>&quot;BWA&quot;</td><td>&quot;IND&quot;</td><td>533421.0</td></tr><tr><td>2022</td><td>&quot;BRB&quot;</td><td>&quot;GEO&quot;</td><td>65.0</td></tr><tr><td>2022</td><td>&quot;BRB&quot;</td><td>&quot;NAM&quot;</td><td>28712.0</td></tr></tbody></table></div>"
      ],
      "text/plain": [
       "shape: (9_621, 4)\n",
       "┌──────┬─────────────┬─────────────┬──────────────┐\n",
       "│ year ┆ exporter_id ┆ importer_id ┆ value        │\n",
       "│ ---  ┆ ---         ┆ ---         ┆ ---          │\n",
       "│ i64  ┆ str         ┆ str         ┆ f64          │\n",
       "╞══════╪═════════════╪═════════════╪══════════════╡\n",
       "│ 2022 ┆ LKA         ┆ BLZ         ┆ 978436.0     │\n",
       "│ 2022 ┆ BOL         ┆ SWE         ┆ 1.713985e6   │\n",
       "│ 2022 ┆ ZAF         ┆ HRV         ┆ 8.526913e6   │\n",
       "│ 2022 ┆ LBN         ┆ BDI         ┆ 75460.0      │\n",
       "│ 2022 ┆ AZE         ┆ UKR         ┆ 6.557006e6   │\n",
       "│ …    ┆ …           ┆ …           ┆ …            │\n",
       "│ 2022 ┆ CAN         ┆ SAU         ┆ 7.30164598e8 │\n",
       "│ 2022 ┆ JAM         ┆ MNE         ┆ 3813.0       │\n",
       "│ 2022 ┆ BWA         ┆ IND         ┆ 533421.0     │\n",
       "│ 2022 ┆ BRB         ┆ GEO         ┆ 65.0         │\n",
       "│ 2022 ┆ BRB         ┆ NAM         ┆ 28712.0      │\n",
       "└──────┴─────────────┴─────────────┴──────────────┘"
      ]
     },
     "execution_count": 52,
     "metadata": {},
     "output_type": "execute_result"
    }
   ],
   "source": [
    "complex_query_output_lf.collect()"
   ]
  },
  {
   "cell_type": "markdown",
   "metadata": {},
   "source": [
    "### Complex Query — From Disk\n",
    "\n",
    "Repeat the complex query—including reading the data in from disk—but only `\"scan\"` the polars data before performing the complex query"
   ]
  },
  {
   "cell_type": "markdown",
   "metadata": {},
   "source": [
    "#### pandas"
   ]
  },
  {
   "cell_type": "code",
   "execution_count": 59,
   "metadata": {},
   "outputs": [],
   "source": [
    "def complex_query_from_disk_pd() -> pd.DataFrame:\n",
    "    df = pd.read_parquet(DATA_PATH)\n",
    "    return (\n",
    "        df[\n",
    "            df[\"exporter_id\"].str.contains(\"A|B\")\n",
    "            & (\n",
    "                df[\"product_name\"].str.endswith(\"s\")\n",
    "                | df[\"product_name\"].str.startswith(\"s\")\n",
    "            )\n",
    "        ]\n",
    "        .assign(price_per_unit=(pd_df[\"value\"] / pd_df[\"quantity\"]))\n",
    "        .groupby([\"year\", \"exporter_id\", \"importer_id\"])\n",
    "        .agg({\"value\": \"sum\"})\n",
    "    )"
   ]
  },
  {
   "cell_type": "code",
   "execution_count": 62,
   "metadata": {},
   "outputs": [
    {
     "data": {
      "text/html": [
       "<div>\n",
       "<style scoped>\n",
       "    .dataframe tbody tr th:only-of-type {\n",
       "        vertical-align: middle;\n",
       "    }\n",
       "\n",
       "    .dataframe tbody tr th {\n",
       "        vertical-align: top;\n",
       "    }\n",
       "\n",
       "    .dataframe thead th {\n",
       "        text-align: right;\n",
       "    }\n",
       "</style>\n",
       "<table border=\"1\" class=\"dataframe\">\n",
       "  <thead>\n",
       "    <tr style=\"text-align: right;\">\n",
       "      <th></th>\n",
       "      <th></th>\n",
       "      <th></th>\n",
       "      <th>value</th>\n",
       "    </tr>\n",
       "    <tr>\n",
       "      <th>year</th>\n",
       "      <th>exporter_id</th>\n",
       "      <th>importer_id</th>\n",
       "      <th></th>\n",
       "    </tr>\n",
       "  </thead>\n",
       "  <tbody>\n",
       "    <tr>\n",
       "      <th rowspan=\"11\" valign=\"top\">2022</th>\n",
       "      <th rowspan=\"5\" valign=\"top\">ABW</th>\n",
       "      <th>ARE</th>\n",
       "      <td>154217.0</td>\n",
       "    </tr>\n",
       "    <tr>\n",
       "      <th>ARG</th>\n",
       "      <td>17.0</td>\n",
       "    </tr>\n",
       "    <tr>\n",
       "      <th>AUT</th>\n",
       "      <td>97308.0</td>\n",
       "    </tr>\n",
       "    <tr>\n",
       "      <th>BEL</th>\n",
       "      <td>57272.0</td>\n",
       "    </tr>\n",
       "    <tr>\n",
       "      <th>BGR</th>\n",
       "      <td>553.0</td>\n",
       "    </tr>\n",
       "    <tr>\n",
       "      <th>...</th>\n",
       "      <th>...</th>\n",
       "      <td>...</td>\n",
       "    </tr>\n",
       "    <tr>\n",
       "      <th rowspan=\"5\" valign=\"top\">ZMB</th>\n",
       "      <th>USA</th>\n",
       "      <td>6299784.0</td>\n",
       "    </tr>\n",
       "    <tr>\n",
       "      <th>VNM</th>\n",
       "      <td>10214188.0</td>\n",
       "    </tr>\n",
       "    <tr>\n",
       "      <th>ZAF</th>\n",
       "      <td>52192870.0</td>\n",
       "    </tr>\n",
       "    <tr>\n",
       "      <th>ZWE</th>\n",
       "      <td>72761055.0</td>\n",
       "    </tr>\n",
       "    <tr>\n",
       "      <th>\\N</th>\n",
       "      <td>66323218.0</td>\n",
       "    </tr>\n",
       "  </tbody>\n",
       "</table>\n",
       "<p>9621 rows × 1 columns</p>\n",
       "</div>"
      ],
      "text/plain": [
       "                                   value\n",
       "year exporter_id importer_id            \n",
       "2022 ABW         ARE            154217.0\n",
       "                 ARG                17.0\n",
       "                 AUT             97308.0\n",
       "                 BEL             57272.0\n",
       "                 BGR               553.0\n",
       "...                                  ...\n",
       "     ZMB         USA           6299784.0\n",
       "                 VNM          10214188.0\n",
       "                 ZAF          52192870.0\n",
       "                 ZWE          72761055.0\n",
       "                 \\N           66323218.0\n",
       "\n",
       "[9621 rows x 1 columns]"
      ]
     },
     "execution_count": 62,
     "metadata": {},
     "output_type": "execute_result"
    }
   ],
   "source": [
    "complex_query_from_disk_pd()"
   ]
  },
  {
   "cell_type": "markdown",
   "metadata": {},
   "source": [
    "#### polars"
   ]
  },
  {
   "cell_type": "code",
   "execution_count": null,
   "metadata": {},
   "outputs": [],
   "source": [
    "def complex_query_pl_from_disk() -> pl.DataFrame:\n",
    "\n",
    "    plan = (\n",
    "        pl.scan_parquet(DATA_PATH)\n",
    "        .filter(\n",
    "            (pl.col(\"exporter_id\").str.contains(\"A|B\"))\n",
    "            & (\n",
    "                pl.col(\"product_name\").str.ends_with(\"s\")\n",
    "                | pl.col(\"product_name\").str.starts_with(\"s\")\n",
    "            )\n",
    "        )\n",
    "        .with_columns((pl.col(\"value\") / pl.col(\"quantity\")).alias(\"price_per_unit\"))\n",
    "        .group_by([\"year\", \"exporter_id\", \"importer_id\"])\n",
    "        .agg(pl.col(\"value\").sum())\n",
    "    )\n",
    "    return plan.collect()"
   ]
  },
  {
   "cell_type": "code",
   "execution_count": 66,
   "metadata": {},
   "outputs": [
    {
     "data": {
      "text/html": [
       "<div><style>\n",
       ".dataframe > thead > tr,\n",
       ".dataframe > tbody > tr {\n",
       "  text-align: right;\n",
       "  white-space: pre-wrap;\n",
       "}\n",
       "</style>\n",
       "<small>shape: (9_621, 4)</small><table border=\"1\" class=\"dataframe\"><thead><tr><th>year</th><th>exporter_id</th><th>importer_id</th><th>value</th></tr><tr><td>i64</td><td>str</td><td>str</td><td>f64</td></tr></thead><tbody><tr><td>2022</td><td>&quot;KAZ&quot;</td><td>&quot;CIV&quot;</td><td>20732.0</td></tr><tr><td>2022</td><td>&quot;ZAF&quot;</td><td>&quot;BRB&quot;</td><td>1.931807e6</td></tr><tr><td>2022</td><td>&quot;DMA&quot;</td><td>&quot;BRB&quot;</td><td>41227.0</td></tr><tr><td>2022</td><td>&quot;LBR&quot;</td><td>&quot;HUN&quot;</td><td>3894.0</td></tr><tr><td>2022</td><td>&quot;LKA&quot;</td><td>&quot;TJK&quot;</td><td>2667.0</td></tr><tr><td>&hellip;</td><td>&hellip;</td><td>&hellip;</td><td>&hellip;</td></tr><tr><td>2022</td><td>&quot;ARG&quot;</td><td>&quot;AUS&quot;</td><td>5.19318089e8</td></tr><tr><td>2022</td><td>&quot;GHA&quot;</td><td>&quot;DEU&quot;</td><td>1.3665e7</td></tr><tr><td>2022</td><td>&quot;ARE&quot;</td><td>&quot;VEN&quot;</td><td>4.4485678e7</td></tr><tr><td>2022</td><td>&quot;ARE&quot;</td><td>&quot;SUR&quot;</td><td>1.062955e6</td></tr><tr><td>2022</td><td>&quot;BLZ&quot;</td><td>&quot;LTU&quot;</td><td>1230.0</td></tr></tbody></table></div>"
      ],
      "text/plain": [
       "shape: (9_621, 4)\n",
       "┌──────┬─────────────┬─────────────┬──────────────┐\n",
       "│ year ┆ exporter_id ┆ importer_id ┆ value        │\n",
       "│ ---  ┆ ---         ┆ ---         ┆ ---          │\n",
       "│ i64  ┆ str         ┆ str         ┆ f64          │\n",
       "╞══════╪═════════════╪═════════════╪══════════════╡\n",
       "│ 2022 ┆ KAZ         ┆ CIV         ┆ 20732.0      │\n",
       "│ 2022 ┆ ZAF         ┆ BRB         ┆ 1.931807e6   │\n",
       "│ 2022 ┆ DMA         ┆ BRB         ┆ 41227.0      │\n",
       "│ 2022 ┆ LBR         ┆ HUN         ┆ 3894.0       │\n",
       "│ 2022 ┆ LKA         ┆ TJK         ┆ 2667.0       │\n",
       "│ …    ┆ …           ┆ …           ┆ …            │\n",
       "│ 2022 ┆ ARG         ┆ AUS         ┆ 5.19318089e8 │\n",
       "│ 2022 ┆ GHA         ┆ DEU         ┆ 1.3665e7     │\n",
       "│ 2022 ┆ ARE         ┆ VEN         ┆ 4.4485678e7  │\n",
       "│ 2022 ┆ ARE         ┆ SUR         ┆ 1.062955e6   │\n",
       "│ 2022 ┆ BLZ         ┆ LTU         ┆ 1230.0       │\n",
       "└──────┴─────────────┴─────────────┴──────────────┘"
      ]
     },
     "execution_count": 66,
     "metadata": {},
     "output_type": "execute_result"
    }
   ],
   "source": [
    "complex_query_pl_from_disk()"
   ]
  }
 ],
 "metadata": {
  "kernelspec": {
   "display_name": ".venv",
   "language": "python",
   "name": "python3"
  },
  "language_info": {
   "codemirror_mode": {
    "name": "ipython",
    "version": 3
   },
   "file_extension": ".py",
   "mimetype": "text/x-python",
   "name": "python",
   "nbconvert_exporter": "python",
   "pygments_lexer": "ipython3",
   "version": "3.12.7"
  }
 },
 "nbformat": 4,
 "nbformat_minor": 2
}
